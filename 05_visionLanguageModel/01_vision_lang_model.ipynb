{
 "cells": [
  {
   "cell_type": "markdown",
   "metadata": {},
   "source": [
    "# vision model:\n",
    "models that extract data from images.\n",
    "\n",
    "input1 : image\n",
    "input2 : prompt -\"Where is the photographer resting?\""
   ]
  },
  {
   "cell_type": "code",
   "execution_count": null,
   "metadata": {
    "vscode": {
     "languageId": "plaintext"
    }
   },
   "outputs": [],
   "source": [
    "image -> contrastive vision encoder -> linear projection ->embeddingImage\n",
    "\n",
    "prompt -> tokenizer( sentencePiece) ->embedddingPrompt\n",
    "\n",
    "=> concatenated embedding (embeddingImage + embedddingPrompt) -> transformer decoder -> response"
   ]
  },
  {
   "cell_type": "markdown",
   "metadata": {},
   "source": [
    "Each input image will be split into  blocks  of pixels creating a grid; then each block will be converted into an embedding. This embedding is a vector of fixed size.. that will be concenated with tokens' embeddings of  input prompt text i.e. each token will have an embedding just as each block of pixels will have an embedding. then this concatenated vetor will be sent to transformer decoder.\n",
    "\n",
    "![alt text](vision_lang_model_01.png)\n"
   ]
  },
  {
   "cell_type": "markdown",
   "metadata": {},
   "source": []
  },
  {
   "cell_type": "code",
   "execution_count": null,
   "metadata": {
    "vscode": {
     "languageId": "plaintext"
    }
   },
   "outputs": [],
   "source": []
  },
  {
   "cell_type": "code",
   "execution_count": null,
   "metadata": {
    "vscode": {
     "languageId": "plaintext"
    }
   },
   "outputs": [],
   "source": []
  },
  {
   "cell_type": "code",
   "execution_count": null,
   "metadata": {
    "vscode": {
     "languageId": "plaintext"
    }
   },
   "outputs": [],
   "source": []
  },
  {
   "cell_type": "markdown",
   "metadata": {},
   "source": [
    "## Image encoder"
   ]
  },
  {
   "cell_type": "markdown",
   "metadata": {
    "vscode": {
     "languageId": "plaintext"
    }
   },
   "source": [
    "### Contrastive learning\n",
    "\n",
    "![alt text](vision_lang_model_02.png)\n",
    "\n",
    "---\n",
    "\n",
    "\n",
    "**Image encoder is vision transformer**\n",
    "\n",
    "each I1 is in the embedding of image 1\n",
    "\n",
    "\n",
    "**so for n image In with n descriptions Tn, we will get n*n matrix**\n",
    "\n",
    "\n",
    "\n",
    "**we want dot prduct of image It with corresponding description text Tt to give higher value**\n",
    "**and dot product of non corrspnding image and description should be low**\n",
    "***so, we want diagonal to have high values and all non-diagonal low.***"
   ]
  },
  {
   "cell_type": "markdown",
   "metadata": {
    "vscode": {
     "languageId": "plaintext"
    }
   },
   "source": [
    "### what is contrastive learninig?\n",
    "so with contrastive learning we take list of images and a list of corresponding texts; we encoder them and then we want to train text encoer and image encoder to produce embeddings in such a way that dot product of image with its corresponding text is done, it should produce high value and the dot product of image with non-corresponding text should retunr lower value"
   ]
  },
  {
   "cell_type": "code",
   "execution_count": null,
   "metadata": {
    "vscode": {
     "languageId": "plaintext"
    }
   },
   "outputs": [],
   "source": []
  },
  {
   "cell_type": "markdown",
   "metadata": {
    "vscode": {
     "languageId": "plaintext"
    }
   },
   "source": [
    "\n",
    "**What is contrastive learning?**  \n",
    "Contrastive learning is a machine learning technique where we work with pairs of related data, such as images and their corresponding text descriptions. The goal is to train two encoders—a text encoder and an image encoder—so that they generate embeddings (numerical representations) with specific properties:  \n",
    "- The dot product of an image embedding and its corresponding text embedding should be high, indicating strong similarity.  \n",
    "- Conversely, the dot product of an image embedding with a non-corresponding text embedding should be low, indicating dissimilarity.  \n",
    "\n",
    "This approach helps the model learn to associate related data while distinguishing unrelated pairs effectively.  \n",
    "\n",
    "**all non corresponding images are -ve samples**"
   ]
  },
  {
   "cell_type": "markdown",
   "metadata": {},
   "source": []
  },
  {
   "cell_type": "markdown",
   "metadata": {},
   "source": [
    "Here’s a more technical and detailed explanation:  \n",
    "\n",
    "**What is Contrastive Learning?**  \n",
    "Contrastive learning is a representation learning paradigm that trains models by distinguishing between similar and dissimilar data pairs. It is widely used in tasks where the goal is to map data from different modalities (e.g., images and text) into a shared embedding space.  \n",
    "\n",
    "In the context of image-text contrastive learning, the process involves:  \n",
    "\n",
    "1. **Input Data**:  \n",
    "   - A dataset consisting of pairs of images \\( I \\) and their corresponding textual descriptions \\( T \\).  \n",
    "   - The dataset also implicitly includes negative pairs, where an image \\( I \\) is matched with a non-corresponding text \\( T' \\).  \n",
    "\n",
    "2. **Encoders**:  \n",
    "   - An **image encoder** \\( f_I(I) \\): Maps images into a high-dimensional embedding space. This is often a convolutional neural network (e.g., ResNet, Vision Transformer).  \n",
    "   - A **text encoder** \\( f_T(T) \\): Maps text descriptions into the same embedding space. This is often a Transformer-based model (e.g., BERT, RoBERTa).  \n",
    "\n",
    "3. **Objective**:  \n",
    "   - The goal is to learn embeddings \\( \\mathbf{z}_I = f_I(I) \\) for images and \\( \\mathbf{z}_T = f_T(T) \\) for text such that:  \n",
    "     - The **similarity score** (e.g., dot product or cosine similarity) between embeddings of corresponding pairs \\( (\\mathbf{z}_I, \\mathbf{z}_T) \\) is maximized.  \n",
    "     - The similarity score between embeddings of non-corresponding pairs \\( (\\mathbf{z}_I, \\mathbf{z}_{T'}) \\) is minimized.  \n",
    "\n",
    "4. **Loss Function**:  \n",
    "   - A popular loss for contrastive learning is the **InfoNCE loss** (based on Noise Contrastive Estimation):  \n",
    "     \\[\n",
    "     \\mathcal{L} = - \\frac{1}{N} \\sum_{i=1}^{N} \\left[ \\log \\frac{\\exp(\\text{sim}(\\mathbf{z}_{I_i}, \\mathbf{z}_{T_i}) / \\tau)}{\\sum_{j=1}^{N} \\exp(\\text{sim}(\\mathbf{z}_{I_i}, \\mathbf{z}_{T_j}) / \\tau)} \\right]\n",
    "     \\]  \n",
    "     Here:  \n",
    "     - \\( \\text{sim}(\\mathbf{z}_{I}, \\mathbf{z}_{T}) \\) is the similarity measure (e.g., dot product or cosine similarity).  \n",
    "     - \\( \\tau \\) is a temperature hyperparameter that controls the sharpness of the distribution.  \n",
    "     - \\( N \\) is the batch size.  \n",
    "     - The numerator represents the similarity of the positive pair, while the denominator sums over similarities for all pairs in the batch (positive and negative).  \n",
    "\n",
    "5. **Training Dynamics**:  \n",
    "   - The encoders are trained jointly to minimize the contrastive loss. This ensures that embeddings of positive pairs are pulled closer together in the shared embedding space, while embeddings of negative pairs are pushed farther apart.  \n",
    "\n",
    "6. **Applications**:  \n",
    "   - Contrastive learning is foundational in models like **CLIP** (Contrastive Language-Image Pretraining), where it is used to align visual and textual modalities.  \n",
    "   - It is also used in self-supervised learning frameworks (e.g., SimCLR, MoCo) to learn representations without explicit labels by treating augmentations of the same image as positive pairs and different images as negative pairs.  \n",
    "\n",
    "This approach is highly effective for multimodal tasks, enabling downstream applications like image-text retrieval, zero-shot classification, and multimodal embedding alignment.  \n",
    "\n",
    "Let me know if you’d like even more depth on any specific part!"
   ]
  },
  {
   "cell_type": "markdown",
   "metadata": {},
   "source": []
  },
  {
   "cell_type": "markdown",
   "metadata": {},
   "source": []
  },
  {
   "cell_type": "markdown",
   "metadata": {},
   "source": [
    "### WE do this using cross entropy loss in contrastive laerning \n",
    "\n",
    "\n",
    "Using CEloss we can force a number(true label ) to have larger value. we will be cosidering vertical for text and horizontql for images\n",
    "\n",
    "isn't CEloss just like a look up table where only true label value is considered? Remember\n"
   ]
  },
  {
   "cell_type": "markdown",
   "metadata": {},
   "source": []
  },
  {
   "cell_type": "markdown",
   "metadata": {},
   "source": [
    "### Cross-Entropy Loss in Contrastive Learning  \n",
    "\n",
    "In contrastive learning, **Cross-Entropy Loss (CE Loss)** is often employed to enforce alignment between corresponding pairs (e.g., images and texts) and separation between non-corresponding pairs. Here's a detailed explanation:\n",
    "\n",
    "---\n",
    "\n",
    "### **How Cross-Entropy Loss Works in Contrastive Learning**  \n",
    "\n",
    "1. **Embedding Alignment**:  \n",
    "   - We have embeddings for **images** and **texts**. For simplicity:  \n",
    "     - Let \\( \\mathbf{z}_I \\) represent the embedding of an image.  \n",
    "     - Let \\( \\mathbf{z}_T \\) represent the embedding of a text.  \n",
    "   - The similarity between an image-text pair is computed, often using the **dot product** or **cosine similarity**.\n",
    "\n",
    "2. **Similarity Matrix**:  \n",
    "   - For a batch of \\( N \\) image-text pairs, we calculate the similarity scores for all pairs, forming a similarity matrix \\( S \\in \\mathbb{R}^{N \\times N} \\):  \n",
    "     \\[\n",
    "     S[i, j] = \\text{sim}(\\mathbf{z}_{I_i}, \\mathbf{z}_{T_j})\n",
    "     \\]  \n",
    "     - The \\( i^{th} \\) row corresponds to similarities between the \\( i^{th} \\) image and all texts in the batch.  \n",
    "     - The \\( j^{th} \\) column corresponds to similarities between the \\( j^{th} \\) text and all images in the batch.\n",
    "\n",
    "3. **Cross-Entropy Loss Objective**:  \n",
    "   - Cross-Entropy Loss forces the model to focus on the **true labels** by maximizing the similarity score of the corresponding pair (positive pair) while minimizing the similarity scores for non-corresponding pairs (negative pairs).  \n",
    "   - The CE Loss for the image-to-text direction can be written as:  \n",
    "     \\[\n",
    "     \\mathcal{L}_{I \\to T} = - \\frac{1}{N} \\sum_{i=1}^N \\log \\frac{\\exp(S[i, i] / \\tau)}{\\sum_{j=1}^N \\exp(S[i, j] / \\tau)}\n",
    "     \\]  \n",
    "     Similarly, for the text-to-image direction:  \n",
    "     \\[\n",
    "     \\mathcal{L}_{T \\to I} = - \\frac{1}{N} \\sum_{j=1}^N \\log \\frac{\\exp(S[j, j] / \\tau)}{\\sum_{i=1}^N \\exp(S[i, j] / \\tau)}\n",
    "     \\]  \n",
    "     - \\( S[i, i] \\): Similarity of the positive pair (image \\( i \\) with text \\( i \\)).  \n",
    "     - \\( \\tau \\): Temperature parameter controlling sharpness.  \n",
    "     - The numerator focuses on the true label (positive pair), while the denominator aggregates over all possible labels (negative pairs included).\n",
    "\n",
    "4. **Loss Aggregation**:  \n",
    "   - The total loss is a combination of both directions:  \n",
    "     \\[\n",
    "     \\mathcal{L} = \\mathcal{L}_{I \\to T} + \\mathcal{L}_{T \\to I}\n",
    "     \\]  \n",
    "\n",
    "---\n",
    "\n",
    "### **Is Cross-Entropy Loss Like a Lookup Table?**  \n",
    "\n",
    "In a way, **Cross-Entropy Loss acts like a lookup table** because it explicitly focuses on the **true label's score** (the positive pair) while treating other scores as negatives. However, it's more sophisticated than a simple lookup table:  \n",
    "\n",
    "1. **Focus on the True Label**:  \n",
    "   - CE Loss forces the score of the true label (positive pair) to dominate the similarity matrix, making it larger than all other scores.  \n",
    "\n",
    "2. **Gradient-Based Optimization**:  \n",
    "   - Unlike a static lookup table, CE Loss generates gradients for both the positive pair (to increase its similarity) and all negative pairs (to decrease their similarity).  \n",
    "   - This dynamic adjustment ensures that the embeddings are optimized in a shared space.  \n",
    "\n",
    "3. **Batch-Wide Comparison**:  \n",
    "   - CE Loss considers the entire batch for computing the loss, encouraging embeddings to learn relationships relative to all samples in the batch.  \n",
    "\n",
    "---\n",
    "\n",
    "### **\"Vertical for Text and Horizontal for Images\"**  \n",
    "\n",
    "This refers to how we interpret the similarity matrix \\( S \\):  \n",
    "- **Rows (horizontal)**: Each row corresponds to one image and its similarity with all texts.  \n",
    "- **Columns (vertical)**: Each column corresponds to one text and its similarity with all images.  \n",
    "\n",
    "For contrastive learning:  \n",
    "- Each **row** is used to compute the image-to-text loss (\\( \\mathcal{L}_{I \\to T} \\)).  \n",
    "- Each **column** is used to compute the text-to-image loss (\\( \\mathcal{L}_{T \\to I} \\)).  \n",
    "\n",
    "---\n",
    "\n",
    "### Summary  \n",
    "\n",
    "Cross-Entropy Loss in contrastive learning isn't just a lookup table—it’s a dynamic mechanism that enforces alignment for positive pairs and separation for negative pairs across the entire batch. It uses gradients to optimize the embeddings iteratively, ensuring the model learns meaningful relationships between modalities (e.g., images and text)."
   ]
  },
  {
   "cell_type": "markdown",
   "metadata": {},
   "source": []
  },
  {
   "cell_type": "markdown",
   "metadata": {},
   "source": [
    "![alt text](vision_lang_model_03_code.png)"
   ]
  },
  {
   "cell_type": "markdown",
   "metadata": {},
   "source": [
    "**labels = np.arrange(n) beccause of diagonal sequence i.e. 0,1,2,3...**"
   ]
  },
  {
   "cell_type": "markdown",
   "metadata": {},
   "source": []
  },
  {
   "cell_type": "markdown",
   "metadata": {},
   "source": []
  },
  {
   "cell_type": "markdown",
   "metadata": {},
   "source": []
  },
  {
   "cell_type": "markdown",
   "metadata": {},
   "source": []
  },
  {
   "cell_type": "markdown",
   "metadata": {},
   "source": []
  }
 ],
 "metadata": {
  "language_info": {
   "name": "python"
  }
 },
 "nbformat": 4,
 "nbformat_minor": 2
}
