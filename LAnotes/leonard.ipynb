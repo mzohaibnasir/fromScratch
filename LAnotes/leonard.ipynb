{
 "cells": [
  {
   "cell_type": "code",
   "execution_count": null,
   "metadata": {},
   "outputs": [],
   "source": []
  },
  {
   "cell_type": "markdown",
   "metadata": {},
   "source": [
    "function: two inputs can have same input but one input can't have multiple outputs"
   ]
  },
  {
   "cell_type": "markdown",
   "metadata": {},
   "source": [
    "It sounds like you're describing the fundamental properties of a function in mathematics. Let's break down these properties to clarify:\n",
    "\n",
    "Unique Output for Each Input:\n",
    "\n",
    "Definition: In a function, each input is associated with exactly one output. This means that for any given input value, there is only one corresponding output value.\n",
    "Implication: An input cannot produce multiple outputs. If you input a specific value into the function, you'll always get the same result.\n",
    "Different Inputs Can Share the Same Output:\n",
    "\n",
    "Definition: While each input has a unique output, different inputs can produce the same output. This means that two or more distinct input values can map to the same output value.\n",
    "Implication: The function can assign the same output to multiple inputs without violating its definition.\n",
    "Mathematical Definition of a Function: A function \n"
   ]
  },
  {
   "cell_type": "markdown",
   "metadata": {},
   "source": [
    "# underroot(3) with +- is not a function:\n",
    "The expression \\( \\pm\\sqrt{3} \\) is not a function because it violates the requirement that each input must map to exactly one output. Instead, it represents a set of two values, not a single output for an input.\n",
    "\n",
    "# underroot(3) without +- is a function:\n",
    "Yes, the square root of 3 without the ± sign  is a function."
   ]
  },
  {
   "cell_type": "markdown",
   "metadata": {},
   "source": []
  },
  {
   "cell_type": "markdown",
   "metadata": {},
   "source": []
  },
  {
   "cell_type": "markdown",
   "metadata": {},
   "source": []
  },
  {
   "cell_type": "markdown",
   "metadata": {},
   "source": [
    "# Issues with Domain\n",
    "\n",
    "i. numbers in domain that gives you -ve inside sqrt --- cuberrots are fine\n",
    "\n",
    "ii .issue with denominator is that we can never have -ve denominator , 4/0 is undefined"
   ]
  },
  {
   "cell_type": "markdown",
   "metadata": {},
   "source": []
  }
 ],
 "metadata": {
  "language_info": {
   "name": "python"
  }
 },
 "nbformat": 4,
 "nbformat_minor": 2
}
