{
 "cells": [
  {
   "cell_type": "code",
   "execution_count": null,
   "metadata": {},
   "outputs": [],
   "source": []
  },
  {
   "cell_type": "markdown",
   "metadata": {},
   "source": [
    "# matrix multiplication"
   ]
  },
  {
   "cell_type": "code",
   "execution_count": 16,
   "metadata": {},
   "outputs": [
    {
     "name": "stdout",
     "output_type": "stream",
     "text": [
      "Dataset length: 10000\n",
      "Images shape: (10000, 28, 28)\n",
      "Labels shape: (10000,)\n"
     ]
    },
    {
     "data": {
      "image/png": "[encoded data removed]",
      "text/plain": [
       "<Figure size 1500x500 with 5 Axes>"
      ]
     },
     "metadata": {},
     "output_type": "display_data"
    }
   ],
   "source": [
    "import torch\n",
    "import torchvision\n",
    "import torchvision.transforms as transforms\n",
    "import torchvision.datasets as datasets\n",
    "import numpy as np\n",
    "import matplotlib.pyplot as plt\n",
    "\n",
    "# Download and load the MNIST dataset\n",
    "mnist = datasets.MNIST(root=\"./data\", train=False, download=True)\n",
    "\n",
    "# Print the length of the dataset   \n",
    "print(\"Dataset length:\", len(mnist))\n",
    "\n",
    "# Convert the entire dataset to NumPy arrays\n",
    "images_np = []\n",
    "labels_np = []\n",
    "\n",
    "for i in range(len(mnist)):\n",
    "    image, label = mnist[i]\n",
    "    # Convert the image to a NumPy array\n",
    "    image_np = transforms.ToTensor()(image).numpy()[0]\n",
    "    images_np.append(image_np)\n",
    "    labels_np.append(label)\n",
    "\n",
    "# Convert lists to NumPy arrays\n",
    "images_np = np.array(images_np)\n",
    "labels_np = np.array(labels_np)\n",
    "\n",
    "# Print the shapes of the arrays\n",
    "print(\"Images shape:\", images_np.shape)\n",
    "print(\"Labels shape:\", labels_np.shape)\n",
    "\n",
    "# Access the first 5 images and labels\n",
    "first_5_images = images_np[:5]\n",
    "first_5_labels = labels_np[:5]\n",
    "\n",
    "# Plot the first 5 images\n",
    "fig, axes = plt.subplots(1, 5, figsize=(15, 5))\n",
    "\n",
    "for i in range(5):\n",
    "    axes[i].imshow(first_5_images[i], cmap='gray')  # Display in grayscale\n",
    "    axes[i].set_title(f\"Label: {first_5_labels[i]}\")\n",
    "    axes[i].axis('off')  # Turn off axis labels\n",
    "\n",
    "plt.show()\n"
   ]
  },
  {
   "cell_type": "code",
   "execution_count": 17,
   "metadata": {},
   "outputs": [
    {
     "data": {
      "text/plain": [
       "<matplotlib.image.AxesImage at 0x71e7ea7bacd0>"
      ]
     },
     "execution_count": 17,
     "metadata": {},
     "output_type": "execute_result"
    },
    {
     "data": {
      "image/png": "[encoded data removed]",
      "text/plain": [
       "<Figure size 640x480 with 1 Axes>"
      ]
     },
     "metadata": {},
     "output_type": "display_data"
    }
   ],
   "source": [
    "images_np[0].shape\n",
    "plt.imshow(images_np[0])"
   ]
  },
  {
   "cell_type": "markdown",
   "metadata": {},
   "source": [
    "# \"Matrix multiplication\"\n"
   ]
  },
  {
   "cell_type": "code",
   "execution_count": 18,
   "metadata": {},
   "outputs": [],
   "source": [
    "torch.manual_seed(1)\n",
    "weights = torch.randn(784, 10)\n",
    "bias = torch.zeros(10)"
   ]
  },
  {
   "cell_type": "code",
   "execution_count": 19,
   "metadata": {},
   "outputs": [
    {
     "data": {
      "text/plain": [
       "(5, 784)"
      ]
     },
     "execution_count": 19,
     "metadata": {},
     "output_type": "execute_result"
    }
   ],
   "source": [
    "m1 = images_np[:5].reshape(5, -1)\n",
    "m1.shape"
   ]
  },
  {
   "cell_type": "code",
   "execution_count": 20,
   "metadata": {},
   "outputs": [
    {
     "data": {
      "text/plain": [
       "torch.Size([5, 784])"
      ]
     },
     "execution_count": 20,
     "metadata": {},
     "output_type": "execute_result"
    }
   ],
   "source": [
    "torch.tensor(images_np[:5]).view(5, -1).shape\n"
   ]
  },
  {
   "cell_type": "code",
   "execution_count": 21,
   "metadata": {},
   "outputs": [
    {
     "data": {
      "text/plain": [
       "((5, 784), torch.Size([784, 10]))"
      ]
     },
     "execution_count": 21,
     "metadata": {},
     "output_type": "execute_result"
    }
   ],
   "source": [
    "m2 = weights\n",
    "\n",
    "m1.shape, m2.shape"
   ]
  },
  {
   "cell_type": "code",
   "execution_count": 22,
   "metadata": {},
   "outputs": [
    {
     "data": {
      "text/plain": [
       "((5, 784), (784, 10))"
      ]
     },
     "execution_count": 22,
     "metadata": {},
     "output_type": "execute_result"
    }
   ],
   "source": [
    "ar, ac = m1.shape\n",
    "br, bc = m2.shape\n",
    "\n",
    "(ar, ac), (br, bc)"
   ]
  },
  {
   "cell_type": "code",
   "execution_count": 23,
   "metadata": {},
   "outputs": [
    {
     "data": {
      "text/plain": [
       "torch.Size([5, 10])"
      ]
     },
     "execution_count": 23,
     "metadata": {},
     "output_type": "execute_result"
    }
   ],
   "source": [
    "# resultant tensor\n",
    "\n",
    "t1 = torch.zeros(ar, bc)\n",
    "t1.shape"
   ]
  },
  {
   "cell_type": "code",
   "execution_count": 24,
   "metadata": {},
   "outputs": [
    {
     "data": {
      "text/plain": [
       "tensor([[ -9.9532,  -3.8880,  -5.3230,   6.7895,  -5.3972,  -6.1437, -20.9652,\n",
       "           0.1295,  -4.8179,   1.9989],\n",
       "        [ -2.7911,  -5.1074,   2.5032,  -3.7225,  10.4510,  -5.7416,  -5.2013,\n",
       "           0.5966, -22.2556,  18.8180],\n",
       "        [  0.7113,  -3.2732,  -9.6388,   3.6244, -10.4286,  -2.6716, -12.8279,\n",
       "           0.9658,   3.3336,  -1.5013],\n",
       "        [  2.5451,  -1.3300,  -4.7280, -19.5480,  17.2274,  -2.3682, -20.7707,\n",
       "         -11.7523, -37.0048,  13.2327],\n",
       "        [ -8.1555,   0.4993,   1.6285, -11.3670,   8.5295,  -1.0342, -10.2872,\n",
       "         -13.1507,   1.6778,   4.0687]])"
      ]
     },
     "execution_count": 24,
     "metadata": {},
     "output_type": "execute_result"
    }
   ],
   "source": [
    "for i in range(ar): #5 each row one at aa time\n",
    "    for j in range(bc): #10  each column one ata time\n",
    "        for k in range(ac): # 784\n",
    "            t1[i,j] += m1[i, k] * m2[k,j]\n",
    "\n",
    "t1"
   ]
  },
  {
   "cell_type": "code",
   "execution_count": null,
   "metadata": {},
   "outputs": [],
   "source": []
  },
  {
   "cell_type": "code",
   "execution_count": 25,
   "metadata": {},
   "outputs": [
    {
     "name": "stdout",
     "output_type": "stream",
     "text": [
      "CPU times: user 323 ms, sys: 0 ns, total: 323 ms\n",
      "Wall time: 323 ms\n"
     ]
    },
    {
     "data": {
      "text/plain": [
       "tensor([[ -9.9532,  -3.8880,  -5.3230,   6.7895,  -5.3972,  -6.1437, -20.9652,\n",
       "           0.1295,  -4.8179,   1.9989],\n",
       "        [ -2.7911,  -5.1074,   2.5032,  -3.7225,  10.4510,  -5.7416,  -5.2013,\n",
       "           0.5966, -22.2556,  18.8180],\n",
       "        [  0.7113,  -3.2732,  -9.6388,   3.6244, -10.4286,  -2.6716, -12.8279,\n",
       "           0.9658,   3.3336,  -1.5013],\n",
       "        [  2.5451,  -1.3300,  -4.7280, -19.5480,  17.2274,  -2.3682, -20.7707,\n",
       "         -11.7523, -37.0048,  13.2327],\n",
       "        [ -8.1555,   0.4993,   1.6285, -11.3670,   8.5295,  -1.0342, -10.2872,\n",
       "         -13.1507,   1.6778,   4.0687]])"
      ]
     },
     "execution_count": 25,
     "metadata": {},
     "output_type": "execute_result"
    }
   ],
   "source": [
    "def matmul(a,b):\n",
    "    (ar,ac), (br,bc) = a.shape, b.shape\n",
    "    c= torch.zeros(ar,bc)\n",
    "    for i in range(ar): #5 each row one at aa time\n",
    "        for j in range(bc): #10  each column one ata time\n",
    "            for k in range(ac): # 784\n",
    "                c[i,j] += a[i, k] * b[k,j]\n",
    "\n",
    "    return c\n",
    "%time matmul(m1,m2)"
   ]
  },
  {
   "cell_type": "code",
   "execution_count": null,
   "metadata": {},
   "outputs": [],
   "source": []
  },
  {
   "cell_type": "code",
   "execution_count": 26,
   "metadata": {},
   "outputs": [],
   "source": [
    "# numba tak python adn turns it into machime cpde\n",
    "from numba import njit\n",
    "import numpy as np"
   ]
  },
  {
   "cell_type": "code",
   "execution_count": 27,
   "metadata": {},
   "outputs": [],
   "source": [
    "@njit\n",
    "def dot(a,b):\n",
    "    res = 0\n",
    "    for i in range(len(a)): res+=a[i]*b[i]\n",
    "    return res"
   ]
  },
  {
   "cell_type": "code",
   "execution_count": 28,
   "metadata": {},
   "outputs": [
    {
     "name": "stdout",
     "output_type": "stream",
     "text": [
      "CPU times: user 73.8 ms, sys: 0 ns, total: 73.8 ms\n",
      "Wall time: 72.4 ms\n"
     ]
    },
    {
     "data": {
      "text/plain": [
       "14.0"
      ]
     },
     "execution_count": 28,
     "metadata": {},
     "output_type": "execute_result"
    }
   ],
   "source": [
    "%time dot(np.array([1. , 2., 3.]), np.array([1. , 2., 3.]))"
   ]
  },
  {
   "cell_type": "code",
   "execution_count": 29,
   "metadata": {},
   "outputs": [
    {
     "name": "stdout",
     "output_type": "stream",
     "text": [
      "CPU times: user 42 µs, sys: 0 ns, total: 42 µs\n",
      "Wall time: 49.1 µs\n"
     ]
    },
    {
     "data": {
      "text/plain": [
       "14.0"
      ]
     },
     "execution_count": 29,
     "metadata": {},
     "output_type": "execute_result"
    }
   ],
   "source": [
    "%time dot(np.array([1. , 2., 3.]), np.array([1. , 2., 3.]))"
   ]
  },
  {
   "cell_type": "code",
   "execution_count": 38,
   "metadata": {},
   "outputs": [
    {
     "name": "stdout",
     "output_type": "stream",
     "text": [
      "CPU times: user 24 µs, sys: 5 µs, total: 29 µs\n",
      "Wall time: 32.7 µs\n"
     ]
    },
    {
     "data": {
      "text/plain": [
       "10607.0"
      ]
     },
     "execution_count": 38,
     "metadata": {},
     "output_type": "execute_result"
    }
   ],
   "source": [
    "%time dot(np.array([1. , 2., 3.,8., 99.]), np.array([1. , 2., 3.,99.,99.]))"
   ]
  },
  {
   "cell_type": "markdown",
   "metadata": {},
   "source": [
    "# first time it takes  to compile than it works at c's speed"
   ]
  },
  {
   "cell_type": "markdown",
   "metadata": {},
   "source": [
    "now replicate that function"
   ]
  },
  {
   "cell_type": "code",
   "execution_count": 39,
   "metadata": {},
   "outputs": [
    {
     "data": {
      "text/plain": [
       "tensor([[ -9.9532,  -3.8880,  -5.3230,   6.7895,  -5.3972,  -6.1437, -20.9652,\n",
       "           0.1295,  -4.8179,   1.9989],\n",
       "        [ -2.7911,  -5.1074,   2.5032,  -3.7225,  10.4510,  -5.7416,  -5.2013,\n",
       "           0.5966, -22.2556,  18.8180],\n",
       "        [  0.7113,  -3.2732,  -9.6388,   3.6244, -10.4286,  -2.6716, -12.8279,\n",
       "           0.9658,   3.3336,  -1.5013],\n",
       "        [  2.5451,  -1.3300,  -4.7280, -19.5480,  17.2274,  -2.3682, -20.7707,\n",
       "         -11.7523, -37.0048,  13.2327],\n",
       "        [ -8.1555,   0.4993,   1.6285, -11.3670,   8.5295,  -1.0342, -10.2872,\n",
       "         -13.1507,   1.6778,   4.0687]])"
      ]
     },
     "execution_count": 39,
     "metadata": {},
     "output_type": "execute_result"
    }
   ],
   "source": [
    "def matmul_njit(a,b):\n",
    "    (ar,ac), (br,bc) = a.shape, b.shape\n",
    "    c= torch.zeros(ar,bc)\n",
    "    for i in range(ar): #5 each row one at aa time\n",
    "        for j in range(bc): #10  each column one ata time\n",
    "            c[i,j] = dot(a[i, :], b[:,j])\n",
    "\n",
    "    return c\n",
    "# matmul_njit(torch.tensor(m1),torch.tensor(m2))\n",
    "matmul_njit(np.array(m1),np.array(m2))\n",
    "    "
   ]
  },
  {
   "cell_type": "code",
   "execution_count": 68,
   "metadata": {},
   "outputs": [
    {
     "name": "stdout",
     "output_type": "stream",
     "text": [
      "CPU times: user 3.53 ms, sys: 0 ns, total: 3.53 ms\n",
      "Wall time: 2.9 ms\n"
     ]
    },
    {
     "data": {
      "text/plain": [
       "tensor([[ -9.9532,  -3.8880,  -5.3230,   6.7895,  -5.3972,  -6.1437, -20.9652,\n",
       "           0.1295,  -4.8179,   1.9989],\n",
       "        [ -2.7911,  -5.1074,   2.5032,  -3.7225,  10.4510,  -5.7416,  -5.2013,\n",
       "           0.5966, -22.2556,  18.8180],\n",
       "        [  0.7113,  -3.2732,  -9.6388,   3.6244, -10.4286,  -2.6716, -12.8279,\n",
       "           0.9658,   3.3336,  -1.5013],\n",
       "        [  2.5451,  -1.3300,  -4.7280, -19.5480,  17.2274,  -2.3682, -20.7707,\n",
       "         -11.7523, -37.0048,  13.2327],\n",
       "        [ -8.1555,   0.4993,   1.6285, -11.3670,   8.5295,  -1.0342, -10.2872,\n",
       "         -13.1507,   1.6778,   4.0687]])"
      ]
     },
     "execution_count": 68,
     "metadata": {},
     "output_type": "execute_result"
    }
   ],
   "source": [
    "%time matmul_njit(np.array(m1),np.array(m2))\n"
   ]
  },
  {
   "cell_type": "code",
   "execution_count": 69,
   "metadata": {},
   "outputs": [
    {
     "name": "stdout",
     "output_type": "stream",
     "text": [
      "CPU times: user 381 ms, sys: 1.42 ms, total: 382 ms\n",
      "Wall time: 381 ms\n"
     ]
    },
    {
     "data": {
      "text/plain": [
       "tensor([[ -9.9532,  -3.8880,  -5.3230,   6.7895,  -5.3972,  -6.1437, -20.9652,\n",
       "           0.1295,  -4.8179,   1.9989],\n",
       "        [ -2.7911,  -5.1074,   2.5032,  -3.7225,  10.4510,  -5.7416,  -5.2013,\n",
       "           0.5966, -22.2556,  18.8180],\n",
       "        [  0.7113,  -3.2732,  -9.6388,   3.6244, -10.4286,  -2.6716, -12.8279,\n",
       "           0.9658,   3.3336,  -1.5013],\n",
       "        [  2.5451,  -1.3300,  -4.7280, -19.5480,  17.2274,  -2.3682, -20.7707,\n",
       "         -11.7523, -37.0048,  13.2327],\n",
       "        [ -8.1555,   0.4993,   1.6285, -11.3670,   8.5295,  -1.0342, -10.2872,\n",
       "         -13.1507,   1.6778,   4.0687]])"
      ]
     },
     "execution_count": 69,
     "metadata": {},
     "output_type": "execute_result"
    }
   ],
   "source": [
    "%time matmul(np.array(m1),np.array(m2))\n"
   ]
  },
  {
   "cell_type": "code",
   "execution_count": null,
   "metadata": {},
   "outputs": [],
   "source": []
  },
  {
   "cell_type": "code",
   "execution_count": null,
   "metadata": {},
   "outputs": [],
   "source": []
  },
  {
   "cell_type": "markdown",
   "metadata": {},
   "source": [
    "# elementwise operation\n"
   ]
  },
  {
   "cell_type": "code",
   "execution_count": null,
   "metadata": {},
   "outputs": [],
   "source": []
  },
  {
   "cell_type": "code",
   "execution_count": null,
   "metadata": {},
   "outputs": [],
   "source": []
  }
 ],
 "metadata": {
  "kernelspec": {
   "display_name": "pytorch3d",
   "language": "python",
   "name": "pytorch3d"
  },
  "language_info": {
   "codemirror_mode": {
    "name": "ipython",
    "version": 3
   },
   "file_extension": ".py",
   "mimetype": "text/x-python",
   "name": "python",
   "nbconvert_exporter": "python",
   "pygments_lexer": "ipython3",
   "version": "3.11.7"
  }
 },
 "nbformat": 4,
 "nbformat_minor": 2
}
