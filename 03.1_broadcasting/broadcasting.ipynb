{
 "cells": [
  {
   "cell_type": "code",
   "execution_count": null,
   "metadata": {},
   "outputs": [],
   "source": []
  },
  {
   "cell_type": "markdown",
   "metadata": {},
   "source": [
    "# matrix multiplication"
   ]
  },
  {
   "cell_type": "code",
   "execution_count": 582,
   "metadata": {},
   "outputs": [
    {
     "name": "stdout",
     "output_type": "stream",
     "text": [
      "Dataset length: 10000\n",
      "Images shape: (10000, 28, 28)\n",
      "Labels shape: (10000,)\n"
     ]
    },
    {
     "data": {
      "image/png": "[encoded data removed]",
      "text/plain": [
       "<Figure size 1500x500 with 5 Axes>"
      ]
     },
     "metadata": {},
     "output_type": "display_data"
    }
   ],
   "source": [
    "import torch\n",
    "import torchvision\n",
    "import torchvision.transforms as transforms\n",
    "import torchvision.datasets as datasets\n",
    "import numpy as np\n",
    "import matplotlib.pyplot as plt\n",
    "\n",
    "# Download and load the MNIST dataset\n",
    "mnist = datasets.MNIST(root=\"./data\", train=False, download=True)\n",
    "\n",
    "# Print the length of the dataset   \n",
    "print(\"Dataset length:\", len(mnist))\n",
    "\n",
    "# Convert the entire dataset to NumPy arrays\n",
    "images_np = []\n",
    "labels_np = []\n",
    "\n",
    "for i in range(len(mnist)):\n",
    "    image, label = mnist[i]\n",
    "    # Convert the image to a NumPy array\n",
    "    image_np = transforms.ToTensor()(image).numpy()[0]\n",
    "    images_np.append(image_np)\n",
    "    labels_np.append(label)\n",
    "\n",
    "# Convert lists to NumPy arrays\n",
    "images_np = np.array(images_np)\n",
    "labels_np = np.array(labels_np)\n",
    "\n",
    "# Print the shapes of the arrays\n",
    "print(\"Images shape:\", images_np.shape)\n",
    "print(\"Labels shape:\", labels_np.shape)\n",
    "\n",
    "# Access the first 5 images and labels\n",
    "first_5_images = images_np[:5]\n",
    "first_5_labels = labels_np[:5]\n",
    "\n",
    "# Plot the first 5 images\n",
    "fig, axes = plt.subplots(1, 5, figsize=(15, 5))\n",
    "\n",
    "for i in range(5):\n",
    "    axes[i].imshow(first_5_images[i], cmap='gray')  # Display in grayscale\n",
    "    axes[i].set_title(f\"Label: {first_5_labels[i]}\")\n",
    "    axes[i].axis('off')  # Turn off axis labels\n",
    "\n",
    "plt.show()\n"
   ]
  },
  {
   "cell_type": "code",
   "execution_count": 583,
   "metadata": {},
   "outputs": [
    {
     "data": {
      "text/plain": [
       "<matplotlib.image.AxesImage at 0x722b192d1810>"
      ]
     },
     "execution_count": 583,
     "metadata": {},
     "output_type": "execute_result"
    },
    {
     "data": {
      "image/png": "[encoded data removed]",
      "text/plain": [
       "<Figure size 640x480 with 1 Axes>"
      ]
     },
     "metadata": {},
     "output_type": "display_data"
    }
   ],
   "source": [
    "images_np[0].shape\n",
    "plt.imshow(images_np[0])"
   ]
  },
  {
   "cell_type": "markdown",
   "metadata": {},
   "source": [
    "# \"Matrix multiplication\"\n"
   ]
  },
  {
   "cell_type": "code",
   "execution_count": 584,
   "metadata": {},
   "outputs": [],
   "source": [
    "torch.manual_seed(1)\n",
    "weights = torch.randn(784, 10)\n",
    "bias = torch.zeros(10)"
   ]
  },
  {
   "cell_type": "code",
   "execution_count": 585,
   "metadata": {},
   "outputs": [
    {
     "data": {
      "text/plain": [
       "(5, 784)"
      ]
     },
     "execution_count": 585,
     "metadata": {},
     "output_type": "execute_result"
    }
   ],
   "source": [
    "m1 = images_np[:5].reshape(5, -1)\n",
    "m1.shape"
   ]
  },
  {
   "cell_type": "code",
   "execution_count": 586,
   "metadata": {},
   "outputs": [
    {
     "data": {
      "text/plain": [
       "torch.Size([5, 784])"
      ]
     },
     "execution_count": 586,
     "metadata": {},
     "output_type": "execute_result"
    }
   ],
   "source": [
    "torch.tensor(images_np[:5]).view(5, -1).shape\n"
   ]
  },
  {
   "cell_type": "code",
   "execution_count": 587,
   "metadata": {},
   "outputs": [
    {
     "data": {
      "text/plain": [
       "((5, 784), torch.Size([784, 10]))"
      ]
     },
     "execution_count": 587,
     "metadata": {},
     "output_type": "execute_result"
    }
   ],
   "source": [
    "m2 = weights\n",
    "\n",
    "m1.shape, m2.shape"
   ]
  },
  {
   "cell_type": "code",
   "execution_count": 588,
   "metadata": {},
   "outputs": [
    {
     "data": {
      "text/plain": [
       "((5, 784), (784, 10))"
      ]
     },
     "execution_count": 588,
     "metadata": {},
     "output_type": "execute_result"
    }
   ],
   "source": [
    "ar, ac = m1.shape\n",
    "br, bc = m2.shape\n",
    "\n",
    "(ar, ac), (br, bc)"
   ]
  },
  {
   "cell_type": "code",
   "execution_count": 589,
   "metadata": {},
   "outputs": [
    {
     "data": {
      "text/plain": [
       "torch.Size([5, 10])"
      ]
     },
     "execution_count": 589,
     "metadata": {},
     "output_type": "execute_result"
    }
   ],
   "source": [
    "# resultant tensor\n",
    "\n",
    "t1 = torch.zeros(ar, bc)\n",
    "t1.shape"
   ]
  },
  {
   "cell_type": "code",
   "execution_count": 590,
   "metadata": {},
   "outputs": [
    {
     "data": {
      "text/plain": [
       "tensor([[ -9.9532,  -3.8880,  -5.3230,   6.7895,  -5.3972,  -6.1437, -20.9652,\n",
       "           0.1295,  -4.8179,   1.9989],\n",
       "        [ -2.7911,  -5.1074,   2.5032,  -3.7225,  10.4510,  -5.7416,  -5.2013,\n",
       "           0.5966, -22.2556,  18.8180],\n",
       "        [  0.7113,  -3.2732,  -9.6388,   3.6244, -10.4286,  -2.6716, -12.8279,\n",
       "           0.9658,   3.3336,  -1.5013],\n",
       "        [  2.5451,  -1.3300,  -4.7280, -19.5480,  17.2274,  -2.3682, -20.7707,\n",
       "         -11.7523, -37.0048,  13.2327],\n",
       "        [ -8.1555,   0.4993,   1.6285, -11.3670,   8.5295,  -1.0342, -10.2872,\n",
       "         -13.1507,   1.6778,   4.0687]])"
      ]
     },
     "execution_count": 590,
     "metadata": {},
     "output_type": "execute_result"
    }
   ],
   "source": [
    "for i in range(ar): #5 each row one at aa time\n",
    "    for j in range(bc): #10  each column one ata time\n",
    "        for k in range(ac): # 784\n",
    "            t1[i,j] += m1[i, k] * m2[k,j]\n",
    "\n",
    "t1"
   ]
  },
  {
   "cell_type": "code",
   "execution_count": null,
   "metadata": {},
   "outputs": [],
   "source": []
  },
  {
   "cell_type": "code",
   "execution_count": 591,
   "metadata": {},
   "outputs": [
    {
     "name": "stdout",
     "output_type": "stream",
     "text": [
      "CPU times: user 1.38 s, sys: 0 ns, total: 1.38 s\n",
      "Wall time: 1.37 s\n"
     ]
    },
    {
     "data": {
      "text/plain": [
       "tensor([[ -9.9532,  -3.8880,  -5.3230,   6.7895,  -5.3972,  -6.1437, -20.9652,\n",
       "           0.1295,  -4.8179,   1.9989],\n",
       "        [ -2.7911,  -5.1074,   2.5032,  -3.7225,  10.4510,  -5.7416,  -5.2013,\n",
       "           0.5966, -22.2556,  18.8180],\n",
       "        [  0.7113,  -3.2732,  -9.6388,   3.6244, -10.4286,  -2.6716, -12.8279,\n",
       "           0.9658,   3.3336,  -1.5013],\n",
       "        [  2.5451,  -1.3300,  -4.7280, -19.5480,  17.2274,  -2.3682, -20.7707,\n",
       "         -11.7523, -37.0048,  13.2327],\n",
       "        [ -8.1555,   0.4993,   1.6285, -11.3670,   8.5295,  -1.0342, -10.2872,\n",
       "         -13.1507,   1.6778,   4.0687]])"
      ]
     },
     "execution_count": 591,
     "metadata": {},
     "output_type": "execute_result"
    }
   ],
   "source": [
    "def matmul(a,b):\n",
    "    (ar,ac), (br,bc) = a.shape, b.shape\n",
    "    c= torch.zeros(ar,bc)\n",
    "    for i in range(ar): #5 each row one at aa time\n",
    "        for j in range(bc): #10  each column one ata time\n",
    "            for k in range(ac): # 784\n",
    "                c[i,j] += a[i, k] * b[k,j]\n",
    "\n",
    "    return c\n",
    "%time matmul(m1,m2)"
   ]
  },
  {
   "cell_type": "code",
   "execution_count": null,
   "metadata": {},
   "outputs": [],
   "source": []
  },
  {
   "cell_type": "code",
   "execution_count": 592,
   "metadata": {},
   "outputs": [],
   "source": [
    "# numba tak python adn turns it into machime cpde\n",
    "from numba import njit\n",
    "import numpy as np"
   ]
  },
  {
   "cell_type": "code",
   "execution_count": 593,
   "metadata": {},
   "outputs": [],
   "source": [
    "@njit\n",
    "def dot(a,b):\n",
    "    res = 0\n",
    "    for i in range(len(a)): res+=a[i]*b[i]\n",
    "    return res"
   ]
  },
  {
   "cell_type": "code",
   "execution_count": 594,
   "metadata": {},
   "outputs": [
    {
     "name": "stdout",
     "output_type": "stream",
     "text": [
      "CPU times: user 120 ms, sys: 986 µs, total: 121 ms\n",
      "Wall time: 120 ms\n"
     ]
    },
    {
     "data": {
      "text/plain": [
       "14.0"
      ]
     },
     "execution_count": 594,
     "metadata": {},
     "output_type": "execute_result"
    }
   ],
   "source": [
    "%time dot(np.array([1. , 2., 3.]), np.array([1. , 2., 3.]))"
   ]
  },
  {
   "cell_type": "code",
   "execution_count": 595,
   "metadata": {},
   "outputs": [
    {
     "name": "stdout",
     "output_type": "stream",
     "text": [
      "CPU times: user 35 µs, sys: 1e+03 ns, total: 36 µs\n",
      "Wall time: 40.5 µs\n"
     ]
    },
    {
     "data": {
      "text/plain": [
       "14.0"
      ]
     },
     "execution_count": 595,
     "metadata": {},
     "output_type": "execute_result"
    }
   ],
   "source": [
    "%time dot(np.array([1. , 2., 3.]), np.array([1. , 2., 3.]))"
   ]
  },
  {
   "cell_type": "code",
   "execution_count": 596,
   "metadata": {},
   "outputs": [
    {
     "name": "stdout",
     "output_type": "stream",
     "text": [
      "CPU times: user 43 µs, sys: 2 µs, total: 45 µs\n",
      "Wall time: 52 µs\n"
     ]
    },
    {
     "data": {
      "text/plain": [
       "10607.0"
      ]
     },
     "execution_count": 596,
     "metadata": {},
     "output_type": "execute_result"
    }
   ],
   "source": [
    "%time dot(np.array([1. , 2., 3.,8., 99.]), np.array([1. , 2., 3.,99.,99.]))"
   ]
  },
  {
   "cell_type": "markdown",
   "metadata": {},
   "source": [
    "# first time it takes  to compile than it works at c's speed"
   ]
  },
  {
   "cell_type": "markdown",
   "metadata": {},
   "source": [
    "now replicate that function"
   ]
  },
  {
   "cell_type": "code",
   "execution_count": 597,
   "metadata": {},
   "outputs": [
    {
     "data": {
      "text/plain": [
       "tensor([[ -9.9532,  -3.8880,  -5.3230,   6.7895,  -5.3972,  -6.1437, -20.9652,\n",
       "           0.1295,  -4.8179,   1.9989],\n",
       "        [ -2.7911,  -5.1074,   2.5032,  -3.7225,  10.4510,  -5.7416,  -5.2013,\n",
       "           0.5966, -22.2556,  18.8180],\n",
       "        [  0.7113,  -3.2732,  -9.6388,   3.6244, -10.4286,  -2.6716, -12.8279,\n",
       "           0.9658,   3.3336,  -1.5013],\n",
       "        [  2.5451,  -1.3300,  -4.7280, -19.5480,  17.2274,  -2.3682, -20.7707,\n",
       "         -11.7523, -37.0048,  13.2327],\n",
       "        [ -8.1555,   0.4993,   1.6285, -11.3670,   8.5295,  -1.0342, -10.2872,\n",
       "         -13.1507,   1.6778,   4.0687]])"
      ]
     },
     "execution_count": 597,
     "metadata": {},
     "output_type": "execute_result"
    }
   ],
   "source": [
    "def matmul_njit(a,b):\n",
    "    (ar,ac), (br,bc) = a.shape, b.shape\n",
    "    c= torch.zeros(ar,bc)\n",
    "    for i in range(ar): #5 each row one at aa time\n",
    "        for j in range(bc): #10  each column one ata time\n",
    "            c[i,j] = dot(a[i, :], b[:,j])\n",
    "\n",
    "    return c\n",
    "# matmul_njit(torch.tensor(m1),torch.tensor(m2))\n",
    "matmul_njit(np.array(m1),np.array(m2))\n",
    "    "
   ]
  },
  {
   "cell_type": "code",
   "execution_count": 598,
   "metadata": {},
   "outputs": [
    {
     "name": "stdout",
     "output_type": "stream",
     "text": [
      "CPU times: user 1.78 ms, sys: 995 µs, total: 2.77 ms\n",
      "Wall time: 2.04 ms\n"
     ]
    },
    {
     "data": {
      "text/plain": [
       "tensor([[ -9.9532,  -3.8880,  -5.3230,   6.7895,  -5.3972,  -6.1437, -20.9652,\n",
       "           0.1295,  -4.8179,   1.9989],\n",
       "        [ -2.7911,  -5.1074,   2.5032,  -3.7225,  10.4510,  -5.7416,  -5.2013,\n",
       "           0.5966, -22.2556,  18.8180],\n",
       "        [  0.7113,  -3.2732,  -9.6388,   3.6244, -10.4286,  -2.6716, -12.8279,\n",
       "           0.9658,   3.3336,  -1.5013],\n",
       "        [  2.5451,  -1.3300,  -4.7280, -19.5480,  17.2274,  -2.3682, -20.7707,\n",
       "         -11.7523, -37.0048,  13.2327],\n",
       "        [ -8.1555,   0.4993,   1.6285, -11.3670,   8.5295,  -1.0342, -10.2872,\n",
       "         -13.1507,   1.6778,   4.0687]])"
      ]
     },
     "execution_count": 598,
     "metadata": {},
     "output_type": "execute_result"
    }
   ],
   "source": [
    "%time matmul_njit(np.array(m1),np.array(m2))\n"
   ]
  },
  {
   "cell_type": "code",
   "execution_count": 599,
   "metadata": {},
   "outputs": [
    {
     "name": "stdout",
     "output_type": "stream",
     "text": [
      "CPU times: user 997 ms, sys: 1.86 ms, total: 999 ms\n",
      "Wall time: 998 ms\n"
     ]
    },
    {
     "data": {
      "text/plain": [
       "tensor([[ -9.9532,  -3.8880,  -5.3230,   6.7895,  -5.3972,  -6.1437, -20.9652,\n",
       "           0.1295,  -4.8179,   1.9989],\n",
       "        [ -2.7911,  -5.1074,   2.5032,  -3.7225,  10.4510,  -5.7416,  -5.2013,\n",
       "           0.5966, -22.2556,  18.8180],\n",
       "        [  0.7113,  -3.2732,  -9.6388,   3.6244, -10.4286,  -2.6716, -12.8279,\n",
       "           0.9658,   3.3336,  -1.5013],\n",
       "        [  2.5451,  -1.3300,  -4.7280, -19.5480,  17.2274,  -2.3682, -20.7707,\n",
       "         -11.7523, -37.0048,  13.2327],\n",
       "        [ -8.1555,   0.4993,   1.6285, -11.3670,   8.5295,  -1.0342, -10.2872,\n",
       "         -13.1507,   1.6778,   4.0687]])"
      ]
     },
     "execution_count": 599,
     "metadata": {},
     "output_type": "execute_result"
    }
   ],
   "source": [
    "%time matmul(np.array(m1),np.array(m2))\n"
   ]
  },
  {
   "cell_type": "code",
   "execution_count": null,
   "metadata": {},
   "outputs": [],
   "source": []
  },
  {
   "cell_type": "code",
   "execution_count": null,
   "metadata": {},
   "outputs": [],
   "source": []
  },
  {
   "cell_type": "markdown",
   "metadata": {},
   "source": [
    "# elementwise operation\n"
   ]
  },
  {
   "cell_type": "code",
   "execution_count": 600,
   "metadata": {},
   "outputs": [
    {
     "data": {
      "text/plain": [
       "(tensor([10.,  6., -4.]), tensor([2., 8., 7.]))"
      ]
     },
     "execution_count": 600,
     "metadata": {},
     "output_type": "execute_result"
    }
   ],
   "source": [
    "a = torch.tensor([10., 6., -4.])\n",
    "b = torch.tensor([2., 8, 7])\n",
    "a,b"
   ]
  },
  {
   "cell_type": "code",
   "execution_count": 601,
   "metadata": {},
   "outputs": [
    {
     "data": {
      "text/plain": [
       "tensor([12., 14.,  3.])"
      ]
     },
     "execution_count": 601,
     "metadata": {},
     "output_type": "execute_result"
    }
   ],
   "source": [
    "a+b"
   ]
  },
  {
   "cell_type": "code",
   "execution_count": 602,
   "metadata": {},
   "outputs": [
    {
     "data": {
      "text/plain": [
       "tensor(0.6667)"
      ]
     },
     "execution_count": 602,
     "metadata": {},
     "output_type": "execute_result"
    }
   ],
   "source": [
    "(a<b).float().mean()                                                            "
   ]
  },
  {
   "cell_type": "code",
   "execution_count": 603,
   "metadata": {},
   "outputs": [
    {
     "name": "stderr",
     "output_type": "stream",
     "text": [
      "/tmp/ipykernel_35601/1036213963.py:2: UserWarning: To copy construct from a tensor, it is recommended to use sourceTensor.clone().detach() or sourceTensor.clone().detach().requires_grad_(True), rather than torch.tensor(sourceTensor).\n",
      "  m2 = torch.tensor(m2)\n"
     ]
    }
   ],
   "source": [
    "m1 = torch.tensor(m1)\n",
    "m2 = torch.tensor(m2)\n"
   ]
  },
  {
   "cell_type": "code",
   "execution_count": 604,
   "metadata": {},
   "outputs": [
    {
     "data": {
      "text/plain": [
       "(torch.Size([5, 784]), torch.Size([784, 10]), torch.float32, torch.float32)"
      ]
     },
     "execution_count": 604,
     "metadata": {},
     "output_type": "execute_result"
    }
   ],
   "source": [
    "m1.shape, m2.shape, m1.dtype, m2.dtype"
   ]
  },
  {
   "cell_type": "code",
   "execution_count": 605,
   "metadata": {},
   "outputs": [
    {
     "data": {
      "text/plain": [
       "torch.Size([5, 10])"
      ]
     },
     "execution_count": 605,
     "metadata": {},
     "output_type": "execute_result"
    }
   ],
   "source": [
    "def matmul_ew(a,b):\n",
    "    (ar, ac), (br,bc) = a.shape, b.shape\n",
    "    c = torch.zeros(ar, bc)\n",
    "    for i in range(ar):\n",
    "        for j in range(bc): c[i,j] = (a[i,:] * b[:,j]).sum()\n",
    "    return c\n",
    "matmul_ew(m1,m2).shape"
   ]
  },
  {
   "cell_type": "code",
   "execution_count": 606,
   "metadata": {},
   "outputs": [],
   "source": [
    "# %timeit -n 50 _=matmul(m1,m2)"
   ]
  },
  {
   "cell_type": "code",
   "execution_count": 607,
   "metadata": {},
   "outputs": [
    {
     "name": "stdout",
     "output_type": "stream",
     "text": [
      "1.75 ms ± 34.9 µs per loop (mean ± std. dev. of 7 runs, 50 loops each)\n"
     ]
    }
   ],
   "source": [
    "%timeit -n 50 _=matmul_ew(m1,m2)"
   ]
  },
  {
   "cell_type": "code",
   "execution_count": 608,
   "metadata": {},
   "outputs": [
    {
     "data": {
      "text/plain": [
       "torch.Size([5, 10])"
      ]
     },
     "execution_count": 608,
     "metadata": {},
     "output_type": "execute_result"
    }
   ],
   "source": [
    "def matmul_tdot(a,b):\n",
    "    (ar, ac), (br,bc) = a.shape, b.shape\n",
    "    c = torch.zeros(ar, bc)\n",
    "    for i in range(ar):\n",
    "        for j in range(bc): c[i,j] = torch.dot(a[i,:],  b[:,j])\n",
    "    return c\n",
    "matmul_tdot(m1,m2).shape\n"
   ]
  },
  {
   "cell_type": "code",
   "execution_count": 609,
   "metadata": {},
   "outputs": [
    {
     "name": "stdout",
     "output_type": "stream",
     "text": [
      "1.46 ms ± 121 µs per loop (mean ± std. dev. of 7 runs, 50 loops each)\n"
     ]
    }
   ],
   "source": [
    "%timeit -n 50 _=matmul_tdot(m1,m2)"
   ]
  },
  {
   "cell_type": "code",
   "execution_count": null,
   "metadata": {},
   "outputs": [],
   "source": []
  },
  {
   "cell_type": "code",
   "execution_count": null,
   "metadata": {},
   "outputs": [],
   "source": []
  },
  {
   "cell_type": "markdown",
   "metadata": {},
   "source": [
    "# Broadcasting\n",
    "1. How arrays with different shapes are treated during arithmetic operations.\n",
    "2. THe smaller array is broadcast across larger array, so that they have ompatible shape.\n",
    "3. Boadcasting provides a mean of vactorizing array operations so that looping occurs in C instead of python.\n",
    "4. It does this without making needless copies of data."
   ]
  },
  {
   "cell_type": "code",
   "execution_count": 610,
   "metadata": {},
   "outputs": [
    {
     "data": {
      "text/plain": [
       "tensor([10.,  6., -4.])"
      ]
     },
     "execution_count": 610,
     "metadata": {},
     "output_type": "execute_result"
    }
   ],
   "source": [
    "a # rank one tensor"
   ]
  },
  {
   "cell_type": "code",
   "execution_count": 611,
   "metadata": {},
   "outputs": [
    {
     "data": {
      "text/plain": [
       "(tensor([ True,  True, False]), tensor([ True,  True, False]))"
      ]
     },
     "execution_count": 611,
     "metadata": {},
     "output_type": "execute_result"
    }
   ],
   "source": [
    "a>0, a> torch.tensor([0,0,0])"
   ]
  },
  {
   "cell_type": "markdown",
   "metadata": {},
   "source": [
    "`a>0` : 0 is being broadcasted here to have same dimensio as a"
   ]
  },
  {
   "cell_type": "code",
   "execution_count": null,
   "metadata": {},
   "outputs": [],
   "source": []
  },
  {
   "cell_type": "markdown",
   "metadata": {},
   "source": [
    "## broadcasting a vector to matrix"
   ]
  },
  {
   "cell_type": "code",
   "execution_count": 612,
   "metadata": {},
   "outputs": [],
   "source": [
    "# m = torch.randint(0,9, (3,3));m"
   ]
  },
  {
   "cell_type": "code",
   "execution_count": 613,
   "metadata": {},
   "outputs": [
    {
     "data": {
      "text/plain": [
       "(tensor([[1, 2, 3],\n",
       "         [4, 5, 6],\n",
       "         [7, 8, 9]]),\n",
       " torch.Size([3, 3]))"
      ]
     },
     "execution_count": 613,
     "metadata": {},
     "output_type": "execute_result"
    }
   ],
   "source": [
    "m = torch.arange(1, 10).reshape(3, 3);m, m.shape"
   ]
  },
  {
   "cell_type": "code",
   "execution_count": 614,
   "metadata": {},
   "outputs": [
    {
     "data": {
      "text/plain": [
       "(tensor([10., 20., 30.]),\n",
       " torch.Size([3]),\n",
       " torch.Size([1, 3]),\n",
       " torch.Size([3, 1]))"
      ]
     },
     "execution_count": 614,
     "metadata": {},
     "output_type": "execute_result"
    }
   ],
   "source": [
    "c= torch.tensor([10, 20, 30], dtype=torch.float32);c, c.shape, c.unsqueeze(0).shape, c.unsqueeze(1).shape"
   ]
  },
  {
   "cell_type": "code",
   "execution_count": 615,
   "metadata": {},
   "outputs": [
    {
     "data": {
      "text/plain": [
       "(tensor([[11., 22., 33.],\n",
       "         [14., 25., 36.],\n",
       "         [17., 28., 39.]]),\n",
       " tensor([[11., 22., 33.],\n",
       "         [14., 25., 36.],\n",
       "         [17., 28., 39.]]))"
      ]
     },
     "execution_count": 615,
     "metadata": {},
     "output_type": "execute_result"
    }
   ],
   "source": [
    "m+c, m+c"
   ]
  },
  {
   "cell_type": "code",
   "execution_count": 616,
   "metadata": {},
   "outputs": [
    {
     "data": {
      "text/plain": [
       "(tensor([[11., 22., 33.],\n",
       "         [14., 25., 36.],\n",
       "         [17., 28., 39.]]),\n",
       " torch.Size([3, 3]))"
      ]
     },
     "execution_count": 616,
     "metadata": {},
     "output_type": "execute_result"
    }
   ],
   "source": [
    "m+c.unsqueeze(0), (m+c.unsqueeze(0)).shape"
   ]
  },
  {
   "cell_type": "code",
   "execution_count": 617,
   "metadata": {},
   "outputs": [
    {
     "data": {
      "text/plain": [
       "(tensor([[11., 12., 13.],\n",
       "         [24., 25., 26.],\n",
       "         [37., 38., 39.]]),\n",
       " torch.Size([3, 3]))"
      ]
     },
     "execution_count": 617,
     "metadata": {},
     "output_type": "execute_result"
    }
   ],
   "source": [
    "m+c.unsqueeze(1), (m+c.unsqueeze(1)).shape"
   ]
  },
  {
   "cell_type": "code",
   "execution_count": 618,
   "metadata": {},
   "outputs": [
    {
     "data": {
      "text/plain": [
       "(tensor([[11., 12., 13.],\n",
       "         [24., 25., 26.],\n",
       "         [37., 38., 39.]]),\n",
       " torch.Size([3, 3]))"
      ]
     },
     "execution_count": 618,
     "metadata": {},
     "output_type": "execute_result"
    }
   ],
   "source": [
    "c.unsqueeze(1)+m, (c.unsqueeze(1) +m ).shape   # m+c = c+m  ; order doesn't matter"
   ]
  },
  {
   "cell_type": "markdown",
   "metadata": {},
   "source": [
    "#### what actually happens\n"
   ]
  },
  {
   "cell_type": "code",
   "execution_count": 619,
   "metadata": {},
   "outputs": [
    {
     "data": {
      "text/plain": [
       "(torch.Size([3]), torch.Size([3, 3]))"
      ]
     },
     "execution_count": 619,
     "metadata": {},
     "output_type": "execute_result"
    }
   ],
   "source": [
    "c.shape, m.shape"
   ]
  },
  {
   "cell_type": "code",
   "execution_count": 620,
   "metadata": {},
   "outputs": [
    {
     "data": {
      "text/plain": [
       "(tensor([[10., 20., 30.],\n",
       "         [10., 20., 30.],\n",
       "         [10., 20., 30.]]),\n",
       " torch.Size([3, 3]))"
      ]
     },
     "execution_count": 620,
     "metadata": {},
     "output_type": "execute_result"
    }
   ],
   "source": [
    "t= c.expand_as(m);t, t.shape"
   ]
  },
  {
   "cell_type": "code",
   "execution_count": 621,
   "metadata": {},
   "outputs": [
    {
     "data": {
      "text/plain": [
       " 10.0\n",
       " 20.0\n",
       " 30.0\n",
       "[torch.storage.TypedStorage(dtype=torch.float32, device=cpu) of size 3]"
      ]
     },
     "execution_count": 621,
     "metadata": {},
     "output_type": "execute_result"
    }
   ],
   "source": [
    "# t actually didn't create 3 copies\n",
    "t.storage()  # it stil contains (1,3) shape"
   ]
  },
  {
   "cell_type": "code",
   "execution_count": 622,
   "metadata": {},
   "outputs": [
    {
     "data": {
      "text/plain": [
       "((0, 1), torch.Size([3, 3]), torch.Size([3]))"
      ]
     },
     "execution_count": 622,
     "metadata": {},
     "output_type": "execute_result"
    }
   ],
   "source": [
    "t.stride(), t.shape, c.shape # for every step, 0 across rows, and 1 across column;\n",
    "# stride (0,1) because expansion is acrross cols"
   ]
  },
  {
   "cell_type": "code",
   "execution_count": 623,
   "metadata": {},
   "outputs": [
    {
     "data": {
      "text/plain": [
       "(tensor([[0, 0, 0],\n",
       "         [0, 0, 0],\n",
       "         [0, 0, 0]]),\n",
       " tensor(0),\n",
       "  0\n",
       " [torch.storage.TypedStorage(dtype=torch.int64, device=cpu) of size 1],\n",
       " (0, 0))"
      ]
     },
     "execution_count": 623,
     "metadata": {},
     "output_type": "execute_result"
    }
   ],
   "source": [
    "z =torch.tensor(0).expand_as(m); z, torch.tensor(0), z.storage(), z.stride()"
   ]
  },
  {
   "cell_type": "code",
   "execution_count": 624,
   "metadata": {},
   "outputs": [
    {
     "data": {
      "text/plain": [
       "(torch.Size([1, 3]), torch.Size([1, 3]), torch.Size([1, 3]))"
      ]
     },
     "execution_count": 624,
     "metadata": {},
     "output_type": "execute_result"
    }
   ],
   "source": [
    "c.unsqueeze(0).shape, c[None,:].shape, c[None].shape"
   ]
  },
  {
   "cell_type": "code",
   "execution_count": 625,
   "metadata": {},
   "outputs": [
    {
     "data": {
      "text/plain": [
       "(torch.Size([3, 1]), torch.Size([3, 1]))"
      ]
     },
     "execution_count": 625,
     "metadata": {},
     "output_type": "execute_result"
    }
   ],
   "source": [
    "c.unsqueeze(1).shape, c[:, None].shape"
   ]
  },
  {
   "cell_type": "code",
   "execution_count": 626,
   "metadata": {},
   "outputs": [
    {
     "data": {
      "text/plain": [
       "(torch.Size([3, 3]), torch.Size([3, 1, 3]), torch.Size([3, 1, 1, 3]))"
      ]
     },
     "execution_count": 626,
     "metadata": {},
     "output_type": "execute_result"
    }
   ],
   "source": [
    "m.shape, m[:, None,:].shape, m[:, None,:][:,None,:,:].shape  # inserting dimensions"
   ]
  },
  {
   "cell_type": "code",
   "execution_count": 627,
   "metadata": {},
   "outputs": [
    {
     "data": {
      "text/plain": [
       "(torch.Size([3, 1, 1, 3]),\n",
       " torch.Size([3, 1, 1, 3, 1]),\n",
       " torch.Size([1, 3, 1, 1, 3]))"
      ]
     },
     "execution_count": 627,
     "metadata": {},
     "output_type": "execute_result"
    }
   ],
   "source": [
    "x = m[:, None,:][:,None,:,:]; x.shape, x[..., None].shape, x[None, ...].shape\n"
   ]
  },
  {
   "cell_type": "code",
   "execution_count": 628,
   "metadata": {},
   "outputs": [
    {
     "data": {
      "text/plain": [
       "(torch.Size([3, 1]), torch.Size([3, 3]))"
      ]
     },
     "execution_count": 628,
     "metadata": {},
     "output_type": "execute_result"
    }
   ],
   "source": [
    "c[:,None].shape, c[:,None].expand_as(m).shape"
   ]
  },
  {
   "cell_type": "code",
   "execution_count": 629,
   "metadata": {},
   "outputs": [
    {
     "data": {
      "text/plain": [
       "(torch.Size([1, 3]), torch.Size([3, 3]))"
      ]
     },
     "execution_count": 629,
     "metadata": {},
     "output_type": "execute_result"
    }
   ],
   "source": [
    "c[None].shape, c[None].expand_as(m).shape"
   ]
  },
  {
   "cell_type": "code",
   "execution_count": 630,
   "metadata": {},
   "outputs": [
    {
     "data": {
      "text/plain": [
       "(tensor([[11., 12., 13.],\n",
       "         [24., 25., 26.],\n",
       "         [37., 38., 39.]]),\n",
       " tensor([[11., 12., 13.],\n",
       "         [24., 25., 26.],\n",
       "         [37., 38., 39.]]))"
      ]
     },
     "execution_count": 630,
     "metadata": {},
     "output_type": "execute_result"
    }
   ],
   "source": [
    "c[:,None].expand_as(m) +m , m+c[:,None]"
   ]
  },
  {
   "cell_type": "code",
   "execution_count": 631,
   "metadata": {},
   "outputs": [
    {
     "data": {
      "text/plain": [
       "(tensor([[11., 22., 33.],\n",
       "         [14., 25., 36.],\n",
       "         [17., 28., 39.]]),\n",
       " tensor([[11., 22., 33.],\n",
       "         [14., 25., 36.],\n",
       "         [17., 28., 39.]]))"
      ]
     },
     "execution_count": 631,
     "metadata": {},
     "output_type": "execute_result"
    }
   ],
   "source": [
    "c[None].expand_as(m)+m, m+c[None]"
   ]
  },
  {
   "cell_type": "code",
   "execution_count": 632,
   "metadata": {},
   "outputs": [
    {
     "data": {
      "text/plain": [
       "tensor([10., 20., 30.])"
      ]
     },
     "execution_count": 632,
     "metadata": {},
     "output_type": "execute_result"
    }
   ],
   "source": [
    "c"
   ]
  },
  {
   "cell_type": "markdown",
   "metadata": {},
   "source": [
    "### Broadcasting Rules"
   ]
  },
  {
   "cell_type": "code",
   "execution_count": 633,
   "metadata": {},
   "outputs": [
    {
     "data": {
      "text/plain": [
       "(tensor([[10., 20., 30.]]),\n",
       " tensor([[10.],\n",
       "         [20.],\n",
       "         [30.]]))"
      ]
     },
     "execution_count": 633,
     "metadata": {},
     "output_type": "execute_result"
    }
   ],
   "source": [
    "c[None, :], c[:,None]"
   ]
  },
  {
   "cell_type": "code",
   "execution_count": 634,
   "metadata": {},
   "outputs": [
    {
     "data": {
      "text/plain": [
       "(torch.Size([1, 3]), torch.Size([3, 1]))"
      ]
     },
     "execution_count": 634,
     "metadata": {},
     "output_type": "execute_result"
    }
   ],
   "source": [
    "c[None, :].shape, c[:,None].shape"
   ]
  },
  {
   "cell_type": "code",
   "execution_count": 635,
   "metadata": {},
   "outputs": [
    {
     "data": {
      "text/plain": [
       "tensor([[100., 200., 300.],\n",
       "        [200., 400., 600.],\n",
       "        [300., 600., 900.]])"
      ]
     },
     "execution_count": 635,
     "metadata": {},
     "output_type": "execute_result"
    }
   ],
   "source": [
    "c[None,:] * c[:,None]"
   ]
  },
  {
   "cell_type": "code",
   "execution_count": 636,
   "metadata": {},
   "outputs": [
    {
     "data": {
      "text/plain": [
       "(torch.Size([1, 3]), torch.Size([3, 1]), torch.Size([3, 3]))"
      ]
     },
     "execution_count": 636,
     "metadata": {},
     "output_type": "execute_result"
    }
   ],
   "source": [
    "c[None,:].shape, c[:,None].shape, (c[None,:] * c[:,None]).shape"
   ]
  },
  {
   "cell_type": "code",
   "execution_count": 637,
   "metadata": {},
   "outputs": [
    {
     "data": {
      "text/plain": [
       "(torch.Size([1]), torch.Size([3, 3]))"
      ]
     },
     "execution_count": 637,
     "metadata": {},
     "output_type": "execute_result"
    }
   ],
   "source": [
    "torch.matmul(c[None:], c[:,None]).shape, (c[None,:] * c[:,None]).shape"
   ]
  },
  {
   "cell_type": "code",
   "execution_count": 638,
   "metadata": {},
   "outputs": [
    {
     "data": {
      "text/plain": [
       "(torch.Size([1, 3]), torch.Size([3, 1]), torch.Size([3, 3]))"
      ]
     },
     "execution_count": 638,
     "metadata": {},
     "output_type": "execute_result"
    }
   ],
   "source": [
    "c[None,:].shape, c[:,None].shape, (c[None,:] * c[:,None]).shape"
   ]
  },
  {
   "cell_type": "code",
   "execution_count": 639,
   "metadata": {},
   "outputs": [
    {
     "data": {
      "text/plain": [
       "(tensor([[10., 20., 30.]]),\n",
       " tensor([[10.],\n",
       "         [20.],\n",
       "         [30.]]),\n",
       " tensor([[100., 200., 300.],\n",
       "         [200., 400., 600.],\n",
       "         [300., 600., 900.]]))"
      ]
     },
     "execution_count": 639,
     "metadata": {},
     "output_type": "execute_result"
    }
   ],
   "source": [
    "c[None,:], c[:,None], c[None,:] * c[:,None]"
   ]
  },
  {
   "cell_type": "code",
   "execution_count": 640,
   "metadata": {},
   "outputs": [
    {
     "data": {
      "text/plain": [
       "tensor([[ 70.,  80.,  90.],\n",
       "        [140., 160., 180.],\n",
       "        [210., 240., 270.]])"
      ]
     },
     "execution_count": 640,
     "metadata": {},
     "output_type": "execute_result"
    }
   ],
   "source": [
    "a= torch.tensor([7,8,9])\n",
    "\n",
    "a[None,:]*c[:,None]\n"
   ]
  },
  {
   "cell_type": "code",
   "execution_count": 641,
   "metadata": {},
   "outputs": [
    {
     "data": {
      "text/plain": [
       "(torch.Size([1, 3]), torch.Size([3, 1]))"
      ]
     },
     "execution_count": 641,
     "metadata": {},
     "output_type": "execute_result"
    }
   ],
   "source": [
    "a[None,:].shape,c[:,None].shape\n"
   ]
  },
  {
   "cell_type": "code",
   "execution_count": 642,
   "metadata": {},
   "outputs": [
    {
     "data": {
      "text/plain": [
       "tensor([[ 70.,  80.,  90.],\n",
       "        [140., 160., 180.],\n",
       "        [210., 240., 270.]])"
      ]
     },
     "execution_count": 642,
     "metadata": {},
     "output_type": "execute_result"
    }
   ],
   "source": [
    "a[None,:]*c[:,None]\n"
   ]
  },
  {
   "cell_type": "code",
   "execution_count": 643,
   "metadata": {},
   "outputs": [
    {
     "data": {
      "text/plain": [
       "(tensor([[7, 8, 9],\n",
       "         [7, 8, 9],\n",
       "         [7, 8, 9]]),\n",
       " tensor([[10., 10., 10.],\n",
       "         [20., 20., 20.],\n",
       "         [30., 30., 30.]]),\n",
       " tensor([[ 70.,  80.,  90.],\n",
       "         [140., 160., 180.],\n",
       "         [210., 240., 270.]]))"
      ]
     },
     "execution_count": 643,
     "metadata": {},
     "output_type": "execute_result"
    }
   ],
   "source": [
    "(a[None,:]).expand_as(m) , (c[:,None]).expand_as(m), (a[None,:]).expand_as(m) * (c[:,None]).expand_as(m)"
   ]
  },
  {
   "cell_type": "code",
   "execution_count": null,
   "metadata": {},
   "outputs": [],
   "source": []
  },
  {
   "cell_type": "code",
   "execution_count": null,
   "metadata": {},
   "outputs": [],
   "source": []
  },
  {
   "cell_type": "code",
   "execution_count": null,
   "metadata": {},
   "outputs": [],
   "source": []
  },
  {
   "cell_type": "code",
   "execution_count": 644,
   "metadata": {},
   "outputs": [
    {
     "data": {
      "text/plain": [
       "tensor([[ 70., 140., 210.],\n",
       "        [ 80., 160., 240.],\n",
       "        [ 90., 180., 270.]])"
      ]
     },
     "execution_count": 644,
     "metadata": {},
     "output_type": "execute_result"
    }
   ],
   "source": [
    "a[:, None]*c[None,:]   # c[None,:] will be multiplied to every element of a[:,None] one by one\n"
   ]
  },
  {
   "cell_type": "code",
   "execution_count": 645,
   "metadata": {},
   "outputs": [
    {
     "data": {
      "text/plain": [
       "(tensor([[7, 7, 7],\n",
       "         [8, 8, 8],\n",
       "         [9, 9, 9]]),\n",
       " tensor([[10., 20., 30.],\n",
       "         [10., 20., 30.],\n",
       "         [10., 20., 30.]]),\n",
       " tensor([[ 70., 140., 210.],\n",
       "         [ 80., 160., 240.],\n",
       "         [ 90., 180., 270.]]))"
      ]
     },
     "execution_count": 645,
     "metadata": {},
     "output_type": "execute_result"
    }
   ],
   "source": [
    "# this actually happens\n",
    "(a[:, None]).expand_as(m) , (c[None,:]).expand_as(m), (a[:, None]).expand_as(m) * (c[None,:]).expand_as(m)"
   ]
  },
  {
   "cell_type": "code",
   "execution_count": null,
   "metadata": {},
   "outputs": [],
   "source": []
  },
  {
   "cell_type": "code",
   "execution_count": 646,
   "metadata": {},
   "outputs": [
    {
     "data": {
      "text/plain": [
       "tensor([[False,  True,  True],\n",
       "        [False, False,  True],\n",
       "        [False, False, False]])"
      ]
     },
     "execution_count": 646,
     "metadata": {},
     "output_type": "execute_result"
    }
   ],
   "source": [
    "c[None,:] >c[:,None]"
   ]
  },
  {
   "cell_type": "code",
   "execution_count": 647,
   "metadata": {},
   "outputs": [
    {
     "data": {
      "text/plain": [
       "(tensor([[7, 7, 7],\n",
       "         [8, 8, 8],\n",
       "         [9, 9, 9]]),\n",
       " tensor([[10., 20., 30.],\n",
       "         [10., 20., 30.],\n",
       "         [10., 20., 30.]]),\n",
       " tensor([[False, False, False],\n",
       "         [False, False, False],\n",
       "         [False, False, False]]))"
      ]
     },
     "execution_count": 647,
     "metadata": {},
     "output_type": "execute_result"
    }
   ],
   "source": [
    "(a[:, None]).expand_as(m) , (c[None,:]).expand_as(m), (a[:, None]).expand_as(m) >(c[None,:]).expand_as(m)"
   ]
  },
  {
   "cell_type": "code",
   "execution_count": null,
   "metadata": {},
   "outputs": [],
   "source": []
  },
  {
   "cell_type": "code",
   "execution_count": null,
   "metadata": {},
   "outputs": [],
   "source": []
  },
  {
   "cell_type": "markdown",
   "metadata": {},
   "source": [
    "##### when operating on two arrays/tensors, numpy/pytorch  compares their shapes element-wise. It starts with the trailing dimensions, work its way forward. Two dimensions are compatible when\n",
    "1. they are equal\n",
    "2. one of them is 1, in which case that dimension is broadcasted to make it the same size"
   ]
  },
  {
   "cell_type": "code",
   "execution_count": null,
   "metadata": {},
   "outputs": [],
   "source": []
  },
  {
   "cell_type": "code",
   "execution_count": null,
   "metadata": {},
   "outputs": [],
   "source": []
  },
  {
   "cell_type": "markdown",
   "metadata": {},
   "source": [
    "# matmul with broadcasting"
   ]
  },
  {
   "cell_type": "code",
   "execution_count": null,
   "metadata": {},
   "outputs": [],
   "source": []
  },
  {
   "cell_type": "code",
   "execution_count": 648,
   "metadata": {},
   "outputs": [
    {
     "data": {
      "text/plain": [
       "(torch.Size([5, 784]), torch.Size([784, 10]))"
      ]
     },
     "execution_count": 648,
     "metadata": {},
     "output_type": "execute_result"
    }
   ],
   "source": [
    "m1.shape, m2.shape"
   ]
  },
  {
   "cell_type": "code",
   "execution_count": 649,
   "metadata": {},
   "outputs": [
    {
     "data": {
      "text/plain": [
       "torch.Size([784])"
      ]
     },
     "execution_count": 649,
     "metadata": {},
     "output_type": "execute_result"
    }
   ],
   "source": [
    "digit = m1[0]\n",
    "digit.shape"
   ]
  },
  {
   "cell_type": "code",
   "execution_count": 650,
   "metadata": {},
   "outputs": [
    {
     "data": {
      "text/plain": [
       "(torch.Size([784, 1]), torch.Size([784, 10]))"
      ]
     },
     "execution_count": 650,
     "metadata": {},
     "output_type": "execute_result"
    }
   ],
   "source": [
    "digit[:, None].shape, m2.shape  # maltipying digit with each 784 vector in m2"
   ]
  },
  {
   "cell_type": "code",
   "execution_count": 651,
   "metadata": {},
   "outputs": [
    {
     "data": {
      "text/plain": [
       "torch.Size([784, 10])"
      ]
     },
     "execution_count": 651,
     "metadata": {},
     "output_type": "execute_result"
    }
   ],
   "source": [
    "digit[:,None].expand_as(m2).shape"
   ]
  },
  {
   "cell_type": "code",
   "execution_count": 652,
   "metadata": {},
   "outputs": [
    {
     "data": {
      "text/plain": [
       "torch.Size([784, 10])"
      ]
     },
     "execution_count": 652,
     "metadata": {},
     "output_type": "execute_result"
    }
   ],
   "source": [
    "(digit[:, None]*m2).shape"
   ]
  },
  {
   "cell_type": "code",
   "execution_count": 653,
   "metadata": {},
   "outputs": [
    {
     "name": "stdout",
     "output_type": "stream",
     "text": [
      "203 µs ± 12 µs per loop (mean ± std. dev. of 7 runs, 50 loops each)\n"
     ]
    }
   ],
   "source": [
    "def matmul_broadcasted(a,b):\n",
    "    (ar, ac), (br,bc) = a.shape, b.shape\n",
    "\n",
    "    c = torch.zeros(ar, bc)\n",
    "    for i in range(ar):\n",
    "        # print(f\"\\na:{a[i].shape} ||||| a[i, :, None]:{a[1, :, None].shape} ||||| b[i]:{b.shape}\")\n",
    "\n",
    "        # c[i,j] = (a[i,:] * b[:,j]).sum() # previous version\n",
    "        c[i] = (a[i, :, None] *b).sum(dim=0) # broadcast version\n",
    "    return c\n",
    "%timeit -n 50 _=matmul_broadcasted(m1,m2)"
   ]
  },
  {
   "cell_type": "code",
   "execution_count": null,
   "metadata": {},
   "outputs": [],
   "source": []
  },
  {
   "cell_type": "code",
   "execution_count": null,
   "metadata": {},
   "outputs": [],
   "source": []
  },
  {
   "cell_type": "code",
   "execution_count": null,
   "metadata": {},
   "outputs": [],
   "source": []
  },
  {
   "cell_type": "code",
   "execution_count": null,
   "metadata": {},
   "outputs": [],
   "source": []
  },
  {
   "cell_type": "code",
   "execution_count": null,
   "metadata": {},
   "outputs": [],
   "source": []
  },
  {
   "cell_type": "code",
   "execution_count": null,
   "metadata": {},
   "outputs": [],
   "source": []
  },
  {
   "cell_type": "markdown",
   "metadata": {},
   "source": [
    "Yes, that's a great summary of how broadcasting works in both NumPy and PyTorch! When performing operations on two tensors (or arrays), their shapes are compared element-wise starting from the last dimension (the rightmost one) and moving left. Here's how broadcasting works in detail:\n",
    "\n",
    "### Broadcasting Rules\n",
    "\n",
    "When comparing dimensions of two tensors for broadcasting, the following rules apply:\n",
    "\n",
    "1. **Equal Dimensions**:\n",
    "   - If the dimensions of both tensors are equal, they are compatible and can be directly used in the operation.\n",
    "   \n",
    "   Example:\n",
    "   ```python\n",
    "   Tensor A: shape (3, 4)\n",
    "   Tensor B: shape (3, 4)\n",
    "   Result: Compatible (element-wise operation proceeds)\n",
    "   ```\n",
    "\n",
    "2. **One Dimension is 1**:\n",
    "   - If one of the dimensions is 1, that dimension can be broadcasted (expanded) to match the size of the other dimension.\n",
    "   \n",
    "   Example:\n",
    "   ```python\n",
    "   Tensor A: shape (3, 4)\n",
    "   Tensor B: shape (1, 4)  # Can be broadcasted to (3, 4)\n",
    "   Result: Compatible (element-wise operation proceeds)\n",
    "   ```\n",
    "\n",
    "3. **Trailing Dimensions**:\n",
    "   - The comparison starts with the last dimension (rightmost) and moves to the left. Dimensions are compared one by one according to the rules above.\n",
    "\n",
    "### Examples to Illustrate Broadcasting\n",
    "\n",
    "#### Example 1: Compatible Shapes\n",
    "```python\n",
    "import torch\n",
    "\n",
    "a = torch.tensor([[1, 2, 3], [4, 5, 6]])  # Shape: (2, 3)\n",
    "b = torch.tensor([[1], [2]])  # Shape: (2, 1)\n",
    "\n",
    "# Broadcasting b to match the shape of a:\n",
    "# b becomes: [[1, 1, 1], [2, 2, 2]]\n",
    "\n",
    "result = a * b\n",
    "print(result)\n",
    "```\n",
    "\n",
    "**Output**:\n",
    "```\n",
    "tensor([[ 1,  2,  3],\n",
    "        [ 8, 10, 12]])\n",
    "```\n",
    "\n",
    "- `a` has shape `(2, 3)`.\n",
    "- `b` has shape `(2, 1)` and is broadcasted to shape `(2, 3)`.\n",
    "\n",
    "#### Example 2: Incompatible Shapes\n",
    "```python\n",
    "import torch\n",
    "\n",
    "a = torch.tensor([1, 2, 3])  # Shape: (3,)\n",
    "b = torch.tensor([[1, 2], [3, 4], [5, 6]])  # Shape: (3, 2)\n",
    "\n",
    "# These shapes are incompatible because their dimensions can't be broadcasted together.\n",
    "# The second dimension of a is missing, and it can't be broadcasted to match b.\n",
    "\n",
    "# The following would raise an error:\n",
    "# result = a * b\n",
    "```\n",
    "\n",
    "This will raise an error because:\n",
    "\n",
    "- `a` has shape `(3,)`.\n",
    "- `b` has shape `(3, 2)`.\n",
    "- They are incompatible because the second dimension of `a` is missing, and broadcasting rules cannot apply.\n",
    "\n",
    "#### Example 3: Scalar Broadcasting\n",
    "```python\n",
    "import torch\n",
    "\n",
    "a = torch.tensor([1, 2, 3])  # Shape: (3,)\n",
    "b = torch.tensor(2)  # Shape: ()\n",
    "\n",
    "# Broadcasting b to the shape of a:\n",
    "# b becomes: [2, 2, 2]\n",
    "\n",
    "result = a * b\n",
    "print(result)\n",
    "```\n",
    "\n",
    "**Output**:\n",
    "```\n",
    "tensor([2, 4, 6])\n",
    "```\n",
    "\n",
    "- `b` is a scalar (shape `()`), so it gets broadcasted to match the shape of `a` (shape `(3,)`).\n",
    "\n",
    "### Summary\n",
    "\n",
    "- **Broadcasting** allows operations on tensors of different shapes by \"expanding\" one or both tensors' dimensions to make their shapes compatible.\n",
    "- The comparison starts from the trailing dimensions (rightmost) and works its way left.\n",
    "- If the dimensions match or one of them is 1, they are compatible for broadcasting.\n",
    "- If the dimensions do not match and neither is 1, the operation will result in an error. \n",
    "\n",
    "This feature is extremely useful in many neural network operations, allowing for efficient and flexible computation without needing to manually adjust tensor shapes."
   ]
  },
  {
   "cell_type": "code",
   "execution_count": null,
   "metadata": {},
   "outputs": [],
   "source": []
  },
  {
   "cell_type": "code",
   "execution_count": null,
   "metadata": {},
   "outputs": [],
   "source": []
  },
  {
   "cell_type": "code",
   "execution_count": null,
   "metadata": {},
   "outputs": [],
   "source": [
    "\n"
   ]
  },
  {
   "cell_type": "markdown",
   "metadata": {},
   "source": [
    "To understand broadcasting and how dimensions are compared from right to left, let’s walk through a practical example with tensors of different shapes and see how they are broadcasted to a common shape for element-wise operations.\n",
    "\n",
    "### Example Tensors\n",
    "\n",
    "Consider two tensors:\n",
    "\n",
    "1. **Tensor A**: Shape `(1, 3)`\n",
    "2. **Tensor B**: Shape `(3, 1)`\n",
    "\n",
    "```python\n",
    "import torch\n",
    "\n",
    "A = torch.tensor([[1, 2, 3]])  # Shape: (1, 3)\n",
    "B = torch.tensor([[4], [5], [6]])  # Shape: (3, 1)\n",
    "```\n",
    "\n",
    "### Tensor Shapes Before Broadcasting\n",
    "\n",
    "- **Tensor A**:\n",
    "  ```\n",
    "  [[1, 2, 3]]\n",
    "  ```\n",
    "  Shape: `(1, 3)`\n",
    "\n",
    "- **Tensor B**:\n",
    "  ```\n",
    "  [[4],\n",
    "   [5],\n",
    "   [6]]\n",
    "  ```\n",
    "  Shape: `(3, 1)`\n",
    "\n",
    "### Broadcasting Rules\n",
    "\n",
    "**Broadcasting** works by aligning tensors to a common shape using the following rules:\n",
    "\n",
    "1. **Compare Dimensions**: Start comparing the shapes of tensors from the rightmost dimension.\n",
    "2. **Dimensions Must Match or Be 1**:\n",
    "   - If dimensions are equal, they match.\n",
    "   - If one dimension is `1`, it can be broadcast to match the other dimension.\n",
    "   - If dimensions are different and neither is `1`, broadcasting is not possible.\n",
    "\n",
    "### Applying Broadcasting\n",
    "\n",
    "1. **Align Shapes**: For tensors `A` and `B`, align them for element-wise operations. The shapes are `(1, 3)` and `(3, 1)`.\n",
    "\n",
    "2. **Start Comparing from Right**:\n",
    "   - **Rightmost Dimension**: `3` (from `A`) and `1` (from `B`)\n",
    "     - The `1` from `B` can be broadcast to `3`, making the dimensions match.\n",
    "   - **Next Dimension**: `1` (from `A`) and `3` (from `B`)\n",
    "     - The `1` from `A` can be broadcast to `3`, making the dimensions match.\n",
    "\n",
    "3. **Broadcasting**:\n",
    "   - **Expand `A`** from `(1, 3)` to `(3, 3)`:\n",
    "     ```\n",
    "     [[1, 2, 3],\n",
    "      [1, 2, 3],\n",
    "      [1, 2, 3]]\n",
    "     ```\n",
    "   - **Expand `B`** from `(3, 1)` to `(3, 3)`:\n",
    "     ```\n",
    "     [[4, 4, 4],\n",
    "      [5, 5, 5],\n",
    "      [6, 6, 6]]\n",
    "     ```\n",
    "\n",
    "### Element-Wise Operation\n",
    "\n",
    "Perform element-wise multiplication on the broadcasted tensors:\n",
    "\n",
    "```python\n",
    "result = A * B\n",
    "print(result)\n",
    "```\n",
    "\n",
    "**Output**:\n",
    "```\n",
    "tensor([[ 4,  8, 12],\n",
    "        [ 5, 10, 15],\n",
    "        [ 6, 12, 18]])\n",
    "```\n",
    "\n",
    "### Summary\n",
    "\n",
    "- **Initial Shapes**: `(1, 3)` and `(3, 1)`\n",
    "- **Broadcasted Shapes**: Both tensors are expanded to `(3, 3)`.\n",
    "- **Result Shape**: The result of the element-wise multiplication is a tensor with shape `(3, 3)`.\n",
    "\n",
    "By comparing dimensions from right to left and using the rules for broadcasting, PyTorch can automatically expand tensors to make their shapes compatible for element-wise operations. This allows for efficient and intuitive computation without manually reshaping tensors."
   ]
  },
  {
   "cell_type": "markdown",
   "metadata": {},
   "source": []
  },
  {
   "cell_type": "markdown",
   "metadata": {},
   "source": []
  },
  {
   "cell_type": "code",
   "execution_count": null,
   "metadata": {},
   "outputs": [],
   "source": []
  },
  {
   "cell_type": "code",
   "execution_count": null,
   "metadata": {},
   "outputs": [],
   "source": []
  },
  {
   "cell_type": "code",
   "execution_count": null,
   "metadata": {},
   "outputs": [],
   "source": []
  },
  {
   "cell_type": "code",
   "execution_count": null,
   "metadata": {},
   "outputs": [],
   "source": []
  },
  {
   "cell_type": "code",
   "execution_count": null,
   "metadata": {},
   "outputs": [],
   "source": []
  },
  {
   "cell_type": "code",
   "execution_count": null,
   "metadata": {},
   "outputs": [],
   "source": []
  },
  {
   "cell_type": "code",
   "execution_count": null,
   "metadata": {},
   "outputs": [],
   "source": []
  },
  {
   "cell_type": "markdown",
   "metadata": {},
   "source": [
    "Yes, you’re correct. In simple matrix multiplication, if you have matrices \\(A\\) and \\(B\\) with shapes \\((1, 3)\\) and \\((3, 1)\\), respectively, the result of the multiplication will indeed be a \\((1, 1)\\) matrix. Let's break this down:\n",
    "\n",
    "### Matrix Multiplication\n",
    "\n",
    "Matrix multiplication is different from element-wise multiplication. The shapes of the matrices must be compatible for matrix multiplication:\n",
    "\n",
    "1. **Matrix \\(A\\)**: Shape \\((1, 3)\\)\n",
    "2. **Matrix \\(B\\)**: Shape \\((3, 1)\\)\n",
    "\n",
    "For matrix multiplication:\n",
    "\n",
    "- **The number of columns in \\(A\\)** must match **the number of rows in \\(B\\)**. Here, \\(A\\) has 3 columns, and \\(B\\) has 3 rows, so the multiplication is valid.\n",
    "- **The resulting matrix** will have the number of rows from \\(A\\) and the number of columns from \\(B\\). Therefore, the result will have shape \\((1, 1)\\).\n",
    "\n",
    "### Calculation\n",
    "\n",
    "The matrix multiplication of \\(A\\) and \\(B\\) can be computed as follows:\n",
    "\n",
    "```python\n",
    "import torch\n",
    "\n",
    "A = torch.tensor([[1, 2, 3]])  # Shape: (1, 3)\n",
    "B = torch.tensor([[4], [5], [6]])  # Shape: (3, 1)\n",
    "\n",
    "# Matrix multiplication\n",
    "result = torch.mm(A, B)  # or A @ B in newer versions of PyTorch\n",
    "print(result)\n",
    "```\n",
    "\n",
    "**Result**:\n",
    "\n",
    "```\n",
    "tensor([[32]])  # Shape: (1, 1)\n",
    "```\n",
    "\n",
    "### Explanation\n",
    "\n",
    "- **Matrix \\(A\\)**:\n",
    "  ```\n",
    "  [[1, 2, 3]]\n",
    "  ```\n",
    "\n",
    "- **Matrix \\(B\\)**:\n",
    "  ```\n",
    "  [[4],\n",
    "   [5],\n",
    "   [6]]\n",
    "  ```\n",
    "\n",
    "To compute the result, perform the dot product of \\(A\\) and \\(B\\):\n",
    "\n",
    "\\[ \n",
    "\\text{result} = \\begin{bmatrix}\n",
    "1 \\cdot 4 + 2 \\cdot 5 + 3 \\cdot 6\n",
    "\\end{bmatrix}\n",
    "= \\begin{bmatrix}\n",
    "4 + 10 + 18\n",
    "\\end{bmatrix}\n",
    "= \\begin{bmatrix}\n",
    "32\n",
    "\\end{bmatrix}\n",
    "\\]\n",
    "\n",
    "### Summary\n",
    "\n",
    "- **Matrix Shapes**: \\(A\\) (1, 3) and \\(B\\) (3, 1)\n",
    "- **Matrix Multiplication Result**: The result is a matrix with shape (1, 1), containing the sum of the products of corresponding elements from \\(A\\) and \\(B\\)."
   ]
  },
  {
   "cell_type": "code",
   "execution_count": null,
   "metadata": {},
   "outputs": [],
   "source": []
  },
  {
   "cell_type": "markdown",
   "metadata": {},
   "source": []
  },
  {
   "cell_type": "markdown",
   "metadata": {},
   "source": []
  },
  {
   "cell_type": "markdown",
   "metadata": {},
   "source": []
  },
  {
   "cell_type": "code",
   "execution_count": null,
   "metadata": {},
   "outputs": [],
   "source": []
  },
  {
   "cell_type": "code",
   "execution_count": null,
   "metadata": {},
   "outputs": [],
   "source": []
  },
  {
   "cell_type": "code",
   "execution_count": null,
   "metadata": {},
   "outputs": [],
   "source": []
  },
  {
   "cell_type": "code",
   "execution_count": null,
   "metadata": {},
   "outputs": [],
   "source": []
  },
  {
   "cell_type": "code",
   "execution_count": null,
   "metadata": {},
   "outputs": [],
   "source": []
  },
  {
   "cell_type": "code",
   "execution_count": null,
   "metadata": {},
   "outputs": [],
   "source": []
  },
  {
   "cell_type": "markdown",
   "metadata": {},
   "source": [
    "It looks like there might have been a misunderstanding between matrix multiplication and element-wise multiplication. Here's a clarification:\n",
    "\n",
    "### Matrix Multiplication vs. Element-Wise Multiplication\n",
    "\n",
    "1. **Matrix Multiplication**:\n",
    "   - **Shape Rules**: For two matrices \\(A\\) with shape \\((1, 3)\\) and \\(B\\) with shape \\((3, 1)\\), matrix multiplication will result in a matrix of shape \\((1, 1)\\).\n",
    "   - **Operation**: The result is computed as the dot product of \\(A\\) and \\(B\\).\n",
    "\n",
    "2. **Element-Wise Multiplication**:\n",
    "   - **Shape Rules**: For tensors with shapes \\((1, 3)\\) and \\((3, 1)\\), element-wise multiplication (using broadcasting) results in a matrix of shape \\((3, 3)\\).\n",
    "   - **Operation**: Broadcasting expands the shapes to match, and then the element-wise product is computed.\n",
    "\n",
    "### Why You Get a \\(3 \\times 3\\) Matrix\n",
    "\n",
    "In the example where you get a \\(3 \\times 3\\) matrix, you performed element-wise multiplication rather than matrix multiplication. Here’s why:\n",
    "\n",
    "#### Example Tensor Shapes\n",
    "\n",
    "```python\n",
    "import torch\n",
    "\n",
    "A = torch.tensor([[1, 2, 3]])  # Shape: (1, 3)\n",
    "B = torch.tensor([[4], [5], [6]])  # Shape: (3, 1)\n",
    "```\n",
    "\n",
    "#### Element-Wise Multiplication\n",
    "\n",
    "```python\n",
    "result = A * B\n",
    "print(result)\n",
    "```\n",
    "\n",
    "**Output**:\n",
    "\n",
    "```\n",
    "tensor([[ 4,  8, 12],\n",
    "        [ 5, 10, 15],\n",
    "        [ 6, 12, 18]])\n",
    "```\n",
    "\n",
    "**Explanation**:\n",
    "\n",
    "- **Tensor A**: Shape `(1, 3)`, which is effectively a row vector.\n",
    "- **Tensor B**: Shape `(3, 1)`, which is effectively a column vector.\n",
    "\n",
    "When you perform element-wise multiplication:\n",
    "\n",
    "1. **Broadcasting**:\n",
    "   - **Expand `A`** from `(1, 3)` to `(3, 3)`:\n",
    "     ```\n",
    "     [[1, 2, 3],\n",
    "      [1, 2, 3],\n",
    "      [1, 2, 3]]\n",
    "     ```\n",
    "\n",
    "   - **Expand `B`** from `(3, 1)` to `(3, 3)`:\n",
    "     ```\n",
    "     [[4, 4, 4],\n",
    "      [5, 5, 5],\n",
    "      [6, 6, 6]]\n",
    "     ```\n",
    "\n",
    "2. **Element-Wise Multiplication**:\n",
    "   ```\n",
    "   [[1*4, 2*4, 3*4],\n",
    "    [1*5, 2*5, 3*5],\n",
    "    [1*6, 2*6, 3*6]]\n",
    "   ```\n",
    "\n",
    "   Which results in:\n",
    "   ```\n",
    "   [[ 4,  8, 12],\n",
    "    [ 5, 10, 15],\n",
    "    [ 6, 12, 18]]\n",
    "   ```\n",
    "\n",
    "### Summary\n",
    "\n",
    "- **Matrix Multiplication**: `(1, 3) * (3, 1)` results in `(1, 1)`.\n",
    "- **Element-Wise Multiplication**: `(1, 3) * (3, 1)` with broadcasting results in `(3, 3)`.\n",
    "\n",
    "The \\(3 \\times 3\\) matrix you observed was due to element-wise multiplication with broadcasting, not matrix multiplication."
   ]
  },
  {
   "cell_type": "code",
   "execution_count": null,
   "metadata": {},
   "outputs": [],
   "source": []
  },
  {
   "cell_type": "code",
   "execution_count": null,
   "metadata": {},
   "outputs": [],
   "source": []
  },
  {
   "cell_type": "code",
   "execution_count": null,
   "metadata": {},
   "outputs": [],
   "source": []
  },
  {
   "cell_type": "code",
   "execution_count": null,
   "metadata": {},
   "outputs": [],
   "source": []
  },
  {
   "cell_type": "code",
   "execution_count": null,
   "metadata": {},
   "outputs": [],
   "source": []
  },
  {
   "cell_type": "markdown",
   "metadata": {},
   "source": [
    "Yes, matrix multiplication and element-wise multiplication serve different purposes and are used for different operations in neural networks. Here’s a breakdown of why both are important and how they are used:\n",
    "\n",
    "### Matrix Multiplication\n",
    "\n",
    "**Matrix Multiplication** is used to combine two matrices in a way that is fundamental for operations like:\n",
    "\n",
    "1. **Linear Transformations**:\n",
    "   - In neural networks, each layer typically performs a linear transformation of the input data using a weight matrix.\n",
    "   - For example, in a fully connected layer (or dense layer), the operation is:\n",
    "     \\[\n",
    "     \\text{output} = \\text{input} \\times \\text{weights} + \\text{bias}\n",
    "     \\]\n",
    "   - Here, \\(\\text{input}\\) is a matrix (or tensor), \\(\\text{weights}\\) is another matrix, and the result is computed using matrix multiplication.\n",
    "\n",
    "2. **Transformation of Features**:\n",
    "   - Matrix multiplication is used to transform the input features into a new space. This is crucial in neural networks for learning and representing complex patterns.\n",
    "\n",
    "**Example**:\n",
    "\n",
    "```python\n",
    "import torch\n",
    "\n",
    "# Input tensor of shape (batch_size, features)\n",
    "input_tensor = torch.tensor([[1., 2., 3.]])  # Shape: (1, 3)\n",
    "\n",
    "# Weight matrix of shape (3, 2)\n",
    "weights = torch.tensor([[0.1, 0.2],\n",
    "                        [0.3, 0.4],\n",
    "                        [0.5, 0.6]])  # Shape: (3, 2)\n",
    "\n",
    "# Matrix multiplication\n",
    "output_tensor = torch.mm(input_tensor, weights)  # Shape: (1, 2)\n",
    "print(output_tensor)\n",
    "```\n",
    "\n",
    "### Element-Wise Multiplication\n",
    "\n",
    "**Element-Wise Multiplication** is used to perform operations where each element of one matrix or tensor is multiplied by the corresponding element of another matrix or tensor. This is crucial for:\n",
    "\n",
    "1. **Activation Functions**:\n",
    "   - Element-wise operations are used in activation functions (e.g., ReLU, sigmoid) applied after linear transformations.\n",
    "\n",
    "2. **Attention Mechanisms**:\n",
    "   - In attention mechanisms, element-wise multiplication is used to weight features.\n",
    "\n",
    "3. **Normalization and Regularization**:\n",
    "   - Techniques like dropout or batch normalization use element-wise operations to modify activations.\n",
    "\n",
    "**Example**:\n",
    "\n",
    "```python\n",
    "import torch\n",
    "\n",
    "# Two tensors of the same shape\n",
    "tensor1 = torch.tensor([[1., 2., 3.]])\n",
    "tensor2 = torch.tensor([[4., 5., 6.]])\n",
    "\n",
    "# Element-wise multiplication\n",
    "result = tensor1 * tensor2\n",
    "print(result)\n",
    "```\n",
    "\n",
    "### Why Both Are Used in Neural Networks\n",
    "\n",
    "- **Matrix Multiplication** is used to perform linear transformations and combine features in a structured way that allows the network to learn complex patterns.\n",
    "- **Element-Wise Multiplication** is used for operations that need to be applied independently to each element of the tensors, such as applying activation functions, attention mechanisms, or modifying feature maps.\n",
    "\n",
    "Both types of multiplication are fundamental to different aspects of neural network operations, and they complement each other to enable the network to learn from data and make predictions effectively."
   ]
  },
  {
   "cell_type": "code",
   "execution_count": null,
   "metadata": {},
   "outputs": [],
   "source": []
  },
  {
   "cell_type": "code",
   "execution_count": null,
   "metadata": {},
   "outputs": [],
   "source": []
  },
  {
   "cell_type": "code",
   "execution_count": null,
   "metadata": {},
   "outputs": [],
   "source": []
  },
  {
   "cell_type": "code",
   "execution_count": null,
   "metadata": {},
   "outputs": [],
   "source": []
  },
  {
   "cell_type": "markdown",
   "metadata": {},
   "source": [
    "Matrix multiplication and element-wise multiplication serve different purposes in neural networks:\n",
    "\n",
    "Matrix multiplication:\n",
    "1. Used for layer operations (e.g. dense layers)\n",
    "2. Combines input features with learned weights\n",
    "3. Allows networks to learn complex mappings\n",
    "4. Essential for most neural network architectures\n",
    "\n",
    "Element-wise multiplication:\n",
    "1. Used in specific operations (e.g. gates in LSTMs)\n",
    "2. Applied in some activation functions\n",
    "3. Used in attention mechanisms\n",
    "4. Helpful for feature scaling or masking\n",
    "\n",
    "Matrix multiplication is more fundamental to neural network operations, while element-wise multiplication is used in specific architectures or techniques.\n",
    "\n",
    "Would you like me to elaborate on any specific aspect of these operations or their applications in neural networks?"
   ]
  },
  {
   "cell_type": "code",
   "execution_count": null,
   "metadata": {},
   "outputs": [],
   "source": []
  },
  {
   "cell_type": "code",
   "execution_count": 654,
   "metadata": {},
   "outputs": [
    {
     "data": {
      "text/plain": [
       "tensor(14)"
      ]
     },
     "execution_count": 654,
     "metadata": {},
     "output_type": "execute_result"
    }
   ],
   "source": [
    "torch.dot(torch.tensor([1,2,3]), torch.tensor([1,2,3]))"
   ]
  },
  {
   "cell_type": "markdown",
   "metadata": {},
   "source": [
    "Replacing matrix multiplication with element-wise multiplication in neural networks isn't generally feasible or desirable. Here's why:\n",
    "\n",
    "1. Dimensionality: Matrix multiplication allows combining inputs of different dimensions, which is crucial for connecting layers of different sizes. Element-wise multiplication requires matching dimensions.\n",
    "\n",
    "2. Feature interaction: Matrix multiplication enables each output to be influenced by all inputs, allowing the network to learn complex relationships. Element-wise multiplication limits each output to depend only on the corresponding input.\n",
    "\n",
    "3. Expressiveness: Neural networks with matrix multiplication are universal function approximators. Replacing this with element-wise operations would severely limit the network's ability to learn and represent complex functions.\n",
    "\n",
    "4. Information flow: Matrix multiplication allows information to flow and combine across all dimensions, which is essential for the network's ability to extract and process features.\n",
    "\n",
    "5. Established theory: Much of the theory and practice of neural networks is built on the properties of matrix multiplication.\n",
    "\n",
    "However, there are some specialized cases where element-wise operations play a crucial role:\n",
    "\n",
    "- In certain types of convolutional neural networks\n",
    "- In attention mechanisms\n",
    "- In gating mechanisms (like in LSTMs)\n",
    "\n",
    "These use element-wise operations in conjunction with, not as a replacement for, matrix multiplications.\n",
    "\n",
    "Would you like me to expand on any of these points or discuss specific architectures where element-wise operations are important?"
   ]
  },
  {
   "cell_type": "code",
   "execution_count": null,
   "metadata": {},
   "outputs": [],
   "source": []
  },
  {
   "cell_type": "code",
   "execution_count": null,
   "metadata": {},
   "outputs": [],
   "source": []
  },
  {
   "cell_type": "markdown",
   "metadata": {},
   "source": []
  },
  {
   "cell_type": "markdown",
   "metadata": {},
   "source": [
    "## striding"
   ]
  },
  {
   "cell_type": "markdown",
   "metadata": {},
   "source": [
    "Let's walk through what happens when you use `torch.tensor(0).expand_as(m)` and then inspect the properties of the resulting tensor `z`.\n",
    "\n",
    " 1. `z = torch.tensor(0).expand_as(m)`\n",
    "\n",
    "This creates a tensor `z` that has the same shape as `m`, but all elements are just views of the original scalar `0`. This means that all elements in `z` reference the same memory location as the original scalar.\n",
    "\n",
    " 2. Inspecting the Tensor `z` and Its Properties\n",
    "\n",
    "Let's look at what each part of the code returns:\n"
   ]
  },
  {
   "cell_type": "code",
   "execution_count": 655,
   "metadata": {},
   "outputs": [
    {
     "data": {
      "text/plain": [
       "(tensor([[0, 0, 0],\n",
       "         [0, 0, 0],\n",
       "         [0, 0, 0]]),\n",
       " tensor(0),\n",
       "  0\n",
       " [torch.storage.TypedStorage(dtype=torch.int64, device=cpu) of size 1],\n",
       " (0, 0))"
      ]
     },
     "execution_count": 655,
     "metadata": {},
     "output_type": "execute_result"
    }
   ],
   "source": [
    "m = torch.arange(1, 10).reshape(3, 3)  # Create a 3x3 tensor\n",
    "z = torch.tensor(0).expand_as(m)       # Expand scalar 0 to the shape of m\n",
    "\n",
    "z, torch.tensor(0), z.storage(), z.stride()\n"
   ]
  },
  {
   "cell_type": "markdown",
   "metadata": {},
   "source": [
    "\n",
    "- **`z`**: This will be a `3x3` tensor filled with `0`s, but all elements are views of the same scalar.\n",
    "\n",
    "- **`torch.tensor(0)`**: This is the original scalar tensor with a single value `0`.\n",
    "\n",
    "- **`z.storage()`**: The storage is shared and will still only contain the original `0`. The storage doesn't actually contain multiple copies of the value.\n",
    "\n",
    "- **`z.stride()`**: This indicates how many steps you need to move in the storage to get to the next element along each dimension. Since all elements in `z` are views of the same scalar, the stride will show `(0, 1)`.\n",
    "\n",
    "##### Example Output\n",
    "\n",
    "```python\n"
   ]
  },
  {
   "cell_type": "markdown",
   "metadata": {},
   "source": [
    "\n",
    "tensor([[0, 0, 0],\n",
    "        [0, 0, 0],\n",
    "        [0, 0, 0]]),  # z (expanded tensor)\n",
    "\n",
    "tensor(0),            # Original scalar tensor\n"
   ]
  },
  {
   "cell_type": "markdown",
   "metadata": {},
   "source": [
    "\n",
    "<torch.Storage at 0x7f8e2410a9d0>,  # Shared storage (only contains the scalar 0)\n",
    "\n",
    "(0, 1)                # Stride\n",
    "```\n",
    "\n",
    "- **`z`**: A `3x3` tensor of zeros, where all elements are views of the same scalar.\n",
    "- **`torch.tensor(0)`**: The original scalar.\n",
    "- **`z.storage()`**: The storage shows that it is still pointing to the single value `0`.\n",
    "- **`z.stride()`**: The stride `(0, 1)` indicates that moving along the rows doesn't require a step in storage (since they all reference the same value), while moving along columns requires a step of `1` in storage.\n",
    "\n",
    " Key Points\n",
    "\n",
    "- The tensor `z` doesn't create multiple copies of the value `0`. Instead, it's an expanded view.\n",
    "- The storage remains the same and contains just one `0`.\n",
    "- The stride `(0, 1)` reflects that the tensor is effectively \"flat\" and doesn't take up more memory."
   ]
  },
  {
   "cell_type": "code",
   "execution_count": null,
   "metadata": {},
   "outputs": [],
   "source": []
  },
  {
   "cell_type": "markdown",
   "metadata": {},
   "source": [
    "The concept of **stride** in PyTorch (and in many other tensor manipulation libraries) refers to the number of elements to skip in memory to move to the next position along a specific dimension of a tensor.\n",
    "\n",
    "### Explanation of Stride `(0, 1)`\n",
    "\n",
    "- **`(0, 1)`**: This is a tuple representing the stride for each dimension of the tensor.\n",
    "\n",
    "#### Breaking Down the Stride `(0, 1)`:\n",
    "\n",
    "1. **Stride `0` for the First Dimension (Rows)**:\n",
    "   - A stride of `0` in the first dimension (rows) means that to move from one row to the next, no actual step is made in memory. In other words, all rows are pointing to the same memory location (the same scalar value). This happens because the tensor is an expanded view of a single scalar, not a separate copy for each element in each row.\n",
    "   - As a result, all rows are effectively the same row, and no additional memory is traversed when moving between rows.\n",
    "\n",
    "2. **Stride `1` for the Second Dimension (Columns)**:\n",
    "   - A stride of `1` in the second dimension (columns) indicates that to move from one column to the next within the same row, you move one step in memory. In a typical 2D tensor, this would mean moving to the next element within the row.\n",
    "   - However, since in this case the entire tensor is just an expanded view of a single scalar, this stride of `1` doesn't actually correspond to different memory locations, but rather just points back to the same scalar value.\n",
    "\n",
    "### Visualization\n",
    "\n",
    "Consider a tensor created like this:\n",
    "\n",
    "```python\n",
    "z = torch.tensor(0).expand(3, 3)\n",
    "```\n",
    "\n",
    "The tensor `z` might look like this:\n",
    "\n",
    "```\n",
    "tensor([[0, 0, 0],\n",
    "        [0, 0, 0],\n",
    "        [0, 0, 0]])\n",
    "```\n",
    "\n",
    "But internally, all of these `0`s are just views of the same scalar:\n",
    "\n",
    "- The stride `(0, 1)` indicates that moving between elements in the first dimension (rows) does not require moving in memory (`0` stride).\n",
    "- Moving between elements in the second dimension (columns) requires a step of `1`, but since all elements are just views of the same scalar, this stride of `1` doesn't actually change the memory location—it just points back to the same value.\n",
    "\n",
    " Why Stride `(0, 1)`?\n",
    "\n",
    "- **Efficient Memory Usage**: The tensor does not allocate separate memory for each element, leading to efficient memory usage.\n",
    "- **Shared Value**: All elements in the tensor are views of the same underlying scalar value (`0`), and hence, moving across rows or columns doesn't require additional memory operations."
   ]
  },
  {
   "cell_type": "code",
   "execution_count": null,
   "metadata": {},
   "outputs": [],
   "source": []
  }
 ],
 "metadata": {
  "kernelspec": {
   "display_name": "pytorch3d",
   "language": "python",
   "name": "pytorch3d"
  },
  "language_info": {
   "codemirror_mode": {
    "name": "ipython",
    "version": 3
   },
   "file_extension": ".py",
   "mimetype": "text/x-python",
   "name": "python",
   "nbconvert_exporter": "python",
   "pygments_lexer": "ipython3",
   "version": "3.11.7"
  }
 },
 "nbformat": 4,
 "nbformat_minor": 2
}
