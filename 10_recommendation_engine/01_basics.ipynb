{
 "cells": [
  {
   "cell_type": "markdown",
   "id": "4e3c2624",
   "metadata": {},
   "source": [
    "# Recommender systems:\n"
   ]
  },
  {
   "cell_type": "markdown",
   "id": "8da6f5d8",
   "metadata": {},
   "source": []
  },
  {
   "cell_type": "markdown",
   "id": "648de220",
   "metadata": {},
   "source": []
  },
  {
   "cell_type": "markdown",
   "id": "905df040",
   "metadata": {},
   "source": []
  },
  {
   "cell_type": "markdown",
   "id": "5c118dd3",
   "metadata": {},
   "source": []
  },
  {
   "cell_type": "markdown",
   "id": "5c08378e",
   "metadata": {},
   "source": []
  }
 ],
 "metadata": {
  "language_info": {
   "name": "python"
  }
 },
 "nbformat": 4,
 "nbformat_minor": 5
}
