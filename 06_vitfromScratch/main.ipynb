{
 "cells": [
  {
   "cell_type": "code",
   "execution_count": null,
   "metadata": {},
   "outputs": [],
   "source": []
  },
  {
   "cell_type": "markdown",
   "metadata": {},
   "source": []
  },
  {
   "cell_type": "markdown",
   "metadata": {},
   "source": [
    "## **to get total number of patches in 3x3 image is divide by size of one patch i.e. 1x1**\n",
    "\n",
    "(3/1)**2 = 9"
   ]
  },
  {
   "cell_type": "code",
   "execution_count": null,
   "metadata": {},
   "outputs": [],
   "source": []
  },
  {
   "cell_type": "code",
   "execution_count": null,
   "metadata": {},
   "outputs": [],
   "source": []
  },
  {
   "cell_type": "markdown",
   "metadata": {},
   "source": [
    "Yes, exactly! In short, if the **image size** and **patch size** are square and the patch size divides the image size evenly, you can calculate the total number of patches by:\n",
    "\n",
    "\\[\n",
    "\\text{Total patches} = \\left( \\frac{\\text{Image size}}{\\text{Patch size}} \\right)^2\n",
    "\\]\n",
    "\n",
    "For your example:\n",
    "\n",
    "\\[\n",
    "\\text{Total patches} = \\left( \\frac{3}{1} \\right)^2 = 3^2 = 9\n",
    "\\]\n",
    "\n",
    "This shortcut works because the patches are square and cover the image without overlap or remainder."
   ]
  },
  {
   "cell_type": "code",
   "execution_count": null,
   "metadata": {},
   "outputs": [],
   "source": []
  },
  {
   "cell_type": "markdown",
   "metadata": {},
   "source": []
  },
  {
   "cell_type": "markdown",
   "metadata": {},
   "source": [
    "In a Vision Transformer (ViT), the total number of patches in an image is calculated by dividing the image's dimensions by the dimensions of a single patch.\n",
    "\n",
    "For your example:\n",
    "\n",
    "- **Image size**: \\( 3 \\times 3 \\)\n",
    "- **Patch size**: \\( 1 \\times 1 \\)\n",
    "\n",
    "To calculate the total number of patches:\n",
    "\n",
    "1. **Divide the image dimensions by the patch dimensions**:\n",
    "   \\[\n",
    "   \\text{Number of patches in width (W)} = \\frac{\\text{Image width}}{\\text{Patch width}} = \\frac{3}{1} = 3\n",
    "   \\]\n",
    "   \\[\n",
    "   \\text{Number of patches in height (H)} = \\frac{\\text{Image height}}{\\text{Patch height}} = \\frac{3}{1} = 3\n",
    "   \\]\n",
    "\n",
    "2. **Multiply the number of patches along each dimension**:\n",
    "   \\[\n",
    "   \\text{Total number of patches} = \\text{W} \\times \\text{H} = 3 \\times 3 = 9\n",
    "   \\]\n",
    "\n",
    "### Explanation\n",
    "Each \\( 1 \\times 1 \\) patch is a distinct region of the \\( 3 \\times 3 \\) image. Since the image is perfectly divisible by the patch size, there are \\( 9 \\) patches in total."
   ]
  },
  {
   "cell_type": "markdown",
   "metadata": {},
   "source": []
  },
  {
   "cell_type": "code",
   "execution_count": null,
   "metadata": {},
   "outputs": [],
   "source": []
  },
  {
   "cell_type": "code",
   "execution_count": null,
   "metadata": {},
   "outputs": [],
   "source": []
  },
  {
   "cell_type": "code",
   "execution_count": null,
   "metadata": {},
   "outputs": [],
   "source": []
  },
  {
   "cell_type": "code",
   "execution_count": 1,
   "metadata": {},
   "outputs": [],
   "source": [
    "import torch\n",
    "import torch.nn as nn"
   ]
  },
  {
   "cell_type": "code",
   "execution_count": 2,
   "metadata": {},
   "outputs": [],
   "source": [
    "LEARNING_RATE = 1e-4\n",
    "NUM_CLASSES = 10\n",
    "PATCH_SIZE = 4\n",
    "IMG_SIZE = 28\n",
    "IN_CHANNELS = 1\n",
    "NUM_HEADS = 8\n",
    "DROPOUT = 0.001\n",
    "HIDDEN_DIM = 768  # mlp head dimension\n",
    "ADAM_WEIGHT_DECAY = 0\n",
    "ADAM_BETAS = (0.9, 0.99)\n",
    "ACTIVATION = \"gelu\"\n",
    "NUM_ENCODERS = 4\n",
    "EMBED_DIM = PATCH_SIZE * PATCH_SIZE * IN_CHANNELS  # 16   #patch's  W*H*CHEANNELs\n",
    "NUM_PATCHES = (IMG_SIZE // PATCH_SIZE) ** 2  # 49\n",
    "\n",
    "\n",
    "device = \"cuda\" if torch.cuda.is_available() else \"cpu\"\n",
    "# device = \"cpu\""
   ]
  },
  {
   "cell_type": "markdown",
   "metadata": {},
   "source": [
    "\n",
    "\n",
    "![alt text](<vit _01.png>)\n",
    "\n",
    "\n",
    "\n",
    "cls taken has a positional embedding too\n"
   ]
  },
  {
   "cell_type": "code",
   "execution_count": 3,
   "metadata": {},
   "outputs": [
    {
     "data": {
      "text/plain": [
       "torch.Size([512, 50, 16])"
      ]
     },
     "execution_count": 3,
     "metadata": {},
     "output_type": "execute_result"
    }
   ],
   "source": [
    "import torch.nn as nn\n",
    "\n",
    "\n",
    "class PatchEmbedding(nn.Module):\n",
    "    def __init__(self, embed_dim, patch_size, num_patches, dropout, in_channels):\n",
    "        super().__init__()\n",
    "\n",
    "        self.patcher = nn.Sequential(\n",
    "            nn.Conv2d(\n",
    "                in_channels=in_channels,\n",
    "                out_channels=embed_dim,\n",
    "                kernel_size=patch_size,\n",
    "                stride=patch_size,\n",
    "            ),\n",
    "            nn.Flatten(2),\n",
    "        )\n",
    "\n",
    "        self.cls_token = nn.Parameter(\n",
    "            torch.randn(size=(1, in_channels, embed_dim)), requires_grad=True\n",
    "        )  # (batch_size, inn_channels, output_channeks)\n",
    "        self.position_embeddings = nn.Parameter(\n",
    "            torch.randn(size=(1, num_patches + 1, embed_dim)), requires_grad=True\n",
    "        )  # +1 because CLS token is also acting as a batch.. each image patch/token has a positional embeddings correspondent\n",
    "        self.dropout = nn.Dropout(p=dropout)\n",
    "\n",
    "    def forward(self, x):\n",
    "        cls_token = self.cls_token.expand(\n",
    "            x.shape[0], -1, -1\n",
    "        )  # -1 mean keep dimensoins,,dont chnage them\n",
    "        # print(f\"{cls_token.shape=}\")\n",
    "        x = self.patcher(x).permute(0, 2, 1)\n",
    "        # now add left cls token to it\n",
    "        x = torch.cat([cls_token, x], dim=1)\n",
    "        x = self.position_embeddings + x\n",
    "        x = self.dropout(x)\n",
    "        return x\n",
    "\n",
    "\n",
    "model = PatchEmbedding(\n",
    "    embed_dim=EMBED_DIM,\n",
    "    patch_size=PATCH_SIZE,\n",
    "    num_patches=NUM_PATCHES,\n",
    "    dropout=DROPOUT,\n",
    "    in_channels=IN_CHANNELS,\n",
    ").to(device)\n",
    "\n",
    "x = torch.randn(512, 1, 28, 28).to(device=device)  # dummy input # b, c, h, w\n",
    "\n",
    "model(x).shape  # (batch, NUM_PATCHES:49  + 1 for cls, EMBED_DIM"
   ]
  },
  {
   "cell_type": "code",
   "execution_count": null,
   "metadata": {},
   "outputs": [],
   "source": []
  },
  {
   "cell_type": "code",
   "execution_count": null,
   "metadata": {},
   "outputs": [],
   "source": []
  },
  {
   "cell_type": "markdown",
   "metadata": {},
   "source": [
    "The **[CLS] token** in Vision Transformers (ViT) is a special learnable embedding introduced to aggregate information across all patches for tasks like classification. Here's how it works:\n",
    "\n",
    "### Purpose of the [CLS] Token\n",
    "- The **[CLS] token** stands for \"classification token.\"\n",
    "- It acts as a placeholder for the global representation of the image.\n",
    "- After the transformer layers process the input patches, the final state of the **[CLS] token** serves as the input to a classification head for downstream tasks (e.g., predicting image labels).\n",
    "\n",
    "---\n",
    "\n",
    "### Process in ViT\n",
    "1. **Input Patches**:\n",
    "   - The image is divided into fixed-size patches, flattened, and embedded into a sequence of vectors (patch embeddings).\n",
    "   - Positional embeddings are added to retain spatial information.\n",
    "\n",
    "2. **[CLS] Token Initialization**:\n",
    "   - A learnable vector (the [CLS] token) is prepended to the sequence of patch embeddings.\n",
    "   - The input to the transformer becomes: \\([ \\text{[CLS]}, P_1, P_2, \\dots, P_N ]\\), where \\(P_i\\) are the patch embeddings.\n",
    "\n",
    "3. **Transformer Processing**:\n",
    "   - The sequence, including the [CLS] token, is passed through multiple transformer layers.\n",
    "   - Each layer updates the representation of the [CLS] token based on interactions with the patch embeddings.\n",
    "\n",
    "4. **Output**:\n",
    "   - After the final transformer layer, the [CLS] token contains a global representation of the image.\n",
    "   - This representation is passed to a **classification head** (typically an MLP) for the final prediction.\n",
    "\n",
    "---\n",
    "\n",
    "### Why Use the [CLS] Token?\n",
    "- **Global Aggregation**: The [CLS] token aggregates information from all patches, acting as a summary of the image.\n",
    "- **Simplicity**: Using a single token for classification avoids the need for pooling operations like average or max pooling.\n",
    "- **Flexibility**: The same mechanism can be adapted for tasks other than classification by modifying the downstream head.\n",
    "\n",
    "---\n",
    "\n",
    "### Example Workflow in ViT\n",
    "1. **Input Image**: \\( 224 \\times 224 \\) image divided into \\( 16 \\times 16 \\) patches → \\( 14 \\times 14 = 196 \\) patches.\n",
    "2. **Sequence**: [CLS] + 196 patch embeddings → \\( 197 \\) tokens.\n",
    "3. **Output**: Final state of [CLS] → passed to the classification head.\n",
    "\n",
    "The [CLS] token is central to the ViT architecture, enabling efficient global understanding of the input image."
   ]
  },
  {
   "cell_type": "code",
   "execution_count": null,
   "metadata": {},
   "outputs": [],
   "source": []
  },
  {
   "cell_type": "code",
   "execution_count": null,
   "metadata": {},
   "outputs": [],
   "source": []
  },
  {
   "cell_type": "markdown",
   "metadata": {},
   "source": [
    "Yes, in Vision Transformers (**ViT**), the **prediction is based on the [CLS] token**. Here's how it works in detail:\n",
    "\n",
    "### Why Prediction is Based on [CLS] Token\n",
    "The **[CLS] token** is designed to serve as a global representation of the input image. During the forward pass through the transformer layers, the [CLS] token interacts with all the patch embeddings and gathers information from the entire image.\n",
    "\n",
    "After the final transformer layer:\n",
    "- The [CLS] token contains a summarized feature representation of the image.\n",
    "- This feature vector is then passed through a **classification head** (e.g., a fully connected layer or MLP) to make the final prediction.\n",
    "\n",
    "---\n",
    "\n",
    "### Step-by-Step Process for Prediction\n",
    "\n",
    "1. **Input Sequence**:\n",
    "   - The input sequence is \\([ \\text{[CLS]}, P_1, P_2, \\dots, P_N ]\\), where \\(P_i\\) are the patch embeddings, and [CLS] is the classification token.\n",
    "\n",
    "2. **Transformer Layers**:\n",
    "   - The sequence is processed by the transformer, and the [CLS] token is updated at each layer through attention with the patch embeddings.\n",
    "\n",
    "3. **Final [CLS] Token**:\n",
    "   - After the last transformer layer, the [CLS] token contains a high-level feature vector summarizing the entire image.\n",
    "\n",
    "4. **Classification Head**:\n",
    "   - The [CLS] token's final representation is passed through a classification head (e.g., a linear layer with softmax) to predict the image class.\n",
    "\n",
    "---\n",
    "\n",
    "### Example\n",
    "For a classification task:\n",
    "1. **Input Image**: \\(224 \\times 224\\) image divided into \\(16 \\times 16\\) patches → \\(14 \\times 14 = 196\\) patches.\n",
    "2. **Input Sequence**: [CLS] + 196 patch embeddings → \\(197\\) tokens.\n",
    "3. **Output of Transformer**: Final [CLS] token → \\(D\\)-dimensional vector (e.g., \\(D = 768\\)).\n",
    "4. **Classification**:\n",
    "   \\[\n",
    "   \\text{Prediction} = \\text{Softmax}(\\text{Linear}(\\text{[CLS]}))\n",
    "   \\]\n",
    "\n",
    "---\n",
    "\n",
    "### Key Benefits of Using [CLS] Token for Prediction\n",
    "- **Global Context**: It gathers information from all patches through attention.\n",
    "- **Simplicity**: Eliminates the need for additional pooling layers like average or max pooling.\n",
    "- **Flexibility**: Can be adapted for tasks like segmentation or object detection by adding task-specific heads.\n",
    "\n",
    "Thus, in ViT, the final prediction for classification is **entirely based on the [CLS] token's representation**."
   ]
  },
  {
   "cell_type": "code",
   "execution_count": null,
   "metadata": {},
   "outputs": [],
   "source": []
  },
  {
   "cell_type": "code",
   "execution_count": null,
   "metadata": {},
   "outputs": [],
   "source": []
  },
  {
   "cell_type": "code",
   "execution_count": null,
   "metadata": {},
   "outputs": [],
   "source": []
  },
  {
   "cell_type": "markdown",
   "metadata": {},
   "source": [
    "![alt-text](vit_02.png)"
   ]
  },
  {
   "cell_type": "code",
   "execution_count": 4,
   "metadata": {},
   "outputs": [
    {
     "name": "stderr",
     "output_type": "stream",
     "text": [
      "/home/zohaib/anaconda3/lib/python3.12/site-packages/torch/nn/modules/transformer.py:379: UserWarning: enable_nested_tensor is True, but self.use_nested_tensor is False because encoder_layer.norm_first was True\n",
      "  warnings.warn(\n"
     ]
    },
    {
     "data": {
      "text/plain": [
       "torch.Size([512, 10])"
      ]
     },
     "execution_count": 4,
     "metadata": {},
     "output_type": "execute_result"
    }
   ],
   "source": [
    "class ViT(nn.Module):\n",
    "    def __init__(\n",
    "        self,\n",
    "        num_patches,\n",
    "        img_size,\n",
    "        num_classes,\n",
    "        patch_size,\n",
    "        embed_dim,\n",
    "        num_encoders,\n",
    "        num_head,\n",
    "        hidden_dim,\n",
    "        dropout,\n",
    "        activation,\n",
    "        in_channels,\n",
    "    ):\n",
    "        super().__init__()\n",
    "        self.embeddings_block = PatchEmbedding(\n",
    "            embed_dim=embed_dim,\n",
    "            patch_size=patch_size,\n",
    "            num_patches=num_patches,\n",
    "            dropout=dropout,\n",
    "            in_channels=in_channels,\n",
    "        )\n",
    "        encoder_layer = nn.TransformerEncoderLayer(\n",
    "            d_model=embed_dim,\n",
    "            nhead=num_head,\n",
    "            dropout=dropout,\n",
    "            activation=activation,\n",
    "            batch_first=True,  # batch will come first i.e. (B, C,H,W)\n",
    "            norm_first=True,  # norm before attentiona and mlp lauer\n",
    "        )\n",
    "        self.encoder_blocks = nn.TransformerEncoder(\n",
    "            encoder_layer, num_layers=num_encoders\n",
    "        )\n",
    "        self.mlp_head = nn.Sequential(\n",
    "            nn.LayerNorm(normalized_shape=embed_dim),\n",
    "            nn.Linear(in_features=embed_dim, out_features=num_classes),\n",
    "        )\n",
    "\n",
    "    def forward(self, x):\n",
    "        x = self.embeddings_block(x)\n",
    "        x = self.encoder_blocks(x)\n",
    "        x = self.mlp_head(x[:, 0, :])  # only take 0th token: cls token\n",
    "        # we dont classify on whole embedding,,instead we only classify on cls token and we only feed cls token to mlp_head\n",
    "        return x\n",
    "\n",
    "\n",
    "model = ViT(\n",
    "    NUM_PATCHES,\n",
    "    IMG_SIZE,\n",
    "    NUM_CLASSES,\n",
    "    PATCH_SIZE,\n",
    "    EMBED_DIM,\n",
    "    NUM_ENCODERS,\n",
    "    NUM_HEADS,\n",
    "    HIDDEN_DIM,\n",
    "    DROPOUT,\n",
    "    ACTIVATION,\n",
    "    IN_CHANNELS,\n",
    ").to(device)\n",
    "y = torch.randn(512, 1, 28, 28).to(device)\n",
    "model(y).shape"
   ]
  },
  {
   "cell_type": "code",
   "execution_count": null,
   "metadata": {},
   "outputs": [],
   "source": []
  },
  {
   "cell_type": "markdown",
   "metadata": {},
   "source": [
    "## training"
   ]
  },
  {
   "cell_type": "code",
   "execution_count": 5,
   "metadata": {},
   "outputs": [],
   "source": [
    "import pandas\n",
    "from torch import optim\n",
    "import pandas as pd\n",
    "from torch.utils.data import DataLoader, Dataset\n",
    "from torchvision import transforms\n",
    "from sklearn.model_selection import train_test_split\n",
    "import matplotlib.pyplot as plt\n",
    "import numpy as np\n",
    "import random\n",
    "import timeit\n",
    "from tqdm import tqdm"
   ]
  },
  {
   "cell_type": "code",
   "execution_count": 6,
   "metadata": {},
   "outputs": [],
   "source": [
    "RANDOM_SEED = 42\n",
    "EPOCHS = 40\n",
    "BATCH_SIZE = 512\n",
    "\n",
    "\n",
    "random.seed(RANDOM_SEED)\n",
    "np.random.seed(RANDOM_SEED)\n",
    "torch.manual_seed(RANDOM_SEED)\n",
    "torch.cuda.manual_seed(RANDOM_SEED)\n",
    "torch.cuda.manual_seed_all(RANDOM_SEED)\n",
    "torch.backends.cudnn.deterministic = True\n",
    "torch.backends.cudnn.benchmark = False"
   ]
  },
  {
   "cell_type": "markdown",
   "metadata": {},
   "source": [
    "This code sets a consistent random seed across different libraries and configurations to ensure reproducibility in a machine learning experiment. Let’s break it down:\n",
    "\n",
    "---\n",
    "\n",
    "### 1. **Variable Definitions**\n",
    "- **`RANDOM_SEED = 42`**  \n",
    "  This is the seed value for random number generation. The choice of `42` is arbitrary and commonly used as a placeholder for deterministic experiments.\n",
    "\n",
    "- **`EPOCHS = 40` and `BATCH_SIZE = 512`**  \n",
    "  These variables define the number of training iterations (epochs) and the size of mini-batches for gradient descent, respectively. They are unrelated to the random seed but are typical settings in ML training loops.\n",
    "\n",
    "---\n",
    "\n",
    "### 2. **Random Seed Initialization**\n",
    "- **`random.seed(RANDOM_SEED)`**  \n",
    "  Sets the seed for Python's built-in `random` module, which is used for generating pseudo-random numbers.\n",
    "\n",
    "- **`np.random.seed(RANDOM_SEED)`**  \n",
    "  Sets the seed for NumPy's random number generator. NumPy is often used for array manipulations and operations requiring randomness.\n",
    "\n",
    "- **`torch.manual_seed(RANDOM_SEED)`**  \n",
    "  Sets the seed for PyTorch's CPU random number generator, ensuring consistent results for operations involving randomness on the CPU.\n",
    "\n",
    "- **`torch.cuda.manual_seed(RANDOM_SEED)`**  \n",
    "  Sets the seed for PyTorch's CUDA random number generator, ensuring consistent results for GPU computations involving randomness.\n",
    "\n",
    "- **`torch.cuda.manual_seed_all(RANDOM_SEED)`**  \n",
    "  Similar to `manual_seed`, but ensures that all GPUs (if multiple are used) use the same seed for randomness.\n",
    "\n",
    "---\n",
    "\n",
    "### 3. **PyTorch Backend Configuration**\n",
    "- **`torch.backends.cudnn.deterministic = True`**  \n",
    "  Ensures deterministic behavior for operations using cuDNN (NVIDIA's library for deep neural networks). When set to `True`, cuDNN uses deterministic algorithms for reproducibility. This may slow down training slightly.\n",
    "\n",
    "- **`torch.backends.cudnn.benchmark = False`**  \n",
    "  Disables cuDNN's benchmarking feature, which typically selects the fastest algorithm for a given operation. Turning this off ensures that the same algorithm is used for consistent results, at the cost of potentially reduced performance.\n",
    "\n",
    "---\n",
    "\n",
    "### **Purpose and Impact**\n",
    "By setting all these configurations, the code ensures that:\n",
    "1. The randomness in data shuffling, weight initialization, and other stochastic operations is consistent across runs.\n",
    "2. Results from training and evaluation remain reproducible, which is critical for debugging, testing, and sharing research.\n",
    "\n",
    "However, full reproducibility might still be affected by factors like:\n",
    "- Differences in hardware or software versions.\n",
    "- Non-deterministic operations in third-party libraries. \n",
    "\n",
    "Using this setup minimizes variability as much as possible."
   ]
  },
  {
   "cell_type": "code",
   "execution_count": null,
   "metadata": {},
   "outputs": [],
   "source": []
  },
  {
   "cell_type": "code",
   "execution_count": 7,
   "metadata": {},
   "outputs": [],
   "source": [
    "train_df = pd.read_csv(\"digit-recognizer/train.csv\")\n",
    "test_df = pd.read_csv(\"digit-recognizer/test.csv\")\n",
    "submission_df = pd.read_csv(\"digit-recognizer/sample_submission.csv\")"
   ]
  },
  {
   "cell_type": "code",
   "execution_count": 8,
   "metadata": {},
   "outputs": [
    {
     "data": {
      "text/html": [
       "<div>\n",
       "<style scoped>\n",
       "    .dataframe tbody tr th:only-of-type {\n",
       "        vertical-align: middle;\n",
       "    }\n",
       "\n",
       "    .dataframe tbody tr th {\n",
       "        vertical-align: top;\n",
       "    }\n",
       "\n",
       "    .dataframe thead th {\n",
       "        text-align: right;\n",
       "    }\n",
       "</style>\n",
       "<table border=\"1\" class=\"dataframe\">\n",
       "  <thead>\n",
       "    <tr style=\"text-align: right;\">\n",
       "      <th></th>\n",
       "      <th>label</th>\n",
       "      <th>pixel0</th>\n",
       "      <th>pixel1</th>\n",
       "      <th>pixel2</th>\n",
       "      <th>pixel3</th>\n",
       "      <th>pixel4</th>\n",
       "      <th>pixel5</th>\n",
       "      <th>pixel6</th>\n",
       "      <th>pixel7</th>\n",
       "      <th>pixel8</th>\n",
       "      <th>...</th>\n",
       "      <th>pixel774</th>\n",
       "      <th>pixel775</th>\n",
       "      <th>pixel776</th>\n",
       "      <th>pixel777</th>\n",
       "      <th>pixel778</th>\n",
       "      <th>pixel779</th>\n",
       "      <th>pixel780</th>\n",
       "      <th>pixel781</th>\n",
       "      <th>pixel782</th>\n",
       "      <th>pixel783</th>\n",
       "    </tr>\n",
       "  </thead>\n",
       "  <tbody>\n",
       "    <tr>\n",
       "      <th>0</th>\n",
       "      <td>1</td>\n",
       "      <td>0</td>\n",
       "      <td>0</td>\n",
       "      <td>0</td>\n",
       "      <td>0</td>\n",
       "      <td>0</td>\n",
       "      <td>0</td>\n",
       "      <td>0</td>\n",
       "      <td>0</td>\n",
       "      <td>0</td>\n",
       "      <td>...</td>\n",
       "      <td>0</td>\n",
       "      <td>0</td>\n",
       "      <td>0</td>\n",
       "      <td>0</td>\n",
       "      <td>0</td>\n",
       "      <td>0</td>\n",
       "      <td>0</td>\n",
       "      <td>0</td>\n",
       "      <td>0</td>\n",
       "      <td>0</td>\n",
       "    </tr>\n",
       "    <tr>\n",
       "      <th>1</th>\n",
       "      <td>0</td>\n",
       "      <td>0</td>\n",
       "      <td>0</td>\n",
       "      <td>0</td>\n",
       "      <td>0</td>\n",
       "      <td>0</td>\n",
       "      <td>0</td>\n",
       "      <td>0</td>\n",
       "      <td>0</td>\n",
       "      <td>0</td>\n",
       "      <td>...</td>\n",
       "      <td>0</td>\n",
       "      <td>0</td>\n",
       "      <td>0</td>\n",
       "      <td>0</td>\n",
       "      <td>0</td>\n",
       "      <td>0</td>\n",
       "      <td>0</td>\n",
       "      <td>0</td>\n",
       "      <td>0</td>\n",
       "      <td>0</td>\n",
       "    </tr>\n",
       "    <tr>\n",
       "      <th>2</th>\n",
       "      <td>1</td>\n",
       "      <td>0</td>\n",
       "      <td>0</td>\n",
       "      <td>0</td>\n",
       "      <td>0</td>\n",
       "      <td>0</td>\n",
       "      <td>0</td>\n",
       "      <td>0</td>\n",
       "      <td>0</td>\n",
       "      <td>0</td>\n",
       "      <td>...</td>\n",
       "      <td>0</td>\n",
       "      <td>0</td>\n",
       "      <td>0</td>\n",
       "      <td>0</td>\n",
       "      <td>0</td>\n",
       "      <td>0</td>\n",
       "      <td>0</td>\n",
       "      <td>0</td>\n",
       "      <td>0</td>\n",
       "      <td>0</td>\n",
       "    </tr>\n",
       "    <tr>\n",
       "      <th>3</th>\n",
       "      <td>4</td>\n",
       "      <td>0</td>\n",
       "      <td>0</td>\n",
       "      <td>0</td>\n",
       "      <td>0</td>\n",
       "      <td>0</td>\n",
       "      <td>0</td>\n",
       "      <td>0</td>\n",
       "      <td>0</td>\n",
       "      <td>0</td>\n",
       "      <td>...</td>\n",
       "      <td>0</td>\n",
       "      <td>0</td>\n",
       "      <td>0</td>\n",
       "      <td>0</td>\n",
       "      <td>0</td>\n",
       "      <td>0</td>\n",
       "      <td>0</td>\n",
       "      <td>0</td>\n",
       "      <td>0</td>\n",
       "      <td>0</td>\n",
       "    </tr>\n",
       "    <tr>\n",
       "      <th>4</th>\n",
       "      <td>0</td>\n",
       "      <td>0</td>\n",
       "      <td>0</td>\n",
       "      <td>0</td>\n",
       "      <td>0</td>\n",
       "      <td>0</td>\n",
       "      <td>0</td>\n",
       "      <td>0</td>\n",
       "      <td>0</td>\n",
       "      <td>0</td>\n",
       "      <td>...</td>\n",
       "      <td>0</td>\n",
       "      <td>0</td>\n",
       "      <td>0</td>\n",
       "      <td>0</td>\n",
       "      <td>0</td>\n",
       "      <td>0</td>\n",
       "      <td>0</td>\n",
       "      <td>0</td>\n",
       "      <td>0</td>\n",
       "      <td>0</td>\n",
       "    </tr>\n",
       "  </tbody>\n",
       "</table>\n",
       "<p>5 rows × 785 columns</p>\n",
       "</div>"
      ],
      "text/plain": [
       "   label  pixel0  pixel1  pixel2  pixel3  pixel4  pixel5  pixel6  pixel7  \\\n",
       "0      1       0       0       0       0       0       0       0       0   \n",
       "1      0       0       0       0       0       0       0       0       0   \n",
       "2      1       0       0       0       0       0       0       0       0   \n",
       "3      4       0       0       0       0       0       0       0       0   \n",
       "4      0       0       0       0       0       0       0       0       0   \n",
       "\n",
       "   pixel8  ...  pixel774  pixel775  pixel776  pixel777  pixel778  pixel779  \\\n",
       "0       0  ...         0         0         0         0         0         0   \n",
       "1       0  ...         0         0         0         0         0         0   \n",
       "2       0  ...         0         0         0         0         0         0   \n",
       "3       0  ...         0         0         0         0         0         0   \n",
       "4       0  ...         0         0         0         0         0         0   \n",
       "\n",
       "   pixel780  pixel781  pixel782  pixel783  \n",
       "0         0         0         0         0  \n",
       "1         0         0         0         0  \n",
       "2         0         0         0         0  \n",
       "3         0         0         0         0  \n",
       "4         0         0         0         0  \n",
       "\n",
       "[5 rows x 785 columns]"
      ]
     },
     "execution_count": 8,
     "metadata": {},
     "output_type": "execute_result"
    }
   ],
   "source": [
    "train_df.head()"
   ]
  },
  {
   "cell_type": "code",
   "execution_count": 9,
   "metadata": {},
   "outputs": [
    {
     "data": {
      "text/html": [
       "<div>\n",
       "<style scoped>\n",
       "    .dataframe tbody tr th:only-of-type {\n",
       "        vertical-align: middle;\n",
       "    }\n",
       "\n",
       "    .dataframe tbody tr th {\n",
       "        vertical-align: top;\n",
       "    }\n",
       "\n",
       "    .dataframe thead th {\n",
       "        text-align: right;\n",
       "    }\n",
       "</style>\n",
       "<table border=\"1\" class=\"dataframe\">\n",
       "  <thead>\n",
       "    <tr style=\"text-align: right;\">\n",
       "      <th></th>\n",
       "      <th>pixel0</th>\n",
       "      <th>pixel1</th>\n",
       "      <th>pixel2</th>\n",
       "      <th>pixel3</th>\n",
       "      <th>pixel4</th>\n",
       "      <th>pixel5</th>\n",
       "      <th>pixel6</th>\n",
       "      <th>pixel7</th>\n",
       "      <th>pixel8</th>\n",
       "      <th>pixel9</th>\n",
       "      <th>...</th>\n",
       "      <th>pixel774</th>\n",
       "      <th>pixel775</th>\n",
       "      <th>pixel776</th>\n",
       "      <th>pixel777</th>\n",
       "      <th>pixel778</th>\n",
       "      <th>pixel779</th>\n",
       "      <th>pixel780</th>\n",
       "      <th>pixel781</th>\n",
       "      <th>pixel782</th>\n",
       "      <th>pixel783</th>\n",
       "    </tr>\n",
       "  </thead>\n",
       "  <tbody>\n",
       "    <tr>\n",
       "      <th>0</th>\n",
       "      <td>0</td>\n",
       "      <td>0</td>\n",
       "      <td>0</td>\n",
       "      <td>0</td>\n",
       "      <td>0</td>\n",
       "      <td>0</td>\n",
       "      <td>0</td>\n",
       "      <td>0</td>\n",
       "      <td>0</td>\n",
       "      <td>0</td>\n",
       "      <td>...</td>\n",
       "      <td>0</td>\n",
       "      <td>0</td>\n",
       "      <td>0</td>\n",
       "      <td>0</td>\n",
       "      <td>0</td>\n",
       "      <td>0</td>\n",
       "      <td>0</td>\n",
       "      <td>0</td>\n",
       "      <td>0</td>\n",
       "      <td>0</td>\n",
       "    </tr>\n",
       "    <tr>\n",
       "      <th>1</th>\n",
       "      <td>0</td>\n",
       "      <td>0</td>\n",
       "      <td>0</td>\n",
       "      <td>0</td>\n",
       "      <td>0</td>\n",
       "      <td>0</td>\n",
       "      <td>0</td>\n",
       "      <td>0</td>\n",
       "      <td>0</td>\n",
       "      <td>0</td>\n",
       "      <td>...</td>\n",
       "      <td>0</td>\n",
       "      <td>0</td>\n",
       "      <td>0</td>\n",
       "      <td>0</td>\n",
       "      <td>0</td>\n",
       "      <td>0</td>\n",
       "      <td>0</td>\n",
       "      <td>0</td>\n",
       "      <td>0</td>\n",
       "      <td>0</td>\n",
       "    </tr>\n",
       "    <tr>\n",
       "      <th>2</th>\n",
       "      <td>0</td>\n",
       "      <td>0</td>\n",
       "      <td>0</td>\n",
       "      <td>0</td>\n",
       "      <td>0</td>\n",
       "      <td>0</td>\n",
       "      <td>0</td>\n",
       "      <td>0</td>\n",
       "      <td>0</td>\n",
       "      <td>0</td>\n",
       "      <td>...</td>\n",
       "      <td>0</td>\n",
       "      <td>0</td>\n",
       "      <td>0</td>\n",
       "      <td>0</td>\n",
       "      <td>0</td>\n",
       "      <td>0</td>\n",
       "      <td>0</td>\n",
       "      <td>0</td>\n",
       "      <td>0</td>\n",
       "      <td>0</td>\n",
       "    </tr>\n",
       "    <tr>\n",
       "      <th>3</th>\n",
       "      <td>0</td>\n",
       "      <td>0</td>\n",
       "      <td>0</td>\n",
       "      <td>0</td>\n",
       "      <td>0</td>\n",
       "      <td>0</td>\n",
       "      <td>0</td>\n",
       "      <td>0</td>\n",
       "      <td>0</td>\n",
       "      <td>0</td>\n",
       "      <td>...</td>\n",
       "      <td>0</td>\n",
       "      <td>0</td>\n",
       "      <td>0</td>\n",
       "      <td>0</td>\n",
       "      <td>0</td>\n",
       "      <td>0</td>\n",
       "      <td>0</td>\n",
       "      <td>0</td>\n",
       "      <td>0</td>\n",
       "      <td>0</td>\n",
       "    </tr>\n",
       "    <tr>\n",
       "      <th>4</th>\n",
       "      <td>0</td>\n",
       "      <td>0</td>\n",
       "      <td>0</td>\n",
       "      <td>0</td>\n",
       "      <td>0</td>\n",
       "      <td>0</td>\n",
       "      <td>0</td>\n",
       "      <td>0</td>\n",
       "      <td>0</td>\n",
       "      <td>0</td>\n",
       "      <td>...</td>\n",
       "      <td>0</td>\n",
       "      <td>0</td>\n",
       "      <td>0</td>\n",
       "      <td>0</td>\n",
       "      <td>0</td>\n",
       "      <td>0</td>\n",
       "      <td>0</td>\n",
       "      <td>0</td>\n",
       "      <td>0</td>\n",
       "      <td>0</td>\n",
       "    </tr>\n",
       "  </tbody>\n",
       "</table>\n",
       "<p>5 rows × 784 columns</p>\n",
       "</div>"
      ],
      "text/plain": [
       "   pixel0  pixel1  pixel2  pixel3  pixel4  pixel5  pixel6  pixel7  pixel8  \\\n",
       "0       0       0       0       0       0       0       0       0       0   \n",
       "1       0       0       0       0       0       0       0       0       0   \n",
       "2       0       0       0       0       0       0       0       0       0   \n",
       "3       0       0       0       0       0       0       0       0       0   \n",
       "4       0       0       0       0       0       0       0       0       0   \n",
       "\n",
       "   pixel9  ...  pixel774  pixel775  pixel776  pixel777  pixel778  pixel779  \\\n",
       "0       0  ...         0         0         0         0         0         0   \n",
       "1       0  ...         0         0         0         0         0         0   \n",
       "2       0  ...         0         0         0         0         0         0   \n",
       "3       0  ...         0         0         0         0         0         0   \n",
       "4       0  ...         0         0         0         0         0         0   \n",
       "\n",
       "   pixel780  pixel781  pixel782  pixel783  \n",
       "0         0         0         0         0  \n",
       "1         0         0         0         0  \n",
       "2         0         0         0         0  \n",
       "3         0         0         0         0  \n",
       "4         0         0         0         0  \n",
       "\n",
       "[5 rows x 784 columns]"
      ]
     },
     "execution_count": 9,
     "metadata": {},
     "output_type": "execute_result"
    }
   ],
   "source": [
    "test_df.head()"
   ]
  },
  {
   "cell_type": "code",
   "execution_count": 10,
   "metadata": {},
   "outputs": [
    {
     "data": {
      "text/html": [
       "<div>\n",
       "<style scoped>\n",
       "    .dataframe tbody tr th:only-of-type {\n",
       "        vertical-align: middle;\n",
       "    }\n",
       "\n",
       "    .dataframe tbody tr th {\n",
       "        vertical-align: top;\n",
       "    }\n",
       "\n",
       "    .dataframe thead th {\n",
       "        text-align: right;\n",
       "    }\n",
       "</style>\n",
       "<table border=\"1\" class=\"dataframe\">\n",
       "  <thead>\n",
       "    <tr style=\"text-align: right;\">\n",
       "      <th></th>\n",
       "      <th>ImageId</th>\n",
       "      <th>Label</th>\n",
       "    </tr>\n",
       "  </thead>\n",
       "  <tbody>\n",
       "    <tr>\n",
       "      <th>0</th>\n",
       "      <td>1</td>\n",
       "      <td>0</td>\n",
       "    </tr>\n",
       "    <tr>\n",
       "      <th>1</th>\n",
       "      <td>2</td>\n",
       "      <td>0</td>\n",
       "    </tr>\n",
       "    <tr>\n",
       "      <th>2</th>\n",
       "      <td>3</td>\n",
       "      <td>0</td>\n",
       "    </tr>\n",
       "    <tr>\n",
       "      <th>3</th>\n",
       "      <td>4</td>\n",
       "      <td>0</td>\n",
       "    </tr>\n",
       "    <tr>\n",
       "      <th>4</th>\n",
       "      <td>5</td>\n",
       "      <td>0</td>\n",
       "    </tr>\n",
       "  </tbody>\n",
       "</table>\n",
       "</div>"
      ],
      "text/plain": [
       "   ImageId  Label\n",
       "0        1      0\n",
       "1        2      0\n",
       "2        3      0\n",
       "3        4      0\n",
       "4        5      0"
      ]
     },
     "execution_count": 10,
     "metadata": {},
     "output_type": "execute_result"
    }
   ],
   "source": [
    "submission_df.head()"
   ]
  },
  {
   "cell_type": "code",
   "execution_count": null,
   "metadata": {},
   "outputs": [],
   "source": []
  },
  {
   "cell_type": "code",
   "execution_count": 11,
   "metadata": {},
   "outputs": [],
   "source": [
    "train_df, val_df = train_test_split(\n",
    "    train_df, test_size=0.1, random_state=RANDOM_SEED, shuffle=True\n",
    ")"
   ]
  },
  {
   "cell_type": "code",
   "execution_count": null,
   "metadata": {},
   "outputs": [],
   "source": []
  },
  {
   "cell_type": "code",
   "execution_count": 12,
   "metadata": {},
   "outputs": [],
   "source": [
    "class MNISTTrainDataset(Dataset):\n",
    "    def __init__(self, images, labels, indices):\n",
    "        self.images = images\n",
    "        self.labels = labels\n",
    "        self.indices = indices\n",
    "        self.transform = transforms.Compose(\n",
    "            [\n",
    "                transforms.ToPILImage(),\n",
    "                transforms.RandomRotation(15),  # 15 degrees\n",
    "                transforms.ToTensor(),\n",
    "                transforms.Normalize([0.5], [0.5]),\n",
    "            ]\n",
    "        )\n",
    "\n",
    "    def __len__(self):\n",
    "        return len(self.images)\n",
    "\n",
    "    def __getitem__(self, idx):\n",
    "        \"\"\"return item at a specific index\"\"\"\n",
    "        image = self.images[idx].reshape((28, 28)).astype(np.uint8)\n",
    "        label = self.labels[idx]\n",
    "        index = self.indices[idx]\n",
    "        image = self.transform(image)\n",
    "\n",
    "        return {\"image\": image, \"label\": label, \"index\": index}"
   ]
  },
  {
   "cell_type": "code",
   "execution_count": null,
   "metadata": {},
   "outputs": [],
   "source": []
  },
  {
   "cell_type": "code",
   "execution_count": 13,
   "metadata": {},
   "outputs": [],
   "source": [
    "class MNISTValDataset(Dataset):\n",
    "    def __init__(self, images, labels, indices):\n",
    "        self.images = images\n",
    "        self.labels = labels\n",
    "        self.indices = indices\n",
    "        self.transform = transforms.Compose(\n",
    "            [\n",
    "                transforms.ToTensor(),\n",
    "                transforms.Normalize([0.5], [0.5]),\n",
    "            ]\n",
    "        )\n",
    "\n",
    "    def __len__(self):\n",
    "        return len(self.images)\n",
    "\n",
    "    def __getitem__(self, idx):\n",
    "        \"\"\"return item at a specific index\"\"\"\n",
    "        image = self.images[idx].reshape((28, 28)).astype(np.uint8)\n",
    "        label = self.labels[idx]\n",
    "        index = self.indices[idx]\n",
    "        image = self.transform(image)\n",
    "\n",
    "        return {\"image\": image, \"label\": label, \"index\": index}"
   ]
  },
  {
   "cell_type": "code",
   "execution_count": null,
   "metadata": {},
   "outputs": [],
   "source": []
  },
  {
   "cell_type": "code",
   "execution_count": 14,
   "metadata": {},
   "outputs": [],
   "source": [
    "class MNISTSubmitDataset(Dataset):\n",
    "    def __init__(self, images, indices):\n",
    "        self.images = images\n",
    "        self.indices = indices\n",
    "        self.transform = transforms.Compose(\n",
    "            [\n",
    "                transforms.ToTensor(),\n",
    "                transforms.Normalize([0.5], [0.5]),\n",
    "            ]\n",
    "        )\n",
    "\n",
    "    def __len__(self):\n",
    "        return len(self.images)\n",
    "\n",
    "    def __getitem__(self, idx):\n",
    "        \"\"\"return item at a specific index\"\"\"\n",
    "        image = self.images[idx].reshape((28, 28)).astype(np.uint8)\n",
    "        index = self.indices[idx]\n",
    "        image = self.transform(image)\n",
    "\n",
    "        return {\"image\": image, \"index\": index}"
   ]
  },
  {
   "cell_type": "code",
   "execution_count": null,
   "metadata": {},
   "outputs": [],
   "source": []
  },
  {
   "cell_type": "code",
   "execution_count": 15,
   "metadata": {},
   "outputs": [
    {
     "name": "stdout",
     "output_type": "stream",
     "text": [
      "len(train_dataset)=37800\n",
      "------------------------------\n",
      "len(val_dataset)=4200\n",
      "------------------------------\n",
      "len(test_dataset)=28000\n",
      "------------------------------\n"
     ]
    },
    {
     "data": {
      "text/plain": [
       "<Figure size 640x480 with 0 Axes>"
      ]
     },
     "metadata": {},
     "output_type": "display_data"
    },
    {
     "data": {
      "image/png": "[encoded data removed]",
      "text/plain": [
       "<Figure size 640x480 with 3 Axes>"
      ]
     },
     "metadata": {},
     "output_type": "display_data"
    }
   ],
   "source": [
    "plt.figure()\n",
    "f, axarr = plt.subplots(1, 3)\n",
    "\n",
    "\n",
    "train_dataset = MNISTTrainDataset(\n",
    "    train_df.iloc[:, 1:].values.astype(np.uint8),  # first col is labels\n",
    "    train_df.iloc[:, 0].values,\n",
    "    train_df.index.values,\n",
    ")\n",
    "print(f\"{len(train_dataset)=}\")\n",
    "axarr[0].imshow(train_dataset[0][\"image\"].squeeze(), cmap=\"gray\")\n",
    "axarr[0].set_title(\"Train Image\")\n",
    "print(\"-\" * 30)\n",
    "\n",
    "\n",
    "val_dataset = MNISTValDataset(\n",
    "    val_df.iloc[:, 1:].values.astype(np.uint8),  # first col is labels\n",
    "    val_df.iloc[:, 0].values,\n",
    "    val_df.index.values,\n",
    ")\n",
    "print(f\"{len(val_dataset)=}\")\n",
    "axarr[1].imshow(val_dataset[0][\"image\"].squeeze(), cmap=\"gray\")\n",
    "axarr[1].set_title(\"Val Image\")\n",
    "print(\"-\" * 30)\n",
    "\n",
    "\n",
    "test_dataset = MNISTSubmitDataset(\n",
    "    test_df.values.astype(np.uint8),  # first col is labels\n",
    "    test_df.index.values,\n",
    ")\n",
    "\n",
    "print(f\"{len(test_dataset)=}\")\n",
    "axarr[2].imshow(test_dataset[0][\"image\"].squeeze(), cmap=\"gray\")\n",
    "axarr[2].set_title(\"Test Image\")\n",
    "print(\"-\" * 30)"
   ]
  },
  {
   "cell_type": "code",
   "execution_count": 16,
   "metadata": {},
   "outputs": [
    {
     "data": {
      "text/plain": [
       "5533"
      ]
     },
     "execution_count": 16,
     "metadata": {},
     "output_type": "execute_result"
    }
   ],
   "source": [
    "train_df.index[100]"
   ]
  },
  {
   "cell_type": "code",
   "execution_count": null,
   "metadata": {},
   "outputs": [],
   "source": []
  },
  {
   "cell_type": "code",
   "execution_count": null,
   "metadata": {},
   "outputs": [],
   "source": []
  },
  {
   "cell_type": "code",
   "execution_count": null,
   "metadata": {},
   "outputs": [],
   "source": []
  },
  {
   "cell_type": "code",
   "execution_count": 17,
   "metadata": {},
   "outputs": [],
   "source": [
    "train_dataloader = DataLoader(\n",
    "    dataset=train_dataset, batch_size=BATCH_SIZE, shuffle=True\n",
    ")\n",
    "\n",
    "\n",
    "val_dataloader = DataLoader(dataset=val_dataset, batch_size=BATCH_SIZE, shuffle=True)\n",
    "\n",
    "test_dataloader = DataLoader(dataset=test_dataset, batch_size=BATCH_SIZE, shuffle=False)"
   ]
  },
  {
   "cell_type": "code",
   "execution_count": 18,
   "metadata": {},
   "outputs": [
    {
     "name": "stdout",
     "output_type": "stream",
     "text": [
      "device='cuda'\n"
     ]
    }
   ],
   "source": [
    "print(f\"{device=}\")"
   ]
  },
  {
   "cell_type": "code",
   "execution_count": 19,
   "metadata": {},
   "outputs": [
    {
     "name": "stdout",
     "output_type": "stream",
     "text": [
      "device='cuda'\n"
     ]
    },
    {
     "name": "stderr",
     "output_type": "stream",
     "text": [
      "100%|██████████| 74/74 [00:12<00:00,  5.94it/s]\n",
      "100%|██████████| 9/9 [00:00<00:00, 23.33it/s]\n",
      "  2%|▎         | 1/40 [00:12<08:24, 12.93s/it]"
     ]
    },
    {
     "name": "stdout",
     "output_type": "stream",
     "text": [
      "------------------------------\n",
      "train loss epoch 1: 2.3019\n",
      "valid loss epoch 1: 2.1703\n",
      "train_accuracy epoch 1: 0.1284\n",
      "val_accuracy epoch 1: 0.2057\n",
      "------------------------------\n"
     ]
    },
    {
     "name": "stderr",
     "output_type": "stream",
     "text": [
      "100%|██████████| 74/74 [00:12<00:00,  6.05it/s]\n",
      "100%|██████████| 9/9 [00:00<00:00, 23.07it/s]\n",
      "  5%|▌         | 2/40 [00:25<08:07, 12.82s/it]"
     ]
    },
    {
     "name": "stdout",
     "output_type": "stream",
     "text": [
      "------------------------------\n",
      "train loss epoch 2: 1.8182\n",
      "valid loss epoch 2: 1.6061\n",
      "train_accuracy epoch 2: 0.3697\n",
      "val_accuracy epoch 2: 0.4931\n",
      "------------------------------\n"
     ]
    },
    {
     "name": "stderr",
     "output_type": "stream",
     "text": [
      "100%|██████████| 74/74 [00:12<00:00,  6.01it/s]\n",
      "100%|██████████| 9/9 [00:00<00:00, 23.56it/s]\n",
      "  8%|▊         | 3/40 [00:38<07:54, 12.82s/it]"
     ]
    },
    {
     "name": "stdout",
     "output_type": "stream",
     "text": [
      "------------------------------\n",
      "train loss epoch 3: 1.5355\n",
      "valid loss epoch 3: 1.3810\n",
      "train_accuracy epoch 3: 0.5222\n",
      "val_accuracy epoch 3: 0.6048\n",
      "------------------------------\n"
     ]
    },
    {
     "name": "stderr",
     "output_type": "stream",
     "text": [
      "100%|██████████| 74/74 [00:12<00:00,  5.99it/s]\n",
      "100%|██████████| 9/9 [00:00<00:00, 23.34it/s]\n",
      " 10%|█         | 4/40 [00:51<07:41, 12.83s/it]"
     ]
    },
    {
     "name": "stdout",
     "output_type": "stream",
     "text": [
      "------------------------------\n",
      "train loss epoch 4: 1.3956\n",
      "valid loss epoch 4: 1.2495\n",
      "train_accuracy epoch 4: 0.5910\n",
      "val_accuracy epoch 4: 0.6662\n",
      "------------------------------\n"
     ]
    },
    {
     "name": "stderr",
     "output_type": "stream",
     "text": [
      "100%|██████████| 74/74 [00:12<00:00,  6.00it/s]\n",
      "100%|██████████| 9/9 [00:00<00:00, 23.21it/s]\n",
      " 12%|█▎        | 5/40 [01:04<07:28, 12.82s/it]"
     ]
    },
    {
     "name": "stdout",
     "output_type": "stream",
     "text": [
      "------------------------------\n",
      "train loss epoch 5: 1.2809\n",
      "valid loss epoch 5: 1.1320\n",
      "train_accuracy epoch 5: 0.6383\n",
      "val_accuracy epoch 5: 0.7110\n",
      "------------------------------\n"
     ]
    },
    {
     "name": "stderr",
     "output_type": "stream",
     "text": [
      "100%|██████████| 74/74 [00:12<00:00,  6.05it/s]\n",
      "100%|██████████| 9/9 [00:00<00:00, 23.43it/s]\n",
      " 15%|█▌        | 6/40 [01:16<07:14, 12.79s/it]"
     ]
    },
    {
     "name": "stdout",
     "output_type": "stream",
     "text": [
      "------------------------------\n",
      "train loss epoch 6: 1.1832\n",
      "valid loss epoch 6: 1.0488\n",
      "train_accuracy epoch 6: 0.6783\n",
      "val_accuracy epoch 6: 0.7395\n",
      "------------------------------\n"
     ]
    },
    {
     "name": "stderr",
     "output_type": "stream",
     "text": [
      "100%|██████████| 74/74 [00:12<00:00,  5.95it/s]\n",
      "100%|██████████| 9/9 [00:00<00:00, 22.96it/s]\n",
      " 18%|█▊        | 7/40 [01:29<07:03, 12.84s/it]"
     ]
    },
    {
     "name": "stdout",
     "output_type": "stream",
     "text": [
      "------------------------------\n",
      "train loss epoch 7: 1.0884\n",
      "valid loss epoch 7: 0.9663\n",
      "train_accuracy epoch 7: 0.7149\n",
      "val_accuracy epoch 7: 0.7681\n",
      "------------------------------\n"
     ]
    },
    {
     "name": "stderr",
     "output_type": "stream",
     "text": [
      "100%|██████████| 74/74 [00:12<00:00,  5.91it/s]\n",
      "100%|██████████| 9/9 [00:00<00:00, 22.38it/s]\n",
      " 20%|██        | 8/40 [01:42<06:52, 12.90s/it]"
     ]
    },
    {
     "name": "stdout",
     "output_type": "stream",
     "text": [
      "------------------------------\n",
      "train loss epoch 8: 1.0127\n",
      "valid loss epoch 8: 0.8899\n",
      "train_accuracy epoch 8: 0.7435\n",
      "val_accuracy epoch 8: 0.7981\n",
      "------------------------------\n"
     ]
    },
    {
     "name": "stderr",
     "output_type": "stream",
     "text": [
      "100%|██████████| 74/74 [00:12<00:00,  5.91it/s]\n",
      "100%|██████████| 9/9 [00:00<00:00, 22.98it/s]\n",
      " 22%|██▎       | 9/40 [01:55<06:41, 12.94s/it]"
     ]
    },
    {
     "name": "stdout",
     "output_type": "stream",
     "text": [
      "------------------------------\n",
      "train loss epoch 9: 0.9471\n",
      "valid loss epoch 9: 0.8107\n",
      "train_accuracy epoch 9: 0.7617\n",
      "val_accuracy epoch 9: 0.8276\n",
      "------------------------------\n"
     ]
    },
    {
     "name": "stderr",
     "output_type": "stream",
     "text": [
      "100%|██████████| 74/74 [00:12<00:00,  6.01it/s]\n",
      "100%|██████████| 9/9 [00:00<00:00, 18.13it/s]\n",
      " 25%|██▌       | 10/40 [02:08<06:28, 12.93s/it]"
     ]
    },
    {
     "name": "stdout",
     "output_type": "stream",
     "text": [
      "------------------------------\n",
      "train loss epoch 10: 0.8795\n",
      "valid loss epoch 10: 0.7527\n",
      "train_accuracy epoch 10: 0.7827\n",
      "val_accuracy epoch 10: 0.8386\n",
      "------------------------------\n"
     ]
    },
    {
     "name": "stderr",
     "output_type": "stream",
     "text": [
      "100%|██████████| 74/74 [00:12<00:00,  6.03it/s]\n",
      "100%|██████████| 9/9 [00:00<00:00, 23.23it/s]\n",
      " 28%|██▊       | 11/40 [02:21<06:13, 12.88s/it]"
     ]
    },
    {
     "name": "stdout",
     "output_type": "stream",
     "text": [
      "------------------------------\n",
      "train loss epoch 11: 0.8238\n",
      "valid loss epoch 11: 0.6909\n",
      "train_accuracy epoch 11: 0.7975\n",
      "val_accuracy epoch 11: 0.8488\n",
      "------------------------------\n"
     ]
    },
    {
     "name": "stderr",
     "output_type": "stream",
     "text": [
      "100%|██████████| 74/74 [00:12<00:00,  5.99it/s]\n",
      "100%|██████████| 9/9 [00:00<00:00, 22.97it/s]\n",
      " 30%|███       | 12/40 [02:34<06:00, 12.87s/it]"
     ]
    },
    {
     "name": "stdout",
     "output_type": "stream",
     "text": [
      "------------------------------\n",
      "train loss epoch 12: 0.7708\n",
      "valid loss epoch 12: 0.6579\n",
      "train_accuracy epoch 12: 0.8127\n",
      "val_accuracy epoch 12: 0.8600\n",
      "------------------------------\n"
     ]
    },
    {
     "name": "stderr",
     "output_type": "stream",
     "text": [
      "100%|██████████| 74/74 [00:12<00:00,  5.96it/s]\n",
      "100%|██████████| 9/9 [00:00<00:00, 23.01it/s]\n",
      " 32%|███▎      | 13/40 [02:47<05:47, 12.89s/it]"
     ]
    },
    {
     "name": "stdout",
     "output_type": "stream",
     "text": [
      "------------------------------\n",
      "train loss epoch 13: 0.7350\n",
      "valid loss epoch 13: 0.6243\n",
      "train_accuracy epoch 13: 0.8198\n",
      "val_accuracy epoch 13: 0.8602\n",
      "------------------------------\n"
     ]
    },
    {
     "name": "stderr",
     "output_type": "stream",
     "text": [
      "100%|██████████| 74/74 [00:12<00:00,  5.97it/s]\n",
      "100%|██████████| 9/9 [00:00<00:00, 21.65it/s]\n",
      " 35%|███▌      | 14/40 [03:00<05:35, 12.90s/it]"
     ]
    },
    {
     "name": "stdout",
     "output_type": "stream",
     "text": [
      "------------------------------\n",
      "train loss epoch 14: 0.6920\n",
      "valid loss epoch 14: 0.5992\n",
      "train_accuracy epoch 14: 0.8292\n",
      "val_accuracy epoch 14: 0.8607\n",
      "------------------------------\n"
     ]
    },
    {
     "name": "stderr",
     "output_type": "stream",
     "text": [
      "100%|██████████| 74/74 [00:12<00:00,  5.93it/s]\n",
      "100%|██████████| 9/9 [00:00<00:00, 22.80it/s]\n",
      " 38%|███▊      | 15/40 [03:13<05:23, 12.92s/it]"
     ]
    },
    {
     "name": "stdout",
     "output_type": "stream",
     "text": [
      "------------------------------\n",
      "train loss epoch 15: 0.6499\n",
      "valid loss epoch 15: 0.5410\n",
      "train_accuracy epoch 15: 0.8391\n",
      "val_accuracy epoch 15: 0.8771\n",
      "------------------------------\n"
     ]
    },
    {
     "name": "stderr",
     "output_type": "stream",
     "text": [
      "100%|██████████| 74/74 [00:12<00:00,  5.94it/s]\n",
      "100%|██████████| 9/9 [00:00<00:00, 23.04it/s]\n",
      " 40%|████      | 16/40 [03:26<05:10, 12.93s/it]"
     ]
    },
    {
     "name": "stdout",
     "output_type": "stream",
     "text": [
      "------------------------------\n",
      "train loss epoch 16: 0.6167\n",
      "valid loss epoch 16: 0.5237\n",
      "train_accuracy epoch 16: 0.8446\n",
      "val_accuracy epoch 16: 0.8843\n",
      "------------------------------\n"
     ]
    },
    {
     "name": "stderr",
     "output_type": "stream",
     "text": [
      "100%|██████████| 74/74 [00:12<00:00,  5.86it/s]\n",
      "100%|██████████| 9/9 [00:00<00:00, 22.82it/s]\n",
      " 42%|████▎     | 17/40 [03:39<04:58, 13.00s/it]"
     ]
    },
    {
     "name": "stdout",
     "output_type": "stream",
     "text": [
      "------------------------------\n",
      "train loss epoch 17: 0.5814\n",
      "valid loss epoch 17: 0.4990\n",
      "train_accuracy epoch 17: 0.8560\n",
      "val_accuracy epoch 17: 0.8831\n",
      "------------------------------\n"
     ]
    },
    {
     "name": "stderr",
     "output_type": "stream",
     "text": [
      "100%|██████████| 74/74 [00:12<00:00,  5.91it/s]\n",
      "100%|██████████| 9/9 [00:00<00:00, 22.91it/s]\n",
      " 45%|████▌     | 18/40 [03:52<04:46, 13.01s/it]"
     ]
    },
    {
     "name": "stdout",
     "output_type": "stream",
     "text": [
      "------------------------------\n",
      "train loss epoch 18: 0.5608\n",
      "valid loss epoch 18: 0.4540\n",
      "train_accuracy epoch 18: 0.8563\n",
      "val_accuracy epoch 18: 0.8914\n",
      "------------------------------\n"
     ]
    },
    {
     "name": "stderr",
     "output_type": "stream",
     "text": [
      "100%|██████████| 74/74 [00:12<00:00,  5.95it/s]\n",
      "100%|██████████| 9/9 [00:00<00:00, 21.47it/s]\n",
      " 48%|████▊     | 19/40 [04:05<04:33, 13.00s/it]"
     ]
    },
    {
     "name": "stdout",
     "output_type": "stream",
     "text": [
      "------------------------------\n",
      "train loss epoch 19: 0.5261\n",
      "valid loss epoch 19: 0.4377\n",
      "train_accuracy epoch 19: 0.8653\n",
      "val_accuracy epoch 19: 0.8976\n",
      "------------------------------\n"
     ]
    },
    {
     "name": "stderr",
     "output_type": "stream",
     "text": [
      "100%|██████████| 74/74 [00:12<00:00,  5.93it/s]\n",
      "100%|██████████| 9/9 [00:00<00:00, 23.13it/s]\n",
      " 50%|█████     | 20/40 [04:18<04:19, 12.99s/it]"
     ]
    },
    {
     "name": "stdout",
     "output_type": "stream",
     "text": [
      "------------------------------\n",
      "train loss epoch 20: 0.5139\n",
      "valid loss epoch 20: 0.4153\n",
      "train_accuracy epoch 20: 0.8657\n",
      "val_accuracy epoch 20: 0.8998\n",
      "------------------------------\n"
     ]
    },
    {
     "name": "stderr",
     "output_type": "stream",
     "text": [
      "100%|██████████| 74/74 [00:12<00:00,  5.99it/s]\n",
      "100%|██████████| 9/9 [00:00<00:00, 23.37it/s]\n",
      " 52%|█████▎    | 21/40 [04:31<04:06, 12.95s/it]"
     ]
    },
    {
     "name": "stdout",
     "output_type": "stream",
     "text": [
      "------------------------------\n",
      "train loss epoch 21: 0.4817\n",
      "valid loss epoch 21: 0.3957\n",
      "train_accuracy epoch 21: 0.8722\n",
      "val_accuracy epoch 21: 0.9017\n",
      "------------------------------\n"
     ]
    },
    {
     "name": "stderr",
     "output_type": "stream",
     "text": [
      "100%|██████████| 74/74 [00:12<00:00,  5.99it/s]\n",
      "100%|██████████| 9/9 [00:00<00:00, 23.45it/s]\n",
      " 55%|█████▌    | 22/40 [04:44<03:52, 12.93s/it]"
     ]
    },
    {
     "name": "stdout",
     "output_type": "stream",
     "text": [
      "------------------------------\n",
      "train loss epoch 22: 0.4674\n",
      "valid loss epoch 22: 0.3849\n",
      "train_accuracy epoch 22: 0.8754\n",
      "val_accuracy epoch 22: 0.9090\n",
      "------------------------------\n"
     ]
    },
    {
     "name": "stderr",
     "output_type": "stream",
     "text": [
      "100%|██████████| 74/74 [00:12<00:00,  6.04it/s]\n",
      "100%|██████████| 9/9 [00:00<00:00, 22.11it/s]\n",
      " 57%|█████▊    | 23/40 [04:56<03:38, 12.88s/it]"
     ]
    },
    {
     "name": "stdout",
     "output_type": "stream",
     "text": [
      "------------------------------\n",
      "train loss epoch 23: 0.4442\n",
      "valid loss epoch 23: 0.3829\n",
      "train_accuracy epoch 23: 0.8795\n",
      "val_accuracy epoch 23: 0.9076\n",
      "------------------------------\n"
     ]
    },
    {
     "name": "stderr",
     "output_type": "stream",
     "text": [
      "100%|██████████| 74/74 [00:12<00:00,  5.97it/s]\n",
      "100%|██████████| 9/9 [00:00<00:00, 23.33it/s]\n",
      " 60%|██████    | 24/40 [05:09<03:26, 12.88s/it]"
     ]
    },
    {
     "name": "stdout",
     "output_type": "stream",
     "text": [
      "------------------------------\n",
      "train loss epoch 24: 0.4214\n",
      "valid loss epoch 24: 0.3562\n",
      "train_accuracy epoch 24: 0.8870\n",
      "val_accuracy epoch 24: 0.9100\n",
      "------------------------------\n"
     ]
    },
    {
     "name": "stderr",
     "output_type": "stream",
     "text": [
      "100%|██████████| 74/74 [00:12<00:00,  5.98it/s]\n",
      "100%|██████████| 9/9 [00:00<00:00, 23.22it/s]\n",
      " 62%|██████▎   | 25/40 [05:22<03:13, 12.88s/it]"
     ]
    },
    {
     "name": "stdout",
     "output_type": "stream",
     "text": [
      "------------------------------\n",
      "train loss epoch 25: 0.4091\n",
      "valid loss epoch 25: 0.3313\n",
      "train_accuracy epoch 25: 0.8879\n",
      "val_accuracy epoch 25: 0.9095\n",
      "------------------------------\n"
     ]
    },
    {
     "name": "stderr",
     "output_type": "stream",
     "text": [
      "100%|██████████| 74/74 [00:12<00:00,  5.97it/s]\n",
      "100%|██████████| 9/9 [00:00<00:00, 22.27it/s]\n",
      " 65%|██████▌   | 26/40 [05:35<03:00, 12.89s/it]"
     ]
    },
    {
     "name": "stdout",
     "output_type": "stream",
     "text": [
      "------------------------------\n",
      "train loss epoch 26: 0.3887\n",
      "valid loss epoch 26: 0.3168\n",
      "train_accuracy epoch 26: 0.8935\n",
      "val_accuracy epoch 26: 0.9183\n",
      "------------------------------\n"
     ]
    },
    {
     "name": "stderr",
     "output_type": "stream",
     "text": [
      "100%|██████████| 74/74 [00:12<00:00,  6.01it/s]\n",
      "100%|██████████| 9/9 [00:00<00:00, 22.85it/s]\n",
      " 68%|██████▊   | 27/40 [05:48<02:47, 12.87s/it]"
     ]
    },
    {
     "name": "stdout",
     "output_type": "stream",
     "text": [
      "------------------------------\n",
      "train loss epoch 27: 0.3767\n",
      "valid loss epoch 27: 0.3379\n",
      "train_accuracy epoch 27: 0.8961\n",
      "val_accuracy epoch 27: 0.9052\n",
      "------------------------------\n"
     ]
    },
    {
     "name": "stderr",
     "output_type": "stream",
     "text": [
      "100%|██████████| 74/74 [00:12<00:00,  5.93it/s]\n",
      "100%|██████████| 9/9 [00:00<00:00, 22.10it/s]\n",
      " 70%|███████   | 28/40 [06:01<02:34, 12.91s/it]"
     ]
    },
    {
     "name": "stdout",
     "output_type": "stream",
     "text": [
      "------------------------------\n",
      "train loss epoch 28: 0.3648\n",
      "valid loss epoch 28: 0.3286\n",
      "train_accuracy epoch 28: 0.8978\n",
      "val_accuracy epoch 28: 0.9112\n",
      "------------------------------\n"
     ]
    },
    {
     "name": "stderr",
     "output_type": "stream",
     "text": [
      "100%|██████████| 74/74 [00:12<00:00,  5.93it/s]\n",
      "100%|██████████| 9/9 [00:00<00:00, 23.32it/s]\n",
      " 72%|███████▎  | 29/40 [06:14<02:22, 12.93s/it]"
     ]
    },
    {
     "name": "stdout",
     "output_type": "stream",
     "text": [
      "------------------------------\n",
      "train loss epoch 29: 0.3504\n",
      "valid loss epoch 29: 0.3194\n",
      "train_accuracy epoch 29: 0.9019\n",
      "val_accuracy epoch 29: 0.9117\n",
      "------------------------------\n"
     ]
    },
    {
     "name": "stderr",
     "output_type": "stream",
     "text": [
      "100%|██████████| 74/74 [00:12<00:00,  5.97it/s]\n",
      "100%|██████████| 9/9 [00:00<00:00, 23.36it/s]\n",
      " 75%|███████▌  | 30/40 [06:27<02:09, 12.91s/it]"
     ]
    },
    {
     "name": "stdout",
     "output_type": "stream",
     "text": [
      "------------------------------\n",
      "train loss epoch 30: 0.3323\n",
      "valid loss epoch 30: 0.2858\n",
      "train_accuracy epoch 30: 0.9066\n",
      "val_accuracy epoch 30: 0.9179\n",
      "------------------------------\n"
     ]
    },
    {
     "name": "stderr",
     "output_type": "stream",
     "text": [
      "100%|██████████| 74/74 [00:12<00:00,  6.01it/s]\n",
      "100%|██████████| 9/9 [00:00<00:00, 23.47it/s]\n",
      " 78%|███████▊  | 31/40 [06:39<01:55, 12.88s/it]"
     ]
    },
    {
     "name": "stdout",
     "output_type": "stream",
     "text": [
      "------------------------------\n",
      "train loss epoch 31: 0.3340\n",
      "valid loss epoch 31: 0.2744\n",
      "train_accuracy epoch 31: 0.9052\n",
      "val_accuracy epoch 31: 0.9236\n",
      "------------------------------\n"
     ]
    },
    {
     "name": "stderr",
     "output_type": "stream",
     "text": [
      "100%|██████████| 74/74 [00:12<00:00,  5.99it/s]\n",
      "100%|██████████| 9/9 [00:00<00:00, 23.04it/s]\n",
      " 80%|████████  | 32/40 [06:52<01:42, 12.87s/it]"
     ]
    },
    {
     "name": "stdout",
     "output_type": "stream",
     "text": [
      "------------------------------\n",
      "train loss epoch 32: 0.3176\n",
      "valid loss epoch 32: 0.2670\n",
      "train_accuracy epoch 32: 0.9089\n",
      "val_accuracy epoch 32: 0.9269\n",
      "------------------------------\n"
     ]
    },
    {
     "name": "stderr",
     "output_type": "stream",
     "text": [
      "100%|██████████| 74/74 [00:12<00:00,  5.91it/s]\n",
      "100%|██████████| 9/9 [00:00<00:00, 22.96it/s]\n",
      " 82%|████████▎ | 33/40 [07:05<01:30, 12.92s/it]"
     ]
    },
    {
     "name": "stdout",
     "output_type": "stream",
     "text": [
      "------------------------------\n",
      "train loss epoch 33: 0.3143\n",
      "valid loss epoch 33: 0.2711\n",
      "train_accuracy epoch 33: 0.9083\n",
      "val_accuracy epoch 33: 0.9276\n",
      "------------------------------\n"
     ]
    },
    {
     "name": "stderr",
     "output_type": "stream",
     "text": [
      "100%|██████████| 74/74 [00:12<00:00,  5.94it/s]\n",
      "100%|██████████| 9/9 [00:00<00:00, 22.88it/s]\n",
      " 85%|████████▌ | 34/40 [07:18<01:17, 12.94s/it]"
     ]
    },
    {
     "name": "stdout",
     "output_type": "stream",
     "text": [
      "------------------------------\n",
      "train loss epoch 34: 0.2990\n",
      "valid loss epoch 34: 0.2349\n",
      "train_accuracy epoch 34: 0.9124\n",
      "val_accuracy epoch 34: 0.9333\n",
      "------------------------------\n"
     ]
    },
    {
     "name": "stderr",
     "output_type": "stream",
     "text": [
      "100%|██████████| 74/74 [00:12<00:00,  5.97it/s]\n",
      "100%|██████████| 9/9 [00:00<00:00, 22.97it/s]\n",
      " 88%|████████▊ | 35/40 [07:31<01:04, 12.93s/it]"
     ]
    },
    {
     "name": "stdout",
     "output_type": "stream",
     "text": [
      "------------------------------\n",
      "train loss epoch 35: 0.2874\n",
      "valid loss epoch 35: 0.2681\n",
      "train_accuracy epoch 35: 0.9165\n",
      "val_accuracy epoch 35: 0.9281\n",
      "------------------------------\n"
     ]
    },
    {
     "name": "stderr",
     "output_type": "stream",
     "text": [
      "100%|██████████| 74/74 [00:12<00:00,  6.03it/s]\n",
      "100%|██████████| 9/9 [00:00<00:00, 23.41it/s]\n",
      " 90%|█████████ | 36/40 [07:44<00:51, 12.88s/it]"
     ]
    },
    {
     "name": "stdout",
     "output_type": "stream",
     "text": [
      "------------------------------\n",
      "train loss epoch 36: 0.2934\n",
      "valid loss epoch 36: 0.2486\n",
      "train_accuracy epoch 36: 0.9139\n",
      "val_accuracy epoch 36: 0.9324\n",
      "------------------------------\n"
     ]
    },
    {
     "name": "stderr",
     "output_type": "stream",
     "text": [
      "100%|██████████| 74/74 [00:12<00:00,  5.99it/s]\n",
      "100%|██████████| 9/9 [00:00<00:00, 23.35it/s]\n",
      " 92%|█████████▎| 37/40 [07:57<00:38, 12.87s/it]"
     ]
    },
    {
     "name": "stdout",
     "output_type": "stream",
     "text": [
      "------------------------------\n",
      "train loss epoch 37: 0.2745\n",
      "valid loss epoch 37: 0.2186\n",
      "train_accuracy epoch 37: 0.9202\n",
      "val_accuracy epoch 37: 0.9360\n",
      "------------------------------\n"
     ]
    },
    {
     "name": "stderr",
     "output_type": "stream",
     "text": [
      "100%|██████████| 74/74 [00:12<00:00,  5.99it/s]\n",
      "100%|██████████| 9/9 [00:00<00:00, 22.84it/s]\n",
      " 95%|█████████▌| 38/40 [08:10<00:25, 12.86s/it]"
     ]
    },
    {
     "name": "stdout",
     "output_type": "stream",
     "text": [
      "------------------------------\n",
      "train loss epoch 38: 0.2724\n",
      "valid loss epoch 38: 0.2322\n",
      "train_accuracy epoch 38: 0.9187\n",
      "val_accuracy epoch 38: 0.9305\n",
      "------------------------------\n"
     ]
    },
    {
     "name": "stderr",
     "output_type": "stream",
     "text": [
      "100%|██████████| 74/74 [00:12<00:00,  5.96it/s]\n",
      "100%|██████████| 9/9 [00:00<00:00, 23.51it/s]\n",
      " 98%|█████████▊| 39/40 [08:23<00:12, 12.87s/it]"
     ]
    },
    {
     "name": "stdout",
     "output_type": "stream",
     "text": [
      "------------------------------\n",
      "train loss epoch 39: 0.2613\n",
      "valid loss epoch 39: 0.2141\n",
      "train_accuracy epoch 39: 0.9231\n",
      "val_accuracy epoch 39: 0.9374\n",
      "------------------------------\n"
     ]
    },
    {
     "name": "stderr",
     "output_type": "stream",
     "text": [
      "100%|██████████| 74/74 [00:12<00:00,  6.03it/s]\n",
      "100%|██████████| 9/9 [00:00<00:00, 22.83it/s]\n",
      "100%|██████████| 40/40 [08:35<00:00, 12.90s/it]"
     ]
    },
    {
     "name": "stdout",
     "output_type": "stream",
     "text": [
      "------------------------------\n",
      "train loss epoch 40: 0.2553\n",
      "valid loss epoch 40: 0.2231\n",
      "train_accuracy epoch 40: 0.9229\n",
      "val_accuracy epoch 40: 0.9393\n",
      "------------------------------\n",
      "Training time:515.89s\n"
     ]
    },
    {
     "name": "stderr",
     "output_type": "stream",
     "text": [
      "\n"
     ]
    }
   ],
   "source": [
    "criterion = nn.CrossEntropyLoss()\n",
    "optimizer = optim.Adam(\n",
    "    model.parameters(),\n",
    "    betas=ADAM_BETAS,\n",
    "    lr=LEARNING_RATE,\n",
    "    weight_decay=ADAM_WEIGHT_DECAY,\n",
    ")\n",
    "\n",
    "print(f\"{device=}\")\n",
    "start = timeit.default_timer()\n",
    "\n",
    "for epoch in tqdm(range(EPOCHS), position=0, leave=True):\n",
    "    \"\"\"\n",
    "    position=0: Ensures the progress bar appears at a fixed position in the console (useful when running nested loops or multiple progress bars).\n",
    "    leave=True: Ensures the progress bar remains on the console after the loop finishes. If set to False, the progress bar disappears after completion.\n",
    "    \"\"\"\n",
    "    model.train()\n",
    "    train_labels = []\n",
    "    train_preds = []\n",
    "    train_running_loss = 0\n",
    "\n",
    "    for idx, img_label in enumerate(tqdm(train_dataloader, position=0, leave=True)):\n",
    "        img = img_label[\"image\"].float().to(device)\n",
    "        label = img_label[\"label\"].type(torch.uint8).to(device)\n",
    "        y_pred = model(img)\n",
    "        y_pred_label = torch.argmax(y_pred, dim=1)\n",
    "\n",
    "        train_labels.extend(\n",
    "            label.cpu().detach()\n",
    "        )  # otherwise you will ru out of menmory\n",
    "        train_preds.extend(y_pred_label.cpu().detach())\n",
    "\n",
    "        loss = criterion(y_pred, label)\n",
    "        optimizer.zero_grad()\n",
    "        loss.backward()\n",
    "        optimizer.step()\n",
    "\n",
    "        train_running_loss += loss.item()\n",
    "    train_loss = train_running_loss / (idx + 1)  # loss for one epoch\n",
    "\n",
    "    model.eval()\n",
    "    val_labels = []\n",
    "    val_preds = []\n",
    "    val_running_loss = 0\n",
    "\n",
    "    with torch.no_grad():\n",
    "        for idx, img_label in enumerate(tqdm(val_dataloader, position=0, leave=True)):\n",
    "            img = img_label[\"image\"].float().to(device)\n",
    "            label = img_label[\"label\"].type(torch.uint8).to(device)\n",
    "            y_pred = model(img)\n",
    "            y_pred_label = torch.argmax(y_pred, dim=1)\n",
    "\n",
    "            val_labels.extend(label.cpu().detach())\n",
    "            val_preds.extend(y_pred_label.cpu().detach())\n",
    "\n",
    "            loss = criterion(y_pred, label)\n",
    "            val_running_loss += loss.item()\n",
    "\n",
    "    val_loss = val_running_loss / (idx + 1)  # loss for one epoch\n",
    "\n",
    "    print(\"-\" * 30)\n",
    "    print(f\"train loss epoch {epoch+1}: {train_loss:.4f}\")\n",
    "    print(f\"valid loss epoch {epoch+1}: {val_loss:.4f}\")\n",
    "    print(\n",
    "        f\"train_accuracy epoch {epoch+1}: {sum(1 for x,y in zip(train_preds, train_labels) if x==y)/len(train_labels):.4f}\"\n",
    "    )\n",
    "    print(\n",
    "        f\"val_accuracy epoch {epoch+1}: {sum(1 for x,y in zip(val_preds, val_labels) if x==y)/len(val_labels):.4f}\"\n",
    "    )\n",
    "    print(\"-\" * 30)\n",
    "\n",
    "\n",
    "stop = timeit.default_timer()\n",
    "print(f\"Training time:{stop-start:.2f}s\")"
   ]
  },
  {
   "cell_type": "code",
   "execution_count": null,
   "metadata": {},
   "outputs": [],
   "source": []
  },
  {
   "cell_type": "code",
   "execution_count": null,
   "metadata": {},
   "outputs": [],
   "source": []
  },
  {
   "cell_type": "code",
   "execution_count": 20,
   "metadata": {},
   "outputs": [
    {
     "data": {
      "text/plain": [
       "\"torch.cuda.empty_cache() is a PyTorch function that frees up unused GPU memory in the cache, making it available for other operations. This can be helpful when you encounter GPU memory issues, but it doesn't directly reduce the memory used by your tensors or computations. It simply clears memory that PyTorch's caching allocator is holding onto for potential reuse.\""
      ]
     },
     "execution_count": 20,
     "metadata": {},
     "output_type": "execute_result"
    }
   ],
   "source": [
    "torch.cuda.empty_cache()  # to free gpu space\n",
    "\"\"\"torch.cuda.empty_cache() is a PyTorch function that frees up unused GPU memory in the cache, making it available for other operations. This can be helpful when you encounter GPU memory issues, but it doesn't directly reduce the memory used by your tensors or computations. It simply clears memory that PyTorch's caching allocator is holding onto for potential reuse.\"\"\""
   ]
  },
  {
   "cell_type": "code",
   "execution_count": null,
   "metadata": {},
   "outputs": [],
   "source": []
  },
  {
   "cell_type": "code",
   "execution_count": 22,
   "metadata": {},
   "outputs": [
    {
     "name": "stderr",
     "output_type": "stream",
     "text": [
      "100%|██████████| 55/55 [00:02<00:00, 20.50it/s]\n"
     ]
    }
   ],
   "source": [
    "labels = []\n",
    "ids = []\n",
    "imgs = []\n",
    "model.eval()\n",
    "\n",
    "with torch.no_grad():\n",
    "    for idx, sample in enumerate(tqdm(test_dataloader, position=0, leave=True)):\n",
    "        img = sample[\"image\"].to(device)\n",
    "        ids.extend([int(i) + 1 for i in sample[\"index\"]])\n",
    "\n",
    "        outputs = model(img)\n",
    "        imgs.extend(img.detach().cpu())\n",
    "        labels.extend([int(i) for i in torch.argmax(outputs, dim=1)])"
   ]
  },
  {
   "cell_type": "code",
   "execution_count": 24,
   "metadata": {},
   "outputs": [
    {
     "data": {
      "text/plain": [
       "<Figure size 640x480 with 0 Axes>"
      ]
     },
     "metadata": {},
     "output_type": "display_data"
    },
    {
     "data": {
      "image/png": "[encoded data removed]",
      "text/plain": [
       "<Figure size 640x480 with 6 Axes>"
      ]
     },
     "metadata": {},
     "output_type": "display_data"
    }
   ],
   "source": [
    "plt.figure()\n",
    "f, axarr = plt.subplots(2, 3)\n",
    "counter = 0\n",
    "for i in range(2):\n",
    "    for j in range(3):\n",
    "        axarr[i][j].imshow(imgs[counter].squeeze(), cmap=\"gray\")\n",
    "        axarr[i][j].set_title(f\"predicted {labels[counter]}\")\n",
    "        counter += 1\n",
    "\n",
    "\n",
    "plt.show()"
   ]
  },
  {
   "cell_type": "code",
   "execution_count": null,
   "metadata": {},
   "outputs": [],
   "source": []
  },
  {
   "cell_type": "code",
   "execution_count": null,
   "metadata": {},
   "outputs": [],
   "source": []
  },
  {
   "cell_type": "code",
   "execution_count": null,
   "metadata": {},
   "outputs": [],
   "source": []
  }
 ],
 "metadata": {
  "kernelspec": {
   "display_name": "pytorch3d",
   "language": "python",
   "name": "pytorch3d"
  },
  "language_info": {
   "codemirror_mode": {
    "name": "ipython",
    "version": 3
   },
   "file_extension": ".py",
   "mimetype": "text/x-python",
   "name": "python",
   "nbconvert_exporter": "python",
   "pygments_lexer": "ipython3",
   "version": "3.12.2"
  }
 },
 "nbformat": 4,
 "nbformat_minor": 2
}
