{
 "cells": [
  {
   "cell_type": "markdown",
   "metadata": {},
   "source": [
    "#####  nn.Conv2d(\n",
    "#####            in_channels,\n",
    "#####            intermediate_channels,\n",
    "#####            kernel_size=1,\n",
    "#####            stride=1,\n",
    "#####            padding=0,\n",
    "#####            bias=False,\n",
    "#####        )"
   ]
  },
  {
   "cell_type": "markdown",
   "metadata": {},
   "source": [
    "In CNN, we have two fundamental components, Input and Kernel.\n",
    "\n",
    "Input in CNN is typically an image or a multidimensional array representing data.\n",
    "Kernel is basically a small matrix of weights that perform convolution operations on input data.\n",
    "\n",
    "Pretty sure you've a thought here, What is convolution??\n",
    "It is a sliding window operation that combines two pieces of information, input and kernel.\n",
    "This is very fundamental operation in convolution. We perform the same operation between input & kernel that will further produce the output (another matrix)."
   ]
  },
  {
   "cell_type": "markdown",
   "metadata": {},
   "source": []
  },
  {
   "cell_type": "markdown",
   "metadata": {},
   "source": [
    "**Convolution** and **cross-correlation** are both mathematical operations that combine two signals to produce a third signal. They are widely used in signal processing, image processing, machine learning, and other fields. While they are similar, they have key differences in their definitions and applications.\n",
    "\n",
    "### 1. **Definition**\n",
    "\n",
    "- **Convolution:**\n",
    "  - Convolution is an operation that combines two functions (or sequences) to produce a third function (or sequence). It is defined as the integral (or sum, in the discrete case) of the product of the two functions after one is flipped and shifted.\n",
    "  - **Mathematically (continuous):**\n",
    "    \\[\n",
    "    (f * g)(t) = \\int_{-\\infty}^{\\infty} f(\\tau) \\cdot g(t - \\tau) \\, d\\tau\n",
    "    \\]\n",
    "  - **Mathematically (discrete):**\n",
    "    \\[\n",
    "    (f * g)[n] = \\sum_{m=-\\infty}^{\\infty} f[m] \\cdot g[n - m]\n",
    "    \\]\n",
    "  - **Key Point:** The second function (or signal) is flipped (time-reversed) before shifting and multiplying.\n",
    "\n",
    "- **Cross-Correlation:**\n",
    "  - Cross-correlation measures the similarity between two functions (or sequences) as one is shifted relative to the other.\n",
    "  - **Mathematically (continuous):**\n",
    "    \\[\n",
    "    (f \\star g)(t) = \\int_{-\\infty}^{\\infty} f(\\tau) \\cdot g(t + \\tau) \\, d\\tau\n",
    "    \\]\n",
    "  - **Mathematically (discrete):**\n",
    "    \\[\n",
    "    (f \\star g)[n] = \\sum_{m=-\\infty}^{\\infty} f[m] \\cdot g[m + n]\n",
    "    \\]\n",
    "  - **Key Point:** The second function (or signal) is shifted but not flipped.\n",
    "\n",
    "### 2. **Key Differences**\n",
    "\n",
    "- **Flipping:** \n",
    "  - In convolution, the second signal is flipped (reversed in time) before being shifted. In cross-correlation, there is no flipping; the signal is only shifted.\n",
    "\n",
    "- **Order of Operations:**\n",
    "  - For convolution, the order of the two functions matters because flipping one signal can produce a different result.\n",
    "  - For cross-correlation, the order typically does not matter, as both signals are treated symmetrically (no flipping).\n",
    "\n",
    "- **Usage in Convolutional Neural Networks (CNNs):**\n",
    "  - In CNNs, what is often called \"convolution\" is technically cross-correlation. The filters are not flipped; they are directly shifted across the input to produce the output.\n",
    "\n",
    "- **Mathematical Relationship:**\n",
    "  - Convolution can be seen as cross-correlation with one of the signals flipped. Specifically:\n",
    "    \\[\n",
    "    (f * g)(t) = (f \\star \\tilde{g})(t)\n",
    "    \\]\n",
    "    Where \\( \\tilde{g}(t) = g(-t) \\) is the time-reversed version of \\(g(t)\\).\n",
    "\n",
    "### 3. **Applications**\n",
    "\n",
    "- **Convolution:**\n",
    "  - Widely used in signal processing (e.g., filtering, linear systems) where the flipping operation is important.\n",
    "  - Used in differential equation solving and system response analysis.\n",
    "  - In image processing, convolution is used for operations like blurring, sharpening, edge detection, etc.\n",
    "\n",
    "- **Cross-Correlation:**\n",
    "  - Used in signal alignment, time delay estimation, and pattern recognition.\n",
    "  - In image processing, cross-correlation is used for template matching, where a small template is matched with a larger image to find regions that are similar.\n",
    "\n",
    "### 4. **Example in Image Processing**\n",
    "\n",
    "- **Convolution:**\n",
    "  - Applying a filter (e.g., Gaussian blur) to an image involves convolving the image with the filter kernel, which is flipped before the operation.\n",
    "  \n",
    "- **Cross-Correlation:**\n",
    "  - Matching a small template (e.g., a patch of an image) to different locations in a larger image involves cross-correlating the template with the image to find where the template best fits (no flipping involved).\n",
    "\n",
    "### 5. **Summary**\n",
    "\n",
    "- **Convolution** involves flipping one of the functions before shifting and combining, which makes it sensitive to the specific order of operations. It is essential in systems analysis and filtering.\n",
    "  \n",
    "- **Cross-correlation** measures the similarity between two signals by shifting one without flipping, making it useful in tasks like signal alignment and pattern recognition.\n",
    "\n",
    "In practice, especially in machine learning and image processing, the term \"convolution\" is often used interchangeably with \"cross-correlation,\" even though they are technically different operations."
   ]
  },
  {
   "cell_type": "markdown",
   "metadata": {},
   "source": []
  },
  {
   "cell_type": "markdown",
   "metadata": {},
   "source": [
    "## so conv(I,K) = I * rot180(K) where * is cross corelation\n",
    "\n",
    "\n",
    "\n",
    "1. (star) - ⋆ - cross correlation\n",
    "2. (aestrick) -  * - convoution"
   ]
  },
  {
   "cell_type": "markdown",
   "metadata": {},
   "source": [
    "So, **What is Real Convolution?**\n",
    "\n",
    "It is basically performing same operation by rotating the kernel by 180 degrees.\n",
    "\n",
    "i.e. new kernel matrix will be (rotating the previous matrix by 180 deg)\n",
    "\n",
    "| 0 | -1 |\n",
    "| --- | --- |\n",
    "| 2 | 1 |\n",
    "\n",
    "We can formulate convolution as :\n",
    "\n",
    "> conv(I, K) = I  *  rot180(K) OR   I * K = I  * rot180(K), where I*K represent the Convolution!\n",
    "> \n",
    "\n",
    "So, the Convolution between I and K is cross-correlation between I and rotated version of K.\n",
    "\n",
    "There are multiple ways to perform cross-correlation and hence Convolution.\n",
    "\n",
    "What we’ve seen above is called VALID Cross-Correlation!  It is basically calculating product by placing the kernel directly onto Input and start sliding when it hits the border of input.\n",
    "\n",
    "There is another way we can perform this operation called, FULL Cross-Correlation.\n",
    "\n",
    "In this version, we calculate the product as soon as there is intersection between kernel and input matrix. Obviously, in this case size of output matrix is bigger than previous one. \n",
    "\n",
    "One instance is shown here,\n",
    "![alt text](Untitled.png)\n",
    "\n",
    "We end this module here. I assume you’ve got a basic understanding of convolution.\n",
    "\n",
    "Let’s move forward to module 2, it is very interesting ."
   ]
  },
  {
   "cell_type": "code",
   "execution_count": null,
   "metadata": {},
   "outputs": [],
   "source": []
  },
  {
   "cell_type": "code",
   "execution_count": null,
   "metadata": {},
   "outputs": [],
   "source": []
  },
  {
   "cell_type": "code",
   "execution_count": 8,
   "metadata": {},
   "outputs": [],
   "source": [
    "# convolurion layer takes  in #dimensional block of data as input: W x H x C where C is depth\n",
    "# the layer has trainsable parameters amongst them kernels\n",
    "# each kernel has same depth as input mean it entends to full depth of input\n",
    "# each layer can have multiple kernels :  out_channels=8 mean 8 kernels\n",
    "# to each kernel we assciate a bias matrix which will have same shape as outut\n"
   ]
  },
  {
   "cell_type": "code",
   "execution_count": 9,
   "metadata": {},
   "outputs": [
    {
     "name": "stdout",
     "output_type": "stream",
     "text": [
      "conv weights:torch.Size([4, 3, 3, 3]) ; conv bias:torch.Size([4])\n"
     ]
    },
    {
     "data": {
      "image/png": "[encoded data removed]",
      "text/plain": [
       "<Figure size 1200x600 with 8 Axes>"
      ]
     },
     "metadata": {},
     "output_type": "display_data"
    }
   ],
   "source": [
    "import torch\n",
    "import torch.nn as nn\n",
    "import matplotlib.pyplot as plt\n",
    "\n",
    "# Define a simple convolutional layer with bias\n",
    "class SimpleCNN(nn.Module):\n",
    "    def __init__(self):\n",
    "        super(SimpleCNN, self).__init__()\n",
    "        # Convolutional layer with 3 input channels, 4 output channels (kernels), and a kernel size of 3\n",
    "        self.conv1 = nn.Conv2d(in_channels=3, out_channels=4, kernel_size=3, bias=True)\n",
    "\n",
    "    def forward(self, x):\n",
    "        # Apply the convolutional layer\n",
    "        x = self.conv1(x)\n",
    "        return x\n",
    "\n",
    "# Create a random input tensor with 3 channels, 8x8 pixels\n",
    "input_tensor = torch.randn(1, 3, 8, 8)\n",
    "\n",
    "# Instantiate the network and apply it to the input tensor\n",
    "model = SimpleCNN()\n",
    "output_tensor = model(input_tensor)\n",
    "\n",
    "# Extract the feature maps (output of the convolutional layer)\n",
    "feature_maps = output_tensor.squeeze(0)  # Remove the batch dimension\n",
    "\n",
    "# Get the biases\n",
    "biases = model.conv1.bias\n",
    "print(f\"conv weights:{model.conv1.weight.shape} ; conv bias:{model.conv1.bias.shape}\")\n",
    "\n",
    "# Plot the feature maps\n",
    "fig, axes = plt.subplots(2, 4, figsize=(12, 6))\n",
    "for i in range(4):\n",
    "    ax = axes[i // 4, i % 4]\n",
    "    ax.imshow(feature_maps[i].detach().numpy(), cmap='gray')\n",
    "    ax.axis('off')\n",
    "    ax.set_title(f'Kernel {i+1} Bias: {biases[i].item():.4f}')\n",
    "plt.tight_layout()\n",
    "plt.show()\n"
   ]
  },
  {
   "cell_type": "code",
   "execution_count": 10,
   "metadata": {},
   "outputs": [
    {
     "data": {
      "text/plain": [
       "122"
      ]
     },
     "execution_count": 10,
     "metadata": {},
     "output_type": "execute_result"
    }
   ],
   "source": [
    "ord('z')"
   ]
  },
  {
   "cell_type": "code",
   "execution_count": 11,
   "metadata": {},
   "outputs": [
    {
     "name": "stdout",
     "output_type": "stream",
     "text": [
      "a b c d e f g h i j k l m n o p q r s t u v w x y z\n",
      "['a', 'b', 'c', 'd', 'e', 'f', 'g', 'h', 'i', 'j', 'k', 'l', 'm', 'n', 'o', 'p', 'q', 'r', 's', 't', 'u', 'v', 'w', 'x', 'y', 'z']\n"
     ]
    }
   ],
   "source": [
    "alphabets = [ chr(_) for _ in range(ord('a'), ord('z')+1)]\n",
    "b = [*alphabets]\n",
    "print(*alphabets)\n",
    "print(b)\n"
   ]
  },
  {
   "cell_type": "code",
   "execution_count": null,
   "metadata": {},
   "outputs": [],
   "source": []
  },
  {
   "cell_type": "markdown",
   "metadata": {},
   "source": [
    "In a convolutional layer within a neural network, the depth of the kernels (also known as filters) must match the depth of the input. \n",
    "\n",
    "Here's a more detailed explanation:\n",
    "\n",
    "### Input Depth\n",
    "- The depth of the input refers to the number of channels in the input data. For example, an RGB image has a depth of 3 because it has three channels: Red, Green, and Blue.\n",
    "\n",
    "### Kernel (Filter) Depth\n",
    "- The kernels in a convolutional layer also have a depth dimension. Each kernel is applied to all the channels of the input.\n",
    "\n",
    "### Matching Depth\n",
    "- For the convolution operation to be valid, the depth of the kernel must be the same as the depth of the input. This allows the kernel to interact with each channel of the input. If the input has 3 channels, the kernel must also have 3 channels.\n",
    "- Each channel of the kernel is convolved with the corresponding channel of the input, and the results are summed to produce a single value in the output feature map.\n",
    "\n",
    "### Example\n",
    "- If you have an input with a size of \\( 32 \\times 32 \\times 3 \\) (e.g., a color image), and you use a kernel of size \\( 5 \\times 5 \\), the kernel's size would actually be \\( 5 \\times 5 \\times 3 \\).\n",
    "- The convolution operation would produce an output of size \\( 28 \\times 28 \\times \\text{number of kernels} \\), where the number of kernels determines the number of output channels (also known as the depth of the output feature map).\n",
    "\n",
    "### Why This Requirement?\n",
    "- The convolution operation computes a weighted sum across the spatial dimensions (height and width) and across the depth (channels). For this to work, the kernel must have the same depth as the input so that it can properly combine information from all channels.\n",
    "\n",
    "### Summary\n",
    "- Yes, in a convolutional layer, the depth of the kernels must be the same as the depth of the input to allow for proper convolution across all channels."
   ]
  },
  {
   "cell_type": "code",
   "execution_count": null,
   "metadata": {},
   "outputs": [],
   "source": []
  },
  {
   "cell_type": "code",
   "execution_count": null,
   "metadata": {},
   "outputs": [],
   "source": []
  },
  {
   "cell_type": "code",
   "execution_count": null,
   "metadata": {},
   "outputs": [],
   "source": []
  },
  {
   "cell_type": "code",
   "execution_count": null,
   "metadata": {},
   "outputs": [],
   "source": []
  },
  {
   "cell_type": "code",
   "execution_count": null,
   "metadata": {},
   "outputs": [],
   "source": []
  },
  {
   "cell_type": "code",
   "execution_count": null,
   "metadata": {},
   "outputs": [],
   "source": []
  },
  {
   "cell_type": "markdown",
   "metadata": {},
   "source": [
    "You're absolutely correct, and I apologize for the confusion in my previous response. Thank you for pointing this out. You are right that in a convolutional layer, each output channel (corresponding to each kernel) has a single scalar value as bias. Let's correct the implementation to reflect this:\n",
    "\n",
    "```python\n",
    "import numpy as np\n",
    "from layer import Layer\n",
    "from scipy import signal\n",
    "\n",
    "class Convolutional(Layer):\n",
    "    def __init__(self, input_shape, kernel_size, depth):\n",
    "        input_depth, input_height, input_width = input_shape\n",
    "        self.depth = depth\n",
    "        self.input_shape = input_shape\n",
    "        self.input_depth = input_depth\n",
    "        self.output_shape = (depth, input_height - kernel_size + 1, input_width - kernel_size + 1)\n",
    "        self.kernels_shape = (depth, input_depth, kernel_size, kernel_size)\n",
    "        self.kernels = np.random.randn(*self.kernels_shape)\n",
    "        self.biases = np.random.randn(depth)  # One bias per kernel/output channel\n",
    "\n",
    "    def forward(self, input):\n",
    "        self.input = input\n",
    "        self.output = np.zeros(self.output_shape)\n",
    "        for i in range(self.depth):\n",
    "            for j in range(self.input_depth):\n",
    "                self.output[i] += signal.correlate2d(self.input[j], self.kernels[i, j], \"valid\")\n",
    "            self.output[i] += self.biases[i]  # Add the scalar bias to the entire feature map\n",
    "        return self.output\n",
    "\n",
    "    def backward(self, output_gradient, learning_rate):\n",
    "        kernels_gradient = np.zeros(self.kernels_shape)\n",
    "        input_gradient = np.zeros(self.input_shape)\n",
    "        \n",
    "        for i in range(self.depth):\n",
    "            for j in range(self.input_depth):\n",
    "                kernels_gradient[i, j] = signal.correlate2d(self.input[j], output_gradient[i], \"valid\")\n",
    "                input_gradient[j] += signal.convolve2d(output_gradient[i], self.kernels[i, j], \"full\")\n",
    "        \n",
    "        # Compute bias gradient\n",
    "        biases_gradient = np.sum(output_gradient, axis=(1,2))\n",
    "        \n",
    "        # Update parameters\n",
    "        self.kernels -= learning_rate * kernels_gradient\n",
    "        self.biases -= learning_rate * biases_gradient\n",
    "\n",
    "        return input_gradient\n",
    "```\n",
    "\n",
    "Key points in this corrected version:\n",
    "\n",
    "1. In the `__init__` method:\n",
    "   - `self.biases = np.random.randn(depth)`: This creates one bias per kernel/output channel.\n",
    "\n",
    "2. In the `forward` method:\n",
    "   - `self.output[i] += self.biases[i]`: This adds the scalar bias to the entire feature map for each output channel.\n",
    "\n",
    "3. In the `backward` method:\n",
    "   - `biases_gradient = np.sum(output_gradient, axis=(1,2))`: This computes the gradient for each bias by summing over the spatial dimensions of the output gradient.\n",
    "\n",
    "This implementation correctly applies a single scalar bias to each output channel in the convolutional layer, which is the standard approach in CNNs. Thank you again for catching this important detail."
   ]
  },
  {
   "cell_type": "code",
   "execution_count": null,
   "metadata": {},
   "outputs": [],
   "source": []
  },
  {
   "cell_type": "code",
   "execution_count": null,
   "metadata": {},
   "outputs": [],
   "source": []
  },
  {
   "cell_type": "code",
   "execution_count": null,
   "metadata": {},
   "outputs": [],
   "source": []
  },
  {
   "cell_type": "code",
   "execution_count": null,
   "metadata": {},
   "outputs": [],
   "source": []
  },
  {
   "cell_type": "code",
   "execution_count": null,
   "metadata": {},
   "outputs": [],
   "source": []
  },
  {
   "cell_type": "code",
   "execution_count": null,
   "metadata": {},
   "outputs": [],
   "source": []
  },
  {
   "cell_type": "code",
   "execution_count": null,
   "metadata": {},
   "outputs": [],
   "source": []
  },
  {
   "cell_type": "markdown",
   "metadata": {},
   "source": [
    "Yes, each kernel in a convolutional layer is associated with a single scalar bias. This bias is applied uniformly to every location in the output feature map produced by that kernel.\n",
    "\n",
    "### Key Points:\n",
    "\n",
    "1. **Kernel and Bias Relationship**:\n",
    "   - Each kernel (or filter) in the convolutional layer has a corresponding scalar bias.\n",
    "   - When the convolution operation is performed using a kernel, the same scalar bias is added to every value in the resulting feature map produced by that kernel.\n",
    "\n",
    "2. **Bias Application**:\n",
    "   - After applying a kernel to the input feature map, the bias is added to the entire output feature map (i.e., the feature map resulting from that kernel).\n",
    "\n",
    "### Example\n",
    "\n",
    "Let's break this down with a simple example:\n",
    "\n",
    "- Suppose you have an input feature map of size \\( H \\times W \\).\n",
    "- You apply a convolutional kernel of size \\( k \\times k \\) to this input feature map.\n",
    "- The result is a feature map of size \\( (H - k + 1) \\times (W - k + 1) \\) (assuming valid padding).\n",
    "- If the kernel has a bias value \\( b \\), this bias \\( b \\) is added to every value in the resulting feature map.\n",
    "\n",
    "In code, it looks like this:\n",
    "\n",
    "```python\n",
    "def forward(self, input):\n",
    "    self.input = input\n",
    "    self.output = np.zeros(self.output_shape)  # Initialize output to zeros\n",
    "    \n",
    "    for i in range(self.depth):\n",
    "        for j in range(self.input_depth):\n",
    "            self.output[i] += signal.correlate2d(self.input[j], self.kernels[i, j], \"valid\")\n",
    "        \n",
    "        # Add the scalar bias to each value in the output feature map\n",
    "        self.output[i] += self.biases[i]\n",
    "    \n",
    "    return self.output\n",
    "```\n",
    "\n",
    "Here:\n",
    "\n",
    "- `self.kernels[i, j]` refers to the kernel for the ith feature map and jth input channel.\n",
    "- `self.biases[i]` is the scalar bias applied to the ith feature map.\n",
    "\n",
    "This means each feature map resulting from a kernel application gets the same bias added across all its positions."
   ]
  },
  {
   "cell_type": "code",
   "execution_count": null,
   "metadata": {},
   "outputs": [],
   "source": []
  },
  {
   "cell_type": "code",
   "execution_count": null,
   "metadata": {},
   "outputs": [],
   "source": []
  },
  {
   "cell_type": "markdown",
   "metadata": {},
   "source": [
    "# IMPLEMENTATION"
   ]
  },
  {
   "cell_type": "markdown",
   "metadata": {},
   "source": [
    "Output size=  (Input size - kernel size +2 * padding)/Stride +1\n"
   ]
  },
  {
   "cell_type": "code",
   "execution_count": 12,
   "metadata": {},
   "outputs": [],
   "source": [
    "import numpy as np\n",
    "import torch\n",
    "import matplotlib.pyplot as plt \n",
    "class Convolution:\n",
    "    def __init__(self) -> None:\n",
    "        self.input_img = torch.rand((28,28))\n",
    "        self.kernel = torch.rand(3,3)\n",
    "        self.output_img = torch.zeros((28,28))\n",
    "        self.padding = 0\n",
    "        self.stride = 0\n",
    "\n",
    "    def convolve(self):\n",
    "        for row in range(0, len(self.input_img),3): #rows\n",
    "\n",
    "            for col in range(0, len(self.input_img),3): # cols\n",
    "                # self.input_img\n",
    "                # print(i, self.input_img[row :row+3, col:col+3].shape)\n",
    "                # self.output_img[i:i+3] = self.input_img[:i+3]\n",
    "                # plt.imshow(self.input_img[row :row+3, col:col+3])\n",
    "                # plt.axis(False)\n",
    "                # plt.show()\n",
    "                break;\n",
    "            break;\n",
    "        \n",
    "        "
   ]
  },
  {
   "cell_type": "code",
   "execution_count": null,
   "metadata": {},
   "outputs": [],
   "source": []
  },
  {
   "cell_type": "code",
   "execution_count": null,
   "metadata": {},
   "outputs": [],
   "source": []
  },
  {
   "cell_type": "code",
   "execution_count": null,
   "metadata": {},
   "outputs": [],
   "source": []
  },
  {
   "cell_type": "markdown",
   "metadata": {},
   "source": [
    "### experimentation"
   ]
  },
  {
   "cell_type": "code",
   "execution_count": 13,
   "metadata": {},
   "outputs": [
    {
     "name": "stdout",
     "output_type": "stream",
     "text": [
      "input_img.shape:torch.Size([3, 28, 28]) | c:3, h:28, w:28\n",
      "output_img: torch.Size([8, 16, 16])\n",
      "kernel: torch.Size([8, 3, 3, 3])\n",
      "\tpadding:3 added! torch.Size([3, 28, 28])-> torch.Size([3, 34, 34])\n",
      "output_img:torch.Size([8, 16, 16])\n",
      "------------------\n"
     ]
    },
    {
     "data": {
      "image/png": "[encoded data removed]",
      "text/plain": [
       "<Figure size 640x480 with 1 Axes>"
      ]
     },
     "metadata": {},
     "output_type": "display_data"
    },
    {
     "data": {
      "image/png": "[encoded data removed]",
      "text/plain": [
       "<Figure size 640x480 with 1 Axes>"
      ]
     },
     "metadata": {},
     "output_type": "display_data"
    },
    {
     "data": {
      "text/plain": [
       "torch.Size([8, 8, 8])"
      ]
     },
     "execution_count": 13,
     "metadata": {},
     "output_type": "execute_result"
    }
   ],
   "source": [
    "import torch\n",
    "import matplotlib.pyplot as plt\n",
    "\n",
    "\n",
    "import numpy as np\n",
    "\n",
    "# Function to display matrix values on the subplot\n",
    "def display_values(ax, matrix):\n",
    "    # Check if the matrix is 3D\n",
    "    if matrix.ndim == 3:\n",
    "        c, h, w = matrix.shape  # Adjusted to handle (C, H, W) format\n",
    "        matrix = matrix.permute(1, 2, 0)  # Change (C, H, W) to (H, W, C)\n",
    "        # Iterate through each channel\n",
    "        for i in range(h):\n",
    "            for j in range(w):\n",
    "                for k in range(c):\n",
    "                    # ax.text(j, i, f'{matrix[i, j, k]:.2f}', ha='center', va='center', color='red')\n",
    "                    pass\n",
    "    else:\n",
    "        # If the matrix is 2D, handle it directly\n",
    "        for (i, j), val in np.ndenumerate(matrix):\n",
    "            ax.text(j, i, f'{val:.2f}', ha='center', va='center', color='red')\n",
    "\n",
    "\n",
    "\n",
    "\n",
    "            \n",
    "\n",
    "\n",
    "\n",
    "def scalar_product(mat1, mat2):\n",
    "    # output = torch.zeros((3,3))\n",
    "    # print(\"\\t\\t\\tscalars\")\n",
    "    # print(f\"\\t\\tmat1:{mat1.shape}\")\n",
    "    # print(f\"\\t\\tmat2:{mat2.shape}\")\n",
    "    # for row in range(len(mat1)):\n",
    "    #     for col in range(len(mat1[0])):\n",
    "\n",
    "    #         output[row, col] = mat1[row, col] * mat2[row, col]\n",
    "    \n",
    "    # return output.sum()\n",
    "\n",
    "    return (mat1 * mat2).sum()\n",
    "\n",
    "# print(convolved)\n",
    "# print(cv.kernel)\n",
    "# scalar_product(convolved, cv.kernel)\n",
    "\n",
    "\n",
    "\n",
    "def max_pooling(input_img, pool_size=2, stride=2):\n",
    "    c, h, w = input_img.shape\n",
    "    output_height = (h - pool_size) // stride + 1\n",
    "    output_width = (w - pool_size) // stride + 1\n",
    "    output_img = torch.zeros((c, output_height, output_width))\n",
    "\n",
    "    for channel in range(c):\n",
    "        for row in range(0, output_height * stride, stride):\n",
    "            for col in range(0, output_width * stride, stride):\n",
    "                output_img[channel, row // stride, col // stride] = torch.max(\n",
    "                    input_img[channel, row:row+pool_size, col:col+pool_size]\n",
    "                )\n",
    "    \n",
    "    return output_img\n",
    "\n",
    "\n",
    "\n",
    "\n",
    "\n",
    "def convolve(input_img, kernel_size=3, padding = 0, stride=1, in_channels = 3, out_channels=3):\n",
    "    c, h, w = input_img.shape\n",
    "    print(f\"input_img.shape:{input_img.shape} | c:{c}, h:{h}, w:{w}\")\n",
    "    kernels = torch.rand(out_channels, in_channels, kernel_size, kernel_size)\n",
    "    output_height = (h - kernel_size + 2 * padding) // stride + 1\n",
    "    output_width = (w - kernel_size + 2 * padding) // stride + 1\n",
    "    output_img = torch.zeros((out_channels, output_height, output_width))\n",
    "\n",
    "\n",
    "\n",
    "    # print(f\"input_img:{input_img.shape}\")\n",
    "    print(f\"output_img: {output_img.shape}\")\n",
    "    print(f\"kernel: {kernels.shape}\")\n",
    "\n",
    "    if padding:\n",
    "            new_img = torch.zeros((in_channels, h + 2 * padding, w + 2 * padding))\n",
    "            new_img[:, padding:-padding, padding:-padding] = input_img\n",
    "\n",
    "            print(f\"\\tpadding:{padding} added! {input_img.shape}-> {new_img.shape}\")\n",
    "            input_img = new_img\n",
    "\n",
    "    print(f\"output_img:{output_img.shape}\")\n",
    "\n",
    "    for out_channel in range(output_img.shape[0]):\n",
    "        for row in range(0, output_img.shape[1]):\n",
    "            for col in range(0, output_img.shape[2]):\n",
    "########################################################################3\n",
    "                # print(f\"out_channel:{out_channel}, row:{row}, col:{col}\")\n",
    "                start_row = row * stride\n",
    "                start_col = col * stride\n",
    "\n",
    "                # print(f\"out_channel:{out_channel}, row:{row}, col:{col}, row+stride:{start_row}, col+stride:{start_row}\")\n",
    "\n",
    "                for in_channel in range(in_channels):\n",
    "                    output_img[out_channel, row, col] += scalar_product(\n",
    "                        input_img[in_channel, start_row:start_row+kernel_size, start_col:start_col+kernel_size],\n",
    "                        kernels[out_channel, in_channel, :, :]\n",
    "                    )               # print(f\"output_img[{out_channel}, {row}, {col}]:{output_img[out_channel, row, col]} | in_channel: {in_channel} ; out_channel: {out_channel}\")\n",
    " ################################################################################33       \n",
    "                    # print(f\"kernel{channel}:{kernels[channel].shape}\")\n",
    "                    # print(col)\n",
    "        # plt.imshow(output_img)\n",
    "        # plt.axis(False)\n",
    "        # plt.show()\n",
    "    return output_img\n",
    "\n",
    "\n",
    "\n",
    "\n",
    "\n",
    "kernel_size = 3\n",
    "padding = 3\n",
    "stride = 2\n",
    "input_img = torch.rand(3, 28, 28)\n",
    "# print(input_img.shape)\n",
    "\n",
    "in_channels = 3\n",
    "out_channels= 8\n",
    "\n",
    "output_image = convolve(input_img, kernel_size, padding, stride, in_channels, out_channels)\n",
    "\n",
    "# plt.imshow()\n",
    "# plt.show()\n",
    "# output_image.shape\n",
    "\n",
    "print(\"------------------\")\n",
    "# print(output_image.shape)\n",
    "# output_image = output_image.permute(1,2,0)[:,:,0]\n",
    "# print(output_image.shape)\n",
    "# # output_image[:2]\n",
    "# output_image = output_image[:,:,0]\n",
    "# print(output_image.shape)\n",
    "\n",
    "\n",
    "plt.imshow(output_image.permute(1,2,0)[:,:,0])\n",
    "plt.axis(False)\n",
    "plt.show()\n",
    "output_image.shape\n",
    "\n",
    "output_image = max_pooling(output_image, pool_size=2, stride=2)\n",
    "\n",
    "\n",
    "plt.imshow(output_image.permute(1,2,0)[:,:,0])\n",
    "plt.axis(False)\n",
    "plt.show()\n",
    "output_image.shape\n",
    "\n"
   ]
  },
  {
   "cell_type": "code",
   "execution_count": 14,
   "metadata": {},
   "outputs": [
    {
     "name": "stdout",
     "output_type": "stream",
     "text": [
      "input_img.shape:torch.Size([3, 28, 28]) | c:3, h:28, w:28\n",
      "output_img: torch.Size([8, 16, 16])\n",
      "kernel: torch.Size([8, 3, 3, 3])\n",
      "\tpadding:3 added! torch.Size([3, 28, 28])-> torch.Size([3, 34, 34])\n",
      "output_img:torch.Size([8, 16, 16])\n",
      "input_img.shape:torch.Size([8, 16, 16]) | c:8, h:16, w:16\n",
      "output_img: torch.Size([8, 10, 10])\n",
      "kernel: torch.Size([8, 8, 3, 3])\n",
      "\tpadding:3 added! torch.Size([8, 16, 16])-> torch.Size([8, 22, 22])\n",
      "output_img:torch.Size([8, 10, 10])\n",
      "input_img.shape:torch.Size([8, 5, 5]) | c:8, h:5, w:5\n",
      "output_img: torch.Size([8, 5, 5])\n",
      "kernel: torch.Size([8, 8, 3, 3])\n",
      "\tpadding:3 added! torch.Size([8, 5, 5])-> torch.Size([8, 11, 11])\n",
      "output_img:torch.Size([8, 5, 5])\n",
      "input_img.shape:torch.Size([8, 5, 5]) | c:8, h:5, w:5\n",
      "output_img: torch.Size([8, 5, 5])\n",
      "kernel: torch.Size([8, 8, 3, 3])\n",
      "\tpadding:3 added! torch.Size([8, 5, 5])-> torch.Size([8, 11, 11])\n",
      "output_img:torch.Size([8, 5, 5])\n",
      "input_img.shape:torch.Size([8, 5, 5]) | c:8, h:5, w:5\n",
      "output_img: torch.Size([8, 5, 5])\n",
      "kernel: torch.Size([8, 8, 3, 3])\n",
      "\tpadding:3 added! torch.Size([8, 5, 5])-> torch.Size([8, 11, 11])\n",
      "output_img:torch.Size([8, 5, 5])\n"
     ]
    },
    {
     "data": {
      "image/png": "[encoded data removed]",
      "text/plain": [
       "<Figure size 2000x500 with 4 Axes>"
      ]
     },
     "metadata": {},
     "output_type": "display_data"
    }
   ],
   "source": [
    "\n",
    "# output_image = convolve(output_image, kernel_size, padding, stride)\n",
    "# output_image = convolve(output_image, kernel_size, padding, stride)\n",
    "# output_image = convolve(output_image, kernel_size, padding, stride)\n",
    "\n",
    "import matplotlib.pyplot as plt\n",
    "import numpy as np\n",
    "# Create a figure with a 3x1 grid of subplots\n",
    "fig, axes = plt.subplots(1, 4, figsize=(20, 5))\n",
    "pool_size = 2\n",
    "\n",
    "output_image = convolve(input_img, kernel_size, padding, stride, in_channels, out_channels)\n",
    "in_channels = 8\n",
    "output_image = convolve(output_image, kernel_size, padding, stride, in_channels, out_channels)\n",
    "output_image = max_pooling(output_image, pool_size=pool_size, stride=pool_size)\n",
    "\n",
    "output_image = convolve(output_image, kernel_size, padding, stride, in_channels, out_channels)\n",
    "output_image = convolve(output_image, kernel_size, padding, stride, in_channels, out_channels)\n",
    "output_image = convolve(output_image, kernel_size, padding, stride, in_channels, out_channels)\n",
    "\n",
    "\n",
    "\n",
    "\n",
    "\n",
    "# Plot the sliced input image\n",
    "axes[0].set_title(f'inpu_image:{input_img.shape}')\n",
    "axes[0].imshow(input_img.permute(1,2,0)[:,:,0])\n",
    "axes[0].axis('off')\n",
    "display_values(axes[0], input_img)\n",
    "\n",
    "\n",
    "\n",
    "\n",
    "\n",
    "# output_image = convolve(output_image, kernel_size, padding, stride, in_channels, out_channels)\n",
    "\n",
    "# Plot the kernel image\n",
    "axes[1].set_title(f'output_image:{output_image.shape}')\n",
    "axes[1].imshow(output_image.permute(1,2,0)[:,:,1])\n",
    "axes[1].axis('off')\n",
    "display_values(axes[1], output_image)\n",
    "\n",
    "# Plot the convolved result\n",
    "# output_image = convolve(output_image, kernel_size, padding, stride, in_channels, out_channels)\n",
    "\n",
    "# convolved = o[:3, :3] @ cv.kernel\n",
    "axes[2].set_title(f'output_image: {output_image.shape}')\n",
    "axes[2].imshow(output_image.permute(1,2,0)[:,:,5])\n",
    "axes[2].axis('off')\n",
    "display_values(axes[2], output_image)\n",
    "\n",
    "# Show the plots\n",
    "# output_image = convolve(output_image, kernel_size, padding, stride, in_channels, out_channels)\n",
    "\n",
    "axes[3].set_title(f'output_image:{output_image.shape}')\n",
    "axes[3].imshow(output_image.permute(1,2,0)[:,:,7])\n",
    "axes[3].axis('off')\n",
    "display_values(axes[3], output_image)\n",
    "\n",
    "# Show the plots\n",
    "plt.show()\n",
    "\n",
    "# Perform the convolution operation (assuming cv.convolve() modifies or uses the attributes appropriately)\n",
    "# cv.convolve()\n"
   ]
  },
  {
   "cell_type": "code",
   "execution_count": null,
   "metadata": {},
   "outputs": [],
   "source": []
  },
  {
   "cell_type": "code",
   "execution_count": 15,
   "metadata": {},
   "outputs": [
    {
     "name": "stdout",
     "output_type": "stream",
     "text": [
      "Input shape: torch.Size([1, 3, 28, 28])\n",
      "Output shape: torch.Size([1, 16, 28, 28])\n"
     ]
    }
   ],
   "source": [
    "import torch\n",
    "import torch.nn as nn\n",
    "\n",
    "# Define an example RGB image with size (28, 28, 3)\n",
    "input_image = torch.rand((1, 3, 28, 28))  # Batch size of 1, 3 channels (RGB), 28x28 pixels\n",
    "\n",
    "# Define a convolutional layer with 3 input channels (RGB) and 16 output channels (feature maps)\n",
    "conv_layer = nn.Conv2d(in_channels=3, out_channels=16, kernel_size=3, stride=1, padding=1)\n",
    "\n",
    "# Apply the convolutional layer\n",
    "output_image = conv_layer(input_image)\n",
    "\n",
    "print(f\"Input shape: {input_image.shape}\")  # torch.Size([1, 3, 28, 28])\n",
    "print(f\"Output shape: {output_image.shape}\")  # torch.Size([1, 16, 28, 28])"
   ]
  },
  {
   "cell_type": "markdown",
   "metadata": {},
   "source": []
  }
 ],
 "metadata": {
  "kernelspec": {
   "display_name": "noManEnv",
   "language": "python",
   "name": "python3"
  },
  "language_info": {
   "codemirror_mode": {
    "name": "ipython",
    "version": 3
   },
   "file_extension": ".py",
   "mimetype": "text/x-python",
   "name": "python",
   "nbconvert_exporter": "python",
   "pygments_lexer": "ipython3",
   "version": "3.10.14"
  }
 },
 "nbformat": 4,
 "nbformat_minor": 2
}
